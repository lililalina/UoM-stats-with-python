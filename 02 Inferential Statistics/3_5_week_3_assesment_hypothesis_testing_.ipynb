{
  "nbformat": 4,
  "nbformat_minor": 0,
  "metadata": {
    "colab": {
      "name": "3.5 week 3 assesment hypothesis testing .ipynb",
      "provenance": [],
      "mount_file_id": "1-ep51OkH6S81QB73CuimY9VREJPgkjhp",
      "authorship_tag": "ABX9TyNYiyWHSq106ViPFI5BPIwB",
      "include_colab_link": true
    },
    "kernelspec": {
      "name": "python3",
      "display_name": "Python 3"
    },
    "language_info": {
      "name": "python"
    }
  },
  "cells": [
    {
      "cell_type": "markdown",
      "metadata": {
        "id": "view-in-github",
        "colab_type": "text"
      },
      "source": [
        "<a href=\"https://colab.research.google.com/github/lililalina/UoM-stats-with-python/blob/main/02%20Inferential%20Statistics/3_5_week_3_assesment_hypothesis_testing_.ipynb\" target=\"_parent\"><img src=\"https://colab.research.google.com/assets/colab-badge.svg\" alt=\"Open In Colab\"/></a>"
      ]
    },
    {
      "cell_type": "code",
      "execution_count": null,
      "metadata": {
        "id": "LSptsqOf5pSr"
      },
      "outputs": [],
      "source": [
        ""
      ]
    },
    {
      "cell_type": "markdown",
      "source": [
        "## Hypothesis Tests in Python\n",
        "In this assessment, you will look at data from a study on toddler sleep habits. \n",
        "\n",
        "The hypothesis tests you create and the questions you answer in this Jupyter notebook will be used to answer questions in the following graded assignment."
      ],
      "metadata": {
        "id": "uKPcKrC0U6J3"
      }
    },
    {
      "cell_type": "code",
      "source": [
        "import numpy as np\n",
        "import pandas as pd\n",
        "from scipy.stats import t\n",
        "pd.set_option('display.max_columns', 30) # set so can see all columns of the DataFrame"
      ],
      "metadata": {
        "id": "fqDnQhawVF09"
      },
      "execution_count": 1,
      "outputs": []
    },
    {
      "cell_type": "markdown",
      "source": [
        "Your goal is to analyse data which is the result of a study that examined differences in a number of sleep variables between napping and non-napping toddlers. Some of these sleep variables included: Bedtime (lights-off time in decimalized time), Night Sleep Onset Time (in decimalized time), Wake Time (sleep end time in decimalized time), Night Sleep Duration (interval between sleep onset and sleep end in minutes), and Total 24-Hour Sleep Duration (in minutes). Note: Decimalized time is the representation of the time of day using units which are decimally related.\n",
        "\n",
        "The 20 study participants were healthy, normally developing toddlers with no sleep or behavioral problems. These children were categorized as napping or non-napping based upon parental report of children’s habitual sleep patterns. Researchers then verified napping status with data from actigraphy (a non-invasive method of monitoring human rest/activity cycles by wearing of a sensor on the wrist) and sleep diaries during the 5 days before the study assessments were made.\n",
        "\n",
        "You are specifically interested in the results for the Bedtime and Total 24-Hour Sleep Duration.\n",
        "\n",
        "Reference: Akacem LD, Simpkin CT, Carskadon MA, Wright KP Jr, Jenni OG, Achermann P, et al. (2015) The Timing of the Circadian Clock and Sleep Differ between Napping and Non-Napping Toddlers. PLoS ONE 10(4): e0125181. https://doi.org/10.1371/journal.pone.0125181"
      ],
      "metadata": {
        "id": "A7HYPqKIXh0M"
      }
    },
    {
      "cell_type": "code",
      "source": [
        "# Import the data\n",
        "df = pd.read_csv(\"/content/drive/MyDrive/COLAB NOTEBOOK/UoM stats with python/napping.csv\") "
      ],
      "metadata": {
        "id": "fMUdsnwEXfR_"
      },
      "execution_count": 2,
      "outputs": []
    },
    {
      "cell_type": "code",
      "source": [
        "# First, look at the DataFrame to get a sense of the data\n",
        "df"
      ],
      "metadata": {
        "colab": {
          "base_uri": "https://localhost:8080/",
          "height": 973
        },
        "id": "_AVZarPuX4Jq",
        "outputId": "9ee8f86a-3e71-4ebe-b0e8-7cd59c2672cf"
      },
      "execution_count": 3,
      "outputs": [
        {
          "output_type": "execute_result",
          "data": {
            "text/html": [
              "\n",
              "  <div id=\"df-daf541a3-8c64-4cce-8375-93ffcabe08ac\">\n",
              "    <div class=\"colab-df-container\">\n",
              "      <div>\n",
              "<style scoped>\n",
              "    .dataframe tbody tr th:only-of-type {\n",
              "        vertical-align: middle;\n",
              "    }\n",
              "\n",
              "    .dataframe tbody tr th {\n",
              "        vertical-align: top;\n",
              "    }\n",
              "\n",
              "    .dataframe thead th {\n",
              "        text-align: right;\n",
              "    }\n",
              "</style>\n",
              "<table border=\"1\" class=\"dataframe\">\n",
              "  <thead>\n",
              "    <tr style=\"text-align: right;\">\n",
              "      <th></th>\n",
              "      <th>id</th>\n",
              "      <th>sex</th>\n",
              "      <th>age (months)</th>\n",
              "      <th>dlmo time</th>\n",
              "      <th>days napped</th>\n",
              "      <th>napping</th>\n",
              "      <th>nap lights outl time</th>\n",
              "      <th>nap sleep onset</th>\n",
              "      <th>nap midsleep</th>\n",
              "      <th>nap sleep offset</th>\n",
              "      <th>nap wake time</th>\n",
              "      <th>nap duration</th>\n",
              "      <th>nap time in bed</th>\n",
              "      <th>night bedtime</th>\n",
              "      <th>night sleep onset</th>\n",
              "      <th>sleep onset latency</th>\n",
              "      <th>night midsleep time</th>\n",
              "      <th>night wake time</th>\n",
              "      <th>night sleep duration</th>\n",
              "      <th>night time in bed</th>\n",
              "      <th>24 h sleep duration</th>\n",
              "      <th>bedtime phase difference</th>\n",
              "      <th>sleep onset phase difference</th>\n",
              "      <th>midsleep phase difference</th>\n",
              "      <th>wake time phase difference</th>\n",
              "    </tr>\n",
              "  </thead>\n",
              "  <tbody>\n",
              "    <tr>\n",
              "      <th>0</th>\n",
              "      <td>1</td>\n",
              "      <td>female</td>\n",
              "      <td>33.7</td>\n",
              "      <td>19.24</td>\n",
              "      <td>0.0</td>\n",
              "      <td>0.0</td>\n",
              "      <td>NaN</td>\n",
              "      <td>NaN</td>\n",
              "      <td>NaN</td>\n",
              "      <td>NaN</td>\n",
              "      <td>NaN</td>\n",
              "      <td>NaN</td>\n",
              "      <td>NaN</td>\n",
              "      <td>20.45</td>\n",
              "      <td>20.68</td>\n",
              "      <td>0.23</td>\n",
              "      <td>1.92</td>\n",
              "      <td>7.17</td>\n",
              "      <td>629.40</td>\n",
              "      <td>643.00</td>\n",
              "      <td>629.40</td>\n",
              "      <td>-1.21</td>\n",
              "      <td>-1.44</td>\n",
              "      <td>6.68</td>\n",
              "      <td>11.93</td>\n",
              "    </tr>\n",
              "    <tr>\n",
              "      <th>1</th>\n",
              "      <td>2</td>\n",
              "      <td>female</td>\n",
              "      <td>31.5</td>\n",
              "      <td>18.27</td>\n",
              "      <td>0.0</td>\n",
              "      <td>0.0</td>\n",
              "      <td>NaN</td>\n",
              "      <td>NaN</td>\n",
              "      <td>NaN</td>\n",
              "      <td>NaN</td>\n",
              "      <td>NaN</td>\n",
              "      <td>NaN</td>\n",
              "      <td>NaN</td>\n",
              "      <td>19.23</td>\n",
              "      <td>19.48</td>\n",
              "      <td>0.25</td>\n",
              "      <td>1.09</td>\n",
              "      <td>6.69</td>\n",
              "      <td>672.40</td>\n",
              "      <td>700.40</td>\n",
              "      <td>672.40</td>\n",
              "      <td>-0.96</td>\n",
              "      <td>-1.21</td>\n",
              "      <td>6.82</td>\n",
              "      <td>12.42</td>\n",
              "    </tr>\n",
              "    <tr>\n",
              "      <th>2</th>\n",
              "      <td>3</td>\n",
              "      <td>male</td>\n",
              "      <td>31.9</td>\n",
              "      <td>19.14</td>\n",
              "      <td>0.0</td>\n",
              "      <td>0.0</td>\n",
              "      <td>NaN</td>\n",
              "      <td>NaN</td>\n",
              "      <td>NaN</td>\n",
              "      <td>NaN</td>\n",
              "      <td>NaN</td>\n",
              "      <td>NaN</td>\n",
              "      <td>NaN</td>\n",
              "      <td>19.60</td>\n",
              "      <td>20.05</td>\n",
              "      <td>0.45</td>\n",
              "      <td>1.29</td>\n",
              "      <td>6.53</td>\n",
              "      <td>628.80</td>\n",
              "      <td>682.60</td>\n",
              "      <td>628.80</td>\n",
              "      <td>-0.46</td>\n",
              "      <td>-0.91</td>\n",
              "      <td>6.15</td>\n",
              "      <td>11.39</td>\n",
              "    </tr>\n",
              "    <tr>\n",
              "      <th>3</th>\n",
              "      <td>4</td>\n",
              "      <td>female</td>\n",
              "      <td>31.6</td>\n",
              "      <td>19.69</td>\n",
              "      <td>0.0</td>\n",
              "      <td>0.0</td>\n",
              "      <td>NaN</td>\n",
              "      <td>NaN</td>\n",
              "      <td>NaN</td>\n",
              "      <td>NaN</td>\n",
              "      <td>NaN</td>\n",
              "      <td>NaN</td>\n",
              "      <td>NaN</td>\n",
              "      <td>19.46</td>\n",
              "      <td>19.50</td>\n",
              "      <td>0.05</td>\n",
              "      <td>1.89</td>\n",
              "      <td>8.28</td>\n",
              "      <td>766.60</td>\n",
              "      <td>784.00</td>\n",
              "      <td>766.60</td>\n",
              "      <td>0.23</td>\n",
              "      <td>0.19</td>\n",
              "      <td>6.20</td>\n",
              "      <td>12.59</td>\n",
              "    </tr>\n",
              "    <tr>\n",
              "      <th>4</th>\n",
              "      <td>5</td>\n",
              "      <td>female</td>\n",
              "      <td>33.0</td>\n",
              "      <td>19.52</td>\n",
              "      <td>0.0</td>\n",
              "      <td>0.0</td>\n",
              "      <td>NaN</td>\n",
              "      <td>NaN</td>\n",
              "      <td>NaN</td>\n",
              "      <td>NaN</td>\n",
              "      <td>NaN</td>\n",
              "      <td>NaN</td>\n",
              "      <td>NaN</td>\n",
              "      <td>19.21</td>\n",
              "      <td>19.65</td>\n",
              "      <td>0.45</td>\n",
              "      <td>1.30</td>\n",
              "      <td>6.95</td>\n",
              "      <td>678.00</td>\n",
              "      <td>718.00</td>\n",
              "      <td>678.00</td>\n",
              "      <td>0.31</td>\n",
              "      <td>-0.13</td>\n",
              "      <td>5.78</td>\n",
              "      <td>11.43</td>\n",
              "    </tr>\n",
              "    <tr>\n",
              "      <th>5</th>\n",
              "      <td>6</td>\n",
              "      <td>female</td>\n",
              "      <td>36.2</td>\n",
              "      <td>18.22</td>\n",
              "      <td>4.0</td>\n",
              "      <td>1.0</td>\n",
              "      <td>14.00</td>\n",
              "      <td>14.22</td>\n",
              "      <td>15.00</td>\n",
              "      <td>15.78</td>\n",
              "      <td>16.28</td>\n",
              "      <td>93.75</td>\n",
              "      <td>137.00</td>\n",
              "      <td>19.95</td>\n",
              "      <td>20.25</td>\n",
              "      <td>0.29</td>\n",
              "      <td>1.26</td>\n",
              "      <td>6.28</td>\n",
              "      <td>602.20</td>\n",
              "      <td>653.80</td>\n",
              "      <td>695.95</td>\n",
              "      <td>-1.73</td>\n",
              "      <td>-2.03</td>\n",
              "      <td>7.05</td>\n",
              "      <td>12.06</td>\n",
              "    </tr>\n",
              "    <tr>\n",
              "      <th>6</th>\n",
              "      <td>7</td>\n",
              "      <td>male</td>\n",
              "      <td>36.3</td>\n",
              "      <td>19.28</td>\n",
              "      <td>1.0</td>\n",
              "      <td>1.0</td>\n",
              "      <td>14.75</td>\n",
              "      <td>15.03</td>\n",
              "      <td>15.92</td>\n",
              "      <td>16.80</td>\n",
              "      <td>16.08</td>\n",
              "      <td>106.00</td>\n",
              "      <td>80.00</td>\n",
              "      <td>20.60</td>\n",
              "      <td>20.96</td>\n",
              "      <td>0.36</td>\n",
              "      <td>2.12</td>\n",
              "      <td>7.27</td>\n",
              "      <td>618.40</td>\n",
              "      <td>655.40</td>\n",
              "      <td>724.40</td>\n",
              "      <td>-1.32</td>\n",
              "      <td>-1.68</td>\n",
              "      <td>6.84</td>\n",
              "      <td>11.99</td>\n",
              "    </tr>\n",
              "    <tr>\n",
              "      <th>7</th>\n",
              "      <td>8</td>\n",
              "      <td>male</td>\n",
              "      <td>30.0</td>\n",
              "      <td>21.06</td>\n",
              "      <td>5.0</td>\n",
              "      <td>1.0</td>\n",
              "      <td>13.09</td>\n",
              "      <td>13.43</td>\n",
              "      <td>14.44</td>\n",
              "      <td>15.46</td>\n",
              "      <td>15.82</td>\n",
              "      <td>121.60</td>\n",
              "      <td>163.80</td>\n",
              "      <td>22.01</td>\n",
              "      <td>22.53</td>\n",
              "      <td>0.51</td>\n",
              "      <td>2.92</td>\n",
              "      <td>7.31</td>\n",
              "      <td>526.80</td>\n",
              "      <td>582.40</td>\n",
              "      <td>648.40</td>\n",
              "      <td>-0.95</td>\n",
              "      <td>-1.47</td>\n",
              "      <td>5.86</td>\n",
              "      <td>10.25</td>\n",
              "    </tr>\n",
              "    <tr>\n",
              "      <th>8</th>\n",
              "      <td>9</td>\n",
              "      <td>male</td>\n",
              "      <td>33.2</td>\n",
              "      <td>19.38</td>\n",
              "      <td>2.0</td>\n",
              "      <td>1.0</td>\n",
              "      <td>14.41</td>\n",
              "      <td>14.42</td>\n",
              "      <td>15.71</td>\n",
              "      <td>17.01</td>\n",
              "      <td>16.60</td>\n",
              "      <td>155.50</td>\n",
              "      <td>131.25</td>\n",
              "      <td>20.24</td>\n",
              "      <td>20.37</td>\n",
              "      <td>0.13</td>\n",
              "      <td>1.60</td>\n",
              "      <td>6.82</td>\n",
              "      <td>626.80</td>\n",
              "      <td>660.33</td>\n",
              "      <td>782.30</td>\n",
              "      <td>-0.86</td>\n",
              "      <td>-0.99</td>\n",
              "      <td>6.22</td>\n",
              "      <td>11.44</td>\n",
              "    </tr>\n",
              "    <tr>\n",
              "      <th>9</th>\n",
              "      <td>10</td>\n",
              "      <td>female</td>\n",
              "      <td>37.1</td>\n",
              "      <td>19.93</td>\n",
              "      <td>3.0</td>\n",
              "      <td>1.0</td>\n",
              "      <td>13.12</td>\n",
              "      <td>13.42</td>\n",
              "      <td>14.31</td>\n",
              "      <td>15.19</td>\n",
              "      <td>15.30</td>\n",
              "      <td>106.67</td>\n",
              "      <td>130.67</td>\n",
              "      <td>20.78</td>\n",
              "      <td>21.63</td>\n",
              "      <td>0.84</td>\n",
              "      <td>2.20</td>\n",
              "      <td>6.52</td>\n",
              "      <td>549.50</td>\n",
              "      <td>626.00</td>\n",
              "      <td>656.17</td>\n",
              "      <td>-0.76</td>\n",
              "      <td>-1.82</td>\n",
              "      <td>6.21</td>\n",
              "      <td>10.59</td>\n",
              "    </tr>\n",
              "    <tr>\n",
              "      <th>10</th>\n",
              "      <td>11</td>\n",
              "      <td>male</td>\n",
              "      <td>32.9</td>\n",
              "      <td>18.79</td>\n",
              "      <td>4.0</td>\n",
              "      <td>1.0</td>\n",
              "      <td>13.99</td>\n",
              "      <td>14.03</td>\n",
              "      <td>14.85</td>\n",
              "      <td>15.68</td>\n",
              "      <td>16.10</td>\n",
              "      <td>98.75</td>\n",
              "      <td>126.60</td>\n",
              "      <td>19.45</td>\n",
              "      <td>19.88</td>\n",
              "      <td>0.44</td>\n",
              "      <td>1.34</td>\n",
              "      <td>6.80</td>\n",
              "      <td>655.20</td>\n",
              "      <td>694.80</td>\n",
              "      <td>753.95</td>\n",
              "      <td>-0.66</td>\n",
              "      <td>-1.09</td>\n",
              "      <td>6.55</td>\n",
              "      <td>12.01</td>\n",
              "    </tr>\n",
              "    <tr>\n",
              "      <th>11</th>\n",
              "      <td>12</td>\n",
              "      <td>female</td>\n",
              "      <td>35.0</td>\n",
              "      <td>19.65</td>\n",
              "      <td>5.0</td>\n",
              "      <td>1.0</td>\n",
              "      <td>13.18</td>\n",
              "      <td>13.45</td>\n",
              "      <td>14.33</td>\n",
              "      <td>15.21</td>\n",
              "      <td>15.35</td>\n",
              "      <td>105.80</td>\n",
              "      <td>130.40</td>\n",
              "      <td>20.18</td>\n",
              "      <td>20.84</td>\n",
              "      <td>0.66</td>\n",
              "      <td>1.93</td>\n",
              "      <td>7.03</td>\n",
              "      <td>611.20</td>\n",
              "      <td>660.40</td>\n",
              "      <td>717.00</td>\n",
              "      <td>-0.53</td>\n",
              "      <td>-1.19</td>\n",
              "      <td>6.28</td>\n",
              "      <td>11.38</td>\n",
              "    </tr>\n",
              "    <tr>\n",
              "      <th>12</th>\n",
              "      <td>13</td>\n",
              "      <td>male</td>\n",
              "      <td>35.1</td>\n",
              "      <td>19.83</td>\n",
              "      <td>3.0</td>\n",
              "      <td>1.0</td>\n",
              "      <td>13.94</td>\n",
              "      <td>14.48</td>\n",
              "      <td>15.26</td>\n",
              "      <td>16.03</td>\n",
              "      <td>15.78</td>\n",
              "      <td>93.33</td>\n",
              "      <td>110.20</td>\n",
              "      <td>20.22</td>\n",
              "      <td>20.89</td>\n",
              "      <td>0.67</td>\n",
              "      <td>1.99</td>\n",
              "      <td>7.09</td>\n",
              "      <td>611.80</td>\n",
              "      <td>662.20</td>\n",
              "      <td>705.13</td>\n",
              "      <td>-0.39</td>\n",
              "      <td>-1.06</td>\n",
              "      <td>6.16</td>\n",
              "      <td>11.26</td>\n",
              "    </tr>\n",
              "    <tr>\n",
              "      <th>13</th>\n",
              "      <td>14</td>\n",
              "      <td>female</td>\n",
              "      <td>35.6</td>\n",
              "      <td>19.88</td>\n",
              "      <td>4.0</td>\n",
              "      <td>1.0</td>\n",
              "      <td>12.68</td>\n",
              "      <td>13.08</td>\n",
              "      <td>13.92</td>\n",
              "      <td>14.76</td>\n",
              "      <td>15.00</td>\n",
              "      <td>100.75</td>\n",
              "      <td>139.33</td>\n",
              "      <td>20.26</td>\n",
              "      <td>20.80</td>\n",
              "      <td>0.54</td>\n",
              "      <td>1.96</td>\n",
              "      <td>7.11</td>\n",
              "      <td>618.80</td>\n",
              "      <td>671.20</td>\n",
              "      <td>719.55</td>\n",
              "      <td>-0.38</td>\n",
              "      <td>-0.92</td>\n",
              "      <td>6.08</td>\n",
              "      <td>11.23</td>\n",
              "    </tr>\n",
              "    <tr>\n",
              "      <th>14</th>\n",
              "      <td>15</td>\n",
              "      <td>female</td>\n",
              "      <td>36.6</td>\n",
              "      <td>19.94</td>\n",
              "      <td>4.0</td>\n",
              "      <td>1.0</td>\n",
              "      <td>12.71</td>\n",
              "      <td>12.88</td>\n",
              "      <td>13.80</td>\n",
              "      <td>14.72</td>\n",
              "      <td>14.88</td>\n",
              "      <td>110.75</td>\n",
              "      <td>130.00</td>\n",
              "      <td>20.28</td>\n",
              "      <td>20.92</td>\n",
              "      <td>0.64</td>\n",
              "      <td>1.49</td>\n",
              "      <td>6.33</td>\n",
              "      <td>548.00</td>\n",
              "      <td>595.00</td>\n",
              "      <td>658.75</td>\n",
              "      <td>-0.34</td>\n",
              "      <td>-0.90</td>\n",
              "      <td>5.64</td>\n",
              "      <td>10.39</td>\n",
              "    </tr>\n",
              "    <tr>\n",
              "      <th>15</th>\n",
              "      <td>16</td>\n",
              "      <td>male</td>\n",
              "      <td>36.5</td>\n",
              "      <td>20.25</td>\n",
              "      <td>3.0</td>\n",
              "      <td>1.0</td>\n",
              "      <td>13.74</td>\n",
              "      <td>14.68</td>\n",
              "      <td>15.66</td>\n",
              "      <td>16.64</td>\n",
              "      <td>16.45</td>\n",
              "      <td>117.33</td>\n",
              "      <td>162.75</td>\n",
              "      <td>20.46</td>\n",
              "      <td>21.25</td>\n",
              "      <td>0.79</td>\n",
              "      <td>2.19</td>\n",
              "      <td>7.13</td>\n",
              "      <td>593.25</td>\n",
              "      <td>662.00</td>\n",
              "      <td>710.58</td>\n",
              "      <td>-0.21</td>\n",
              "      <td>-1.00</td>\n",
              "      <td>5.94</td>\n",
              "      <td>10.88</td>\n",
              "    </tr>\n",
              "    <tr>\n",
              "      <th>16</th>\n",
              "      <td>17</td>\n",
              "      <td>female</td>\n",
              "      <td>33.7</td>\n",
              "      <td>20.33</td>\n",
              "      <td>5.0</td>\n",
              "      <td>1.0</td>\n",
              "      <td>13.15</td>\n",
              "      <td>13.87</td>\n",
              "      <td>14.49</td>\n",
              "      <td>15.11</td>\n",
              "      <td>15.40</td>\n",
              "      <td>74.20</td>\n",
              "      <td>135.00</td>\n",
              "      <td>20.43</td>\n",
              "      <td>21.03</td>\n",
              "      <td>0.60</td>\n",
              "      <td>2.44</td>\n",
              "      <td>7.86</td>\n",
              "      <td>649.80</td>\n",
              "      <td>708.60</td>\n",
              "      <td>724.00</td>\n",
              "      <td>-0.10</td>\n",
              "      <td>-0.70</td>\n",
              "      <td>6.12</td>\n",
              "      <td>11.53</td>\n",
              "    </tr>\n",
              "    <tr>\n",
              "      <th>17</th>\n",
              "      <td>18</td>\n",
              "      <td>male</td>\n",
              "      <td>36.4</td>\n",
              "      <td>20.16</td>\n",
              "      <td>5.0</td>\n",
              "      <td>1.0</td>\n",
              "      <td>12.47</td>\n",
              "      <td>12.56</td>\n",
              "      <td>13.30</td>\n",
              "      <td>14.05</td>\n",
              "      <td>14.25</td>\n",
              "      <td>89.80</td>\n",
              "      <td>107.00</td>\n",
              "      <td>20.02</td>\n",
              "      <td>20.45</td>\n",
              "      <td>0.43</td>\n",
              "      <td>1.23</td>\n",
              "      <td>6.01</td>\n",
              "      <td>573.60</td>\n",
              "      <td>614.60</td>\n",
              "      <td>663.40</td>\n",
              "      <td>0.14</td>\n",
              "      <td>-0.29</td>\n",
              "      <td>5.07</td>\n",
              "      <td>9.85</td>\n",
              "    </tr>\n",
              "    <tr>\n",
              "      <th>18</th>\n",
              "      <td>19</td>\n",
              "      <td>female</td>\n",
              "      <td>33.6</td>\n",
              "      <td>19.68</td>\n",
              "      <td>3.0</td>\n",
              "      <td>1.0</td>\n",
              "      <td>14.71</td>\n",
              "      <td>14.85</td>\n",
              "      <td>15.46</td>\n",
              "      <td>16.07</td>\n",
              "      <td>16.20</td>\n",
              "      <td>73.00</td>\n",
              "      <td>89.40</td>\n",
              "      <td>19.50</td>\n",
              "      <td>19.64</td>\n",
              "      <td>0.14</td>\n",
              "      <td>1.42</td>\n",
              "      <td>7.20</td>\n",
              "      <td>693.40</td>\n",
              "      <td>715.00</td>\n",
              "      <td>766.40</td>\n",
              "      <td>0.18</td>\n",
              "      <td>0.04</td>\n",
              "      <td>5.74</td>\n",
              "      <td>11.52</td>\n",
              "    </tr>\n",
              "    <tr>\n",
              "      <th>19</th>\n",
              "      <td>20</td>\n",
              "      <td>male</td>\n",
              "      <td>33.8</td>\n",
              "      <td>20.51</td>\n",
              "      <td>3.0</td>\n",
              "      <td>1.0</td>\n",
              "      <td>12.68</td>\n",
              "      <td>13.54</td>\n",
              "      <td>14.30</td>\n",
              "      <td>15.07</td>\n",
              "      <td>15.23</td>\n",
              "      <td>91.67</td>\n",
              "      <td>152.67</td>\n",
              "      <td>20.18</td>\n",
              "      <td>21.38</td>\n",
              "      <td>1.19</td>\n",
              "      <td>2.51</td>\n",
              "      <td>7.63</td>\n",
              "      <td>615.33</td>\n",
              "      <td>692.00</td>\n",
              "      <td>707.00</td>\n",
              "      <td>0.33</td>\n",
              "      <td>-0.87</td>\n",
              "      <td>6.00</td>\n",
              "      <td>11.12</td>\n",
              "    </tr>\n",
              "    <tr>\n",
              "      <th>20</th>\n",
              "      <td>NaN</td>\n",
              "      <td>NaN</td>\n",
              "      <td>NaN</td>\n",
              "      <td>NaN</td>\n",
              "      <td>NaN</td>\n",
              "      <td>NaN</td>\n",
              "      <td>NaN</td>\n",
              "      <td>NaN</td>\n",
              "      <td>NaN</td>\n",
              "      <td>NaN</td>\n",
              "      <td>NaN</td>\n",
              "      <td>NaN</td>\n",
              "      <td>NaN</td>\n",
              "      <td>NaN</td>\n",
              "      <td>NaN</td>\n",
              "      <td>NaN</td>\n",
              "      <td>NaN</td>\n",
              "      <td>NaN</td>\n",
              "      <td>NaN</td>\n",
              "      <td>NaN</td>\n",
              "      <td>NaN</td>\n",
              "      <td>NaN</td>\n",
              "      <td>NaN</td>\n",
              "      <td>NaN</td>\n",
              "      <td>NaN</td>\n",
              "    </tr>\n",
              "    <tr>\n",
              "      <th>21</th>\n",
              "      <td>0 = no; 1 = yes</td>\n",
              "      <td>NaN</td>\n",
              "      <td>NaN</td>\n",
              "      <td>NaN</td>\n",
              "      <td>NaN</td>\n",
              "      <td>NaN</td>\n",
              "      <td>NaN</td>\n",
              "      <td>NaN</td>\n",
              "      <td>NaN</td>\n",
              "      <td>NaN</td>\n",
              "      <td>NaN</td>\n",
              "      <td>NaN</td>\n",
              "      <td>NaN</td>\n",
              "      <td>NaN</td>\n",
              "      <td>NaN</td>\n",
              "      <td>NaN</td>\n",
              "      <td>NaN</td>\n",
              "      <td>NaN</td>\n",
              "      <td>NaN</td>\n",
              "      <td>NaN</td>\n",
              "      <td>NaN</td>\n",
              "      <td>NaN</td>\n",
              "      <td>NaN</td>\n",
              "      <td>NaN</td>\n",
              "      <td>NaN</td>\n",
              "    </tr>\n",
              "    <tr>\n",
              "      <th>22</th>\n",
              "      <td>all times are decimal values</td>\n",
              "      <td>NaN</td>\n",
              "      <td>NaN</td>\n",
              "      <td>NaN</td>\n",
              "      <td>NaN</td>\n",
              "      <td>NaN</td>\n",
              "      <td>NaN</td>\n",
              "      <td>NaN</td>\n",
              "      <td>NaN</td>\n",
              "      <td>NaN</td>\n",
              "      <td>NaN</td>\n",
              "      <td>NaN</td>\n",
              "      <td>NaN</td>\n",
              "      <td>NaN</td>\n",
              "      <td>NaN</td>\n",
              "      <td>NaN</td>\n",
              "      <td>NaN</td>\n",
              "      <td>NaN</td>\n",
              "      <td>NaN</td>\n",
              "      <td>NaN</td>\n",
              "      <td>NaN</td>\n",
              "      <td>NaN</td>\n",
              "      <td>NaN</td>\n",
              "      <td>NaN</td>\n",
              "      <td>NaN</td>\n",
              "    </tr>\n",
              "  </tbody>\n",
              "</table>\n",
              "</div>\n",
              "      <button class=\"colab-df-convert\" onclick=\"convertToInteractive('df-daf541a3-8c64-4cce-8375-93ffcabe08ac')\"\n",
              "              title=\"Convert this dataframe to an interactive table.\"\n",
              "              style=\"display:none;\">\n",
              "        \n",
              "  <svg xmlns=\"http://www.w3.org/2000/svg\" height=\"24px\"viewBox=\"0 0 24 24\"\n",
              "       width=\"24px\">\n",
              "    <path d=\"M0 0h24v24H0V0z\" fill=\"none\"/>\n",
              "    <path d=\"M18.56 5.44l.94 2.06.94-2.06 2.06-.94-2.06-.94-.94-2.06-.94 2.06-2.06.94zm-11 1L8.5 8.5l.94-2.06 2.06-.94-2.06-.94L8.5 2.5l-.94 2.06-2.06.94zm10 10l.94 2.06.94-2.06 2.06-.94-2.06-.94-.94-2.06-.94 2.06-2.06.94z\"/><path d=\"M17.41 7.96l-1.37-1.37c-.4-.4-.92-.59-1.43-.59-.52 0-1.04.2-1.43.59L10.3 9.45l-7.72 7.72c-.78.78-.78 2.05 0 2.83L4 21.41c.39.39.9.59 1.41.59.51 0 1.02-.2 1.41-.59l7.78-7.78 2.81-2.81c.8-.78.8-2.07 0-2.86zM5.41 20L4 18.59l7.72-7.72 1.47 1.35L5.41 20z\"/>\n",
              "  </svg>\n",
              "      </button>\n",
              "      \n",
              "  <style>\n",
              "    .colab-df-container {\n",
              "      display:flex;\n",
              "      flex-wrap:wrap;\n",
              "      gap: 12px;\n",
              "    }\n",
              "\n",
              "    .colab-df-convert {\n",
              "      background-color: #E8F0FE;\n",
              "      border: none;\n",
              "      border-radius: 50%;\n",
              "      cursor: pointer;\n",
              "      display: none;\n",
              "      fill: #1967D2;\n",
              "      height: 32px;\n",
              "      padding: 0 0 0 0;\n",
              "      width: 32px;\n",
              "    }\n",
              "\n",
              "    .colab-df-convert:hover {\n",
              "      background-color: #E2EBFA;\n",
              "      box-shadow: 0px 1px 2px rgba(60, 64, 67, 0.3), 0px 1px 3px 1px rgba(60, 64, 67, 0.15);\n",
              "      fill: #174EA6;\n",
              "    }\n",
              "\n",
              "    [theme=dark] .colab-df-convert {\n",
              "      background-color: #3B4455;\n",
              "      fill: #D2E3FC;\n",
              "    }\n",
              "\n",
              "    [theme=dark] .colab-df-convert:hover {\n",
              "      background-color: #434B5C;\n",
              "      box-shadow: 0px 1px 3px 1px rgba(0, 0, 0, 0.15);\n",
              "      filter: drop-shadow(0px 1px 2px rgba(0, 0, 0, 0.3));\n",
              "      fill: #FFFFFF;\n",
              "    }\n",
              "  </style>\n",
              "\n",
              "      <script>\n",
              "        const buttonEl =\n",
              "          document.querySelector('#df-daf541a3-8c64-4cce-8375-93ffcabe08ac button.colab-df-convert');\n",
              "        buttonEl.style.display =\n",
              "          google.colab.kernel.accessAllowed ? 'block' : 'none';\n",
              "\n",
              "        async function convertToInteractive(key) {\n",
              "          const element = document.querySelector('#df-daf541a3-8c64-4cce-8375-93ffcabe08ac');\n",
              "          const dataTable =\n",
              "            await google.colab.kernel.invokeFunction('convertToInteractive',\n",
              "                                                     [key], {});\n",
              "          if (!dataTable) return;\n",
              "\n",
              "          const docLinkHtml = 'Like what you see? Visit the ' +\n",
              "            '<a target=\"_blank\" href=https://colab.research.google.com/notebooks/data_table.ipynb>data table notebook</a>'\n",
              "            + ' to learn more about interactive tables.';\n",
              "          element.innerHTML = '';\n",
              "          dataTable['output_type'] = 'display_data';\n",
              "          await google.colab.output.renderOutput(dataTable, element);\n",
              "          const docLink = document.createElement('div');\n",
              "          docLink.innerHTML = docLinkHtml;\n",
              "          element.appendChild(docLink);\n",
              "        }\n",
              "      </script>\n",
              "    </div>\n",
              "  </div>\n",
              "  "
            ],
            "text/plain": [
              "                              id     sex  age (months)  dlmo time  \\\n",
              "0                              1  female          33.7      19.24   \n",
              "1                              2  female          31.5      18.27   \n",
              "2                              3    male          31.9      19.14   \n",
              "3                              4  female          31.6      19.69   \n",
              "4                              5  female          33.0      19.52   \n",
              "5                              6  female          36.2      18.22   \n",
              "6                              7    male          36.3      19.28   \n",
              "7                              8    male          30.0      21.06   \n",
              "8                              9    male          33.2      19.38   \n",
              "9                             10  female          37.1      19.93   \n",
              "10                            11    male          32.9      18.79   \n",
              "11                            12  female          35.0      19.65   \n",
              "12                            13    male          35.1      19.83   \n",
              "13                            14  female          35.6      19.88   \n",
              "14                            15  female          36.6      19.94   \n",
              "15                            16    male          36.5      20.25   \n",
              "16                            17  female          33.7      20.33   \n",
              "17                            18    male          36.4      20.16   \n",
              "18                            19  female          33.6      19.68   \n",
              "19                            20    male          33.8      20.51   \n",
              "20                           NaN     NaN           NaN        NaN   \n",
              "21               0 = no; 1 = yes     NaN           NaN        NaN   \n",
              "22  all times are decimal values     NaN           NaN        NaN   \n",
              "\n",
              "    days napped  napping  nap lights outl time  nap sleep onset  nap midsleep  \\\n",
              "0           0.0      0.0                   NaN              NaN           NaN   \n",
              "1           0.0      0.0                   NaN              NaN           NaN   \n",
              "2           0.0      0.0                   NaN              NaN           NaN   \n",
              "3           0.0      0.0                   NaN              NaN           NaN   \n",
              "4           0.0      0.0                   NaN              NaN           NaN   \n",
              "5           4.0      1.0                 14.00            14.22         15.00   \n",
              "6           1.0      1.0                 14.75            15.03         15.92   \n",
              "7           5.0      1.0                 13.09            13.43         14.44   \n",
              "8           2.0      1.0                 14.41            14.42         15.71   \n",
              "9           3.0      1.0                 13.12            13.42         14.31   \n",
              "10          4.0      1.0                 13.99            14.03         14.85   \n",
              "11          5.0      1.0                 13.18            13.45         14.33   \n",
              "12          3.0      1.0                 13.94            14.48         15.26   \n",
              "13          4.0      1.0                 12.68            13.08         13.92   \n",
              "14          4.0      1.0                 12.71            12.88         13.80   \n",
              "15          3.0      1.0                 13.74            14.68         15.66   \n",
              "16          5.0      1.0                 13.15            13.87         14.49   \n",
              "17          5.0      1.0                 12.47            12.56         13.30   \n",
              "18          3.0      1.0                 14.71            14.85         15.46   \n",
              "19          3.0      1.0                 12.68            13.54         14.30   \n",
              "20          NaN      NaN                   NaN              NaN           NaN   \n",
              "21          NaN      NaN                   NaN              NaN           NaN   \n",
              "22          NaN      NaN                   NaN              NaN           NaN   \n",
              "\n",
              "    nap sleep offset  nap wake time  nap duration  nap time in bed  \\\n",
              "0                NaN            NaN           NaN              NaN   \n",
              "1                NaN            NaN           NaN              NaN   \n",
              "2                NaN            NaN           NaN              NaN   \n",
              "3                NaN            NaN           NaN              NaN   \n",
              "4                NaN            NaN           NaN              NaN   \n",
              "5              15.78          16.28         93.75           137.00   \n",
              "6              16.80          16.08        106.00            80.00   \n",
              "7              15.46          15.82        121.60           163.80   \n",
              "8              17.01          16.60        155.50           131.25   \n",
              "9              15.19          15.30        106.67           130.67   \n",
              "10             15.68          16.10         98.75           126.60   \n",
              "11             15.21          15.35        105.80           130.40   \n",
              "12             16.03          15.78         93.33           110.20   \n",
              "13             14.76          15.00        100.75           139.33   \n",
              "14             14.72          14.88        110.75           130.00   \n",
              "15             16.64          16.45        117.33           162.75   \n",
              "16             15.11          15.40         74.20           135.00   \n",
              "17             14.05          14.25         89.80           107.00   \n",
              "18             16.07          16.20         73.00            89.40   \n",
              "19             15.07          15.23         91.67           152.67   \n",
              "20               NaN            NaN           NaN              NaN   \n",
              "21               NaN            NaN           NaN              NaN   \n",
              "22               NaN            NaN           NaN              NaN   \n",
              "\n",
              "    night bedtime  night sleep onset  sleep onset latency  \\\n",
              "0           20.45              20.68                 0.23   \n",
              "1           19.23              19.48                 0.25   \n",
              "2           19.60              20.05                 0.45   \n",
              "3           19.46              19.50                 0.05   \n",
              "4           19.21              19.65                 0.45   \n",
              "5           19.95              20.25                 0.29   \n",
              "6           20.60              20.96                 0.36   \n",
              "7           22.01              22.53                 0.51   \n",
              "8           20.24              20.37                 0.13   \n",
              "9           20.78              21.63                 0.84   \n",
              "10          19.45              19.88                 0.44   \n",
              "11          20.18              20.84                 0.66   \n",
              "12          20.22              20.89                 0.67   \n",
              "13          20.26              20.80                 0.54   \n",
              "14          20.28              20.92                 0.64   \n",
              "15          20.46              21.25                 0.79   \n",
              "16          20.43              21.03                 0.60   \n",
              "17          20.02              20.45                 0.43   \n",
              "18          19.50              19.64                 0.14   \n",
              "19          20.18              21.38                 1.19   \n",
              "20            NaN                NaN                  NaN   \n",
              "21            NaN                NaN                  NaN   \n",
              "22            NaN                NaN                  NaN   \n",
              "\n",
              "    night midsleep time  night wake time  night sleep duration  \\\n",
              "0                  1.92             7.17                629.40   \n",
              "1                  1.09             6.69                672.40   \n",
              "2                  1.29             6.53                628.80   \n",
              "3                  1.89             8.28                766.60   \n",
              "4                  1.30             6.95                678.00   \n",
              "5                  1.26             6.28                602.20   \n",
              "6                  2.12             7.27                618.40   \n",
              "7                  2.92             7.31                526.80   \n",
              "8                  1.60             6.82                626.80   \n",
              "9                  2.20             6.52                549.50   \n",
              "10                 1.34             6.80                655.20   \n",
              "11                 1.93             7.03                611.20   \n",
              "12                 1.99             7.09                611.80   \n",
              "13                 1.96             7.11                618.80   \n",
              "14                 1.49             6.33                548.00   \n",
              "15                 2.19             7.13                593.25   \n",
              "16                 2.44             7.86                649.80   \n",
              "17                 1.23             6.01                573.60   \n",
              "18                 1.42             7.20                693.40   \n",
              "19                 2.51             7.63                615.33   \n",
              "20                  NaN              NaN                   NaN   \n",
              "21                  NaN              NaN                   NaN   \n",
              "22                  NaN              NaN                   NaN   \n",
              "\n",
              "    night time in bed  24 h sleep duration  bedtime phase difference  \\\n",
              "0              643.00               629.40                     -1.21   \n",
              "1              700.40               672.40                     -0.96   \n",
              "2              682.60               628.80                     -0.46   \n",
              "3              784.00               766.60                      0.23   \n",
              "4              718.00               678.00                      0.31   \n",
              "5              653.80               695.95                     -1.73   \n",
              "6              655.40               724.40                     -1.32   \n",
              "7              582.40               648.40                     -0.95   \n",
              "8              660.33               782.30                     -0.86   \n",
              "9              626.00               656.17                     -0.76   \n",
              "10             694.80               753.95                     -0.66   \n",
              "11             660.40               717.00                     -0.53   \n",
              "12             662.20               705.13                     -0.39   \n",
              "13             671.20               719.55                     -0.38   \n",
              "14             595.00               658.75                     -0.34   \n",
              "15             662.00               710.58                     -0.21   \n",
              "16             708.60               724.00                     -0.10   \n",
              "17             614.60               663.40                      0.14   \n",
              "18             715.00               766.40                      0.18   \n",
              "19             692.00               707.00                      0.33   \n",
              "20                NaN                  NaN                       NaN   \n",
              "21                NaN                  NaN                       NaN   \n",
              "22                NaN                  NaN                       NaN   \n",
              "\n",
              "    sleep onset phase difference  midsleep phase difference  \\\n",
              "0                          -1.44                       6.68   \n",
              "1                          -1.21                       6.82   \n",
              "2                          -0.91                       6.15   \n",
              "3                           0.19                       6.20   \n",
              "4                          -0.13                       5.78   \n",
              "5                          -2.03                       7.05   \n",
              "6                          -1.68                       6.84   \n",
              "7                          -1.47                       5.86   \n",
              "8                          -0.99                       6.22   \n",
              "9                          -1.82                       6.21   \n",
              "10                         -1.09                       6.55   \n",
              "11                         -1.19                       6.28   \n",
              "12                         -1.06                       6.16   \n",
              "13                         -0.92                       6.08   \n",
              "14                         -0.90                       5.64   \n",
              "15                         -1.00                       5.94   \n",
              "16                         -0.70                       6.12   \n",
              "17                         -0.29                       5.07   \n",
              "18                          0.04                       5.74   \n",
              "19                         -0.87                       6.00   \n",
              "20                           NaN                        NaN   \n",
              "21                           NaN                        NaN   \n",
              "22                           NaN                        NaN   \n",
              "\n",
              "    wake time phase difference  \n",
              "0                        11.93  \n",
              "1                        12.42  \n",
              "2                        11.39  \n",
              "3                        12.59  \n",
              "4                        11.43  \n",
              "5                        12.06  \n",
              "6                        11.99  \n",
              "7                        10.25  \n",
              "8                        11.44  \n",
              "9                        10.59  \n",
              "10                       12.01  \n",
              "11                       11.38  \n",
              "12                       11.26  \n",
              "13                       11.23  \n",
              "14                       10.39  \n",
              "15                       10.88  \n",
              "16                       11.53  \n",
              "17                        9.85  \n",
              "18                       11.52  \n",
              "19                       11.12  \n",
              "20                         NaN  \n",
              "21                         NaN  \n",
              "22                         NaN  "
            ]
          },
          "metadata": {},
          "execution_count": 3
        }
      ]
    },
    {
      "cell_type": "markdown",
      "source": [
        "**Question**: What value is used in the column 'napping' to indicate a toddler takes a nap? (see reference article) \n",
        "**Answer** : napping = 1, no napping = 0\n",
        "\n",
        "\n",
        "**Questions**: What is the overall sample size $n$? What are the sample sizes of napping and non-napping toddlers?\n",
        "**Answer** : napping = 15, non-napping = 5"
      ],
      "metadata": {
        "id": "5ATfQWPHX-f3"
      }
    },
    {
      "cell_type": "markdown",
      "source": [
        "## Hypothesis tests\n",
        "We will look at two hypothesis test, each with $\\alpha = .05$:  \n",
        "\n",
        "\n",
        "1. Is the average bedtime for toddlers who nap later than the average bedtime for toddlers who don't nap?\n",
        "\n",
        "\n",
        "$$H_0: \\mu_{nap}=\\mu_{no\\ nap}, \\ H_a:\\mu_{nap}>\\mu_{no\\ nap}$$\n",
        "Or equivalently:\n",
        "$$H_0: \\mu_{nap}-\\mu_{no\\ nap}=0, \\ H_a:\\mu_{nap}-\\mu_{no\\ nap}>0$$\n",
        "\n",
        "\n",
        "2. The average 24 h sleep duration (in minutes) for napping toddlers is different from toddlers who don't nap.\n",
        "\n",
        "\n",
        "$$H_0: \\mu_{nap}=\\mu_{no\\ nap}, \\ H_a:\\mu_{nap}\\neq\\mu_{no\\ nap}$$\n",
        "Or equivalently:\n",
        "$$H_0: \\mu_{nap}-\\mu_{no\\ nap}=0, \\ H_a:\\mu_{nap}-\\mu_{no\\ nap} \\neq 0$$\n",
        "\n",
        "First isolate `night bedtime` into two variables - one for toddlers who nap and one for toddlers who do not nap."
      ],
      "metadata": {
        "id": "l9k2BDUNYGF2"
      }
    },
    {
      "cell_type": "code",
      "source": [
        "nap_bedtime = df['night bedtime'][df['napping'] == 1]\n",
        "nap_bedtime"
      ],
      "metadata": {
        "colab": {
          "base_uri": "https://localhost:8080/"
        },
        "id": "1byuqa1SX7an",
        "outputId": "e55b47d9-0593-42a2-ee51-227ebd0a75b2"
      },
      "execution_count": 4,
      "outputs": [
        {
          "output_type": "execute_result",
          "data": {
            "text/plain": [
              "5     19.95\n",
              "6     20.60\n",
              "7     22.01\n",
              "8     20.24\n",
              "9     20.78\n",
              "10    19.45\n",
              "11    20.18\n",
              "12    20.22\n",
              "13    20.26\n",
              "14    20.28\n",
              "15    20.46\n",
              "16    20.43\n",
              "17    20.02\n",
              "18    19.50\n",
              "19    20.18\n",
              "Name: night bedtime, dtype: float64"
            ]
          },
          "metadata": {},
          "execution_count": 4
        }
      ]
    },
    {
      "cell_type": "code",
      "source": [
        "no_nap_bedtime = df['night bedtime'][df['napping'] == 0]\n",
        "no_nap_bedtime"
      ],
      "metadata": {
        "colab": {
          "base_uri": "https://localhost:8080/"
        },
        "id": "cZAMq8H-ZNVT",
        "outputId": "4e96bf2b-a6b1-4df5-f7a4-9935928254e7"
      },
      "execution_count": 5,
      "outputs": [
        {
          "output_type": "execute_result",
          "data": {
            "text/plain": [
              "0    20.45\n",
              "1    19.23\n",
              "2    19.60\n",
              "3    19.46\n",
              "4    19.21\n",
              "Name: night bedtime, dtype: float64"
            ]
          },
          "metadata": {},
          "execution_count": 5
        }
      ]
    },
    {
      "cell_type": "code",
      "source": [
        "#nap bedtime mean\n",
        "nap_bedtime_mean = nap_bedtime.mean()\n",
        "nap_bedtime_mean"
      ],
      "metadata": {
        "colab": {
          "base_uri": "https://localhost:8080/"
        },
        "id": "9YFj5RsQYl9Z",
        "outputId": "49d9c044-7448-43f7-c5c2-a9717ca70ea7"
      },
      "execution_count": 6,
      "outputs": [
        {
          "output_type": "execute_result",
          "data": {
            "text/plain": [
              "20.304"
            ]
          },
          "metadata": {},
          "execution_count": 6
        }
      ]
    },
    {
      "cell_type": "code",
      "source": [
        "# no nap bedtime mean\n",
        "no_nap_bedtime_mean = no_nap_bedtime.mean()\n",
        "no_nap_bedtime_mean"
      ],
      "metadata": {
        "colab": {
          "base_uri": "https://localhost:8080/"
        },
        "id": "tSeC63JsZc-1",
        "outputId": "6956de37-a82c-4760-e17c-468a286e1c9b"
      },
      "execution_count": 7,
      "outputs": [
        {
          "output_type": "execute_result",
          "data": {
            "text/plain": [
              "19.590000000000003"
            ]
          },
          "metadata": {},
          "execution_count": 7
        }
      ]
    },
    {
      "cell_type": "markdown",
      "source": [
        "**Question**: What is the sample difference of mean bedtime for nappers minus no nappers?"
      ],
      "metadata": {
        "id": "pB7dEstuaHcI"
      }
    },
    {
      "cell_type": "code",
      "source": [
        "mean_dif = nap_bedtime_mean - no_nap_bedtime_mean\n",
        "mean_dif"
      ],
      "metadata": {
        "colab": {
          "base_uri": "https://localhost:8080/"
        },
        "id": "v65HOnX-Zjv9",
        "outputId": "9a7e09dd-d10a-42e3-b417-8234e63087cc"
      },
      "execution_count": 8,
      "outputs": [
        {
          "output_type": "execute_result",
          "data": {
            "text/plain": [
              "0.7139999999999951"
            ]
          },
          "metadata": {},
          "execution_count": 8
        }
      ]
    },
    {
      "cell_type": "markdown",
      "source": [
        "Standard deviation for $X_{nap}$ and $X_{no\\ nap}$."
      ],
      "metadata": {
        "id": "QiVBDtCJab_X"
      }
    },
    {
      "cell_type": "code",
      "source": [
        "# use ddof parameter 1 to get sample standard deviation\n",
        "nap_s_bedtime = np.std(nap_bedtime, ddof = 1)\n",
        "nap_s_bedtime"
      ],
      "metadata": {
        "colab": {
          "base_uri": "https://localhost:8080/"
        },
        "id": "8anOd-7uaO3V",
        "outputId": "cfd46045-b2cb-4747-85e2-c6cddf28a7c5"
      },
      "execution_count": 9,
      "outputs": [
        {
          "output_type": "execute_result",
          "data": {
            "text/plain": [
              "0.5910619981984009"
            ]
          },
          "metadata": {},
          "execution_count": 9
        }
      ]
    },
    {
      "cell_type": "code",
      "source": [
        "no_nap_s_bedtime = np.std(no_nap_bedtime, ddof = 1)\n",
        "no_nap_s_bedtime"
      ],
      "metadata": {
        "colab": {
          "base_uri": "https://localhost:8080/"
        },
        "id": "xZDx_rMob3b9",
        "outputId": "6fade230-935a-4eb7-ab79-82cf645b631c"
      },
      "execution_count": 10,
      "outputs": [
        {
          "output_type": "execute_result",
          "data": {
            "text/plain": [
              "0.5075923561284187"
            ]
          },
          "metadata": {},
          "execution_count": 10
        }
      ]
    },
    {
      "cell_type": "markdown",
      "source": [
        "**Question**: What is the s.e.$(\\bar{X}_{nap} - \\bar{X}_{no\\ nap})$?\n",
        "\n",
        "We expect the variance in sleep time for toddlers who nap and toddlers who don't nap to be the same. So we use a pooled standard error.\n",
        "\n",
        "Calculate the pooled standard error of $\\bar{X}_{nap} - \\bar{X}_{no\\ nap}$ using the formula below.\n",
        "\n",
        "$s.e.(\\bar{X}_{nap} - \\bar{X}_{no\\ nap}) = \\sqrt{\\frac{(n_1-1)s_1^2 + (n_2-1)s_2^2}{n_1+n_2-2}(\\frac{1}{n_1}+\\frac{1}{n_2})}$"
      ],
      "metadata": {
        "id": "SX-mWYpAcIl4"
      }
    },
    {
      "cell_type": "code",
      "source": [
        "a = (15-1)*nap_s_bedtime**2\n",
        "b = (5-1)*no_nap_s_bedtime**2\n",
        "c = (1/15)+(1/5)\n",
        "pooled_se = np.sqrt(((a+b)/18)*c)\n",
        "pooled_se"
      ],
      "metadata": {
        "colab": {
          "base_uri": "https://localhost:8080/"
        },
        "id": "lVBxoI5Ob_sP",
        "outputId": "2c294e6e-1a5d-450f-e48b-050780778c54"
      },
      "execution_count": 11,
      "outputs": [
        {
          "output_type": "execute_result",
          "data": {
            "text/plain": [
              "0.2961871280370147"
            ]
          },
          "metadata": {},
          "execution_count": 11
        }
      ]
    },
    {
      "cell_type": "markdown",
      "source": [
        "**Question**: Given our sample size of $n$, how many degrees of freedom ($df$) are there for the associated $t$ distribution?\n",
        "\n",
        "Answer : 18\n",
        "\n",
        "\n",
        "Now calculate the $t$-test statistic for our first hypothesis test using  \n",
        "* pooled s.e.($\\bar{X}_{nap} - \\bar{X}_{no\\ nap}$)  \n",
        "* $\\bar{X}_{nap} - \\bar{X}_{no\\ nap}$  \n",
        "* $\\mu_{0,\\ nap} - \\mu_{0,\\ no\\ nap}=0$, the population difference in means under the null hypothesis"
      ],
      "metadata": {
        "id": "7ljHYjfUdhrW"
      }
    },
    {
      "cell_type": "code",
      "source": [
        "tstats = (mean_dif - 0)/pooled_se\n",
        "tstats"
      ],
      "metadata": {
        "colab": {
          "base_uri": "https://localhost:8080/"
        },
        "id": "WHE-UeszdMZl",
        "outputId": "f31d3ac6-fdf9-44ae-b13c-d9b3de312d26"
      },
      "execution_count": 12,
      "outputs": [
        {
          "output_type": "execute_result",
          "data": {
            "text/plain": [
              "2.4106381824626966"
            ]
          },
          "metadata": {},
          "execution_count": 12
        }
      ]
    },
    {
      "cell_type": "markdown",
      "source": [
        "**Question**: What is the p-value for the first hypothesis test?\n",
        "\n",
        "For a discussion of probability density functions (PDF) and cumulative distribution functions (CDF) see:\n",
        "\n",
        "https://integratedmlai.com/normal-distribution-an-introductory-guide-to-pdf-and-cdf/\n",
        "\n",
        "To find the p-value, we can use the CDF for the t-distribution:\n",
        "```\n",
        "t.cdf(tstat, df)\n",
        "```\n",
        "Which for $X \\sim t(df)$ returns $P(X \\leq tstat)$.\n",
        "\n",
        "Because of the symmetry of the $t$ distribution, we have that \n",
        "```\n",
        "1 - t.cdf(tstat, df)\n",
        "```\n",
        "returns $P(X > tstat)$\n",
        "\n",
        "The function `t.cdf(tstat, df)` will give you the same value as finding the one-tailed probability of `tstat` on a t-table with the specified degrees of freedom.\n",
        "\n",
        "Use the function `t.cdf(tstat, df)` to find the p-value for the first hypothesis test."
      ],
      "metadata": {
        "id": "k1IvgPfSjYKr"
      }
    },
    {
      "cell_type": "code",
      "source": [
        "t.cdf(tstats, 18) #find the cdf (pvalue, just 1-t.cdf(tstats,df))"
      ],
      "metadata": {
        "colab": {
          "base_uri": "https://localhost:8080/"
        },
        "id": "WAamY0FDiztt",
        "outputId": "d09a712c-e306-497a-d50d-0068c8c79dd4"
      },
      "execution_count": 26,
      "outputs": [
        {
          "output_type": "execute_result",
          "data": {
            "text/plain": [
              "0.986582958561157"
            ]
          },
          "metadata": {},
          "execution_count": 26
        }
      ]
    },
    {
      "cell_type": "code",
      "source": [
        "1-t.cdf(tstats, 18)"
      ],
      "metadata": {
        "colab": {
          "base_uri": "https://localhost:8080/"
        },
        "id": "nPk0BA784RRa",
        "outputId": "877b18aa-d698-44da-8762-bf45a5d887a7"
      },
      "execution_count": 27,
      "outputs": [
        {
          "output_type": "execute_result",
          "data": {
            "text/plain": [
              "0.013417041438843036"
            ]
          },
          "metadata": {},
          "execution_count": 27
        }
      ]
    },
    {
      "cell_type": "code",
      "source": [
        "from scipy import stats\n",
        "import scipy"
      ],
      "metadata": {
        "id": "1nGgAuS_jhmN"
      },
      "execution_count": 14,
      "outputs": []
    },
    {
      "cell_type": "code",
      "source": [
        "scipy.stats.ttest_ind(nap_bedtime, no_nap_bedtime, equal_var = True) #pvalue result for two-sided test"
      ],
      "metadata": {
        "colab": {
          "base_uri": "https://localhost:8080/"
        },
        "id": "Goayom57pLr5",
        "outputId": "3a4a7558-e4c6-46d2-94b3-ca42a7646506"
      },
      "execution_count": 15,
      "outputs": [
        {
          "output_type": "execute_result",
          "data": {
            "text/plain": [
              "Ttest_indResult(statistic=2.4106381824626966, pvalue=0.026834082877686044)"
            ]
          },
          "metadata": {},
          "execution_count": 15
        }
      ]
    },
    {
      "cell_type": "code",
      "source": [
        "# to get one-sided test, we need to divide the pvalue above with 2\n",
        "pvalue_oneside = 0.026834082877686044/2\n",
        "pvalue_oneside"
      ],
      "metadata": {
        "colab": {
          "base_uri": "https://localhost:8080/"
        },
        "id": "92ZIB6n4vyfi",
        "outputId": "ecac2956-c2ca-42c0-a077-69e044324f0f"
      },
      "execution_count": 16,
      "outputs": [
        {
          "output_type": "execute_result",
          "data": {
            "text/plain": [
              "0.013417041438843022"
            ]
          },
          "metadata": {},
          "execution_count": 16
        }
      ]
    },
    {
      "cell_type": "markdown",
      "source": [
        "**Question**: For the $\\alpha=.05$, do you reject or fail to reject the first hypothesis?\n",
        "\n",
        "For the first hypothesis, p_value is 0.026 which is < alpha of 0.05. So we reject the null hypothesis. Therefore, night bedtime in children who nap is less or equal to the children who doesn't nap."
      ],
      "metadata": {
        "id": "fYpo-kvOqbSU"
      }
    },
    {
      "cell_type": "markdown",
      "source": [
        "2. The average 24 h sleep duration (in minutes) for napping toddlers is different from toddlers who don't nap.\n",
        "\n",
        "$$H_0: \\mu_{nap}=\\mu_{no\\ nap}, \\ H_a:\\mu_{nap}\\neq\\mu_{no\\ nap}$$\n",
        "Or equivalently:\n",
        "$$H_0: \\mu_{nap}-\\mu_{no\\ nap}=0, \\ H_a:\\mu_{nap}-\\mu_{no\\ nap} \\neq 0$$\n",
        "\n",
        "First isolate `night bedtime` into two variables - one for toddlers who nap and one for toddlers who do not nap."
      ],
      "metadata": {
        "id": "CESEMivuITP7"
      }
    },
    {
      "cell_type": "code",
      "source": [
        "# Test for the 2nd hypothesis\n",
        "nap_night_duration = df['night sleep duration'][df['napping'] == 1]\n",
        "no_nap_night_duration = df['night sleep duration'][df['napping'] == 0]"
      ],
      "metadata": {
        "id": "VYkNUSeMqcQ8"
      },
      "execution_count": 17,
      "outputs": []
    },
    {
      "cell_type": "code",
      "source": [
        "nap_mean_duration = nap_night_duration.mean()\n",
        "nap_mean_duration"
      ],
      "metadata": {
        "colab": {
          "base_uri": "https://localhost:8080/"
        },
        "id": "Iexyi3SX-QKx",
        "outputId": "127f9539-427e-42b5-ee1c-70d7801c052b"
      },
      "execution_count": 18,
      "outputs": [
        {
          "output_type": "execute_result",
          "data": {
            "text/plain": [
              "606.272"
            ]
          },
          "metadata": {},
          "execution_count": 18
        }
      ]
    },
    {
      "cell_type": "code",
      "source": [
        "no_nap_mean_duration = no_nap_night_duration.mean()"
      ],
      "metadata": {
        "id": "ilpSkvacsSv7"
      },
      "execution_count": 19,
      "outputs": []
    },
    {
      "cell_type": "code",
      "source": [
        "\n",
        "sleep_duration = df.groupby(['napping']).agg({'night sleep duration': [np.mean, np.std]})\n",
        "sleep_duration"
      ],
      "metadata": {
        "colab": {
          "base_uri": "https://localhost:8080/",
          "height": 174
        },
        "id": "cSw6Or409BU7",
        "outputId": "2bc7d441-094a-4edf-fada-f9ed16ba58ab"
      },
      "execution_count": 20,
      "outputs": [
        {
          "output_type": "execute_result",
          "data": {
            "text/html": [
              "\n",
              "  <div id=\"df-630e6f06-13c5-4318-af5f-72842077b398\">\n",
              "    <div class=\"colab-df-container\">\n",
              "      <div>\n",
              "<style scoped>\n",
              "    .dataframe tbody tr th:only-of-type {\n",
              "        vertical-align: middle;\n",
              "    }\n",
              "\n",
              "    .dataframe tbody tr th {\n",
              "        vertical-align: top;\n",
              "    }\n",
              "\n",
              "    .dataframe thead tr th {\n",
              "        text-align: left;\n",
              "    }\n",
              "\n",
              "    .dataframe thead tr:last-of-type th {\n",
              "        text-align: right;\n",
              "    }\n",
              "</style>\n",
              "<table border=\"1\" class=\"dataframe\">\n",
              "  <thead>\n",
              "    <tr>\n",
              "      <th></th>\n",
              "      <th colspan=\"2\" halign=\"left\">night sleep duration</th>\n",
              "    </tr>\n",
              "    <tr>\n",
              "      <th></th>\n",
              "      <th>mean</th>\n",
              "      <th>std</th>\n",
              "    </tr>\n",
              "    <tr>\n",
              "      <th>napping</th>\n",
              "      <th></th>\n",
              "      <th></th>\n",
              "    </tr>\n",
              "  </thead>\n",
              "  <tbody>\n",
              "    <tr>\n",
              "      <th>0.0</th>\n",
              "      <td>675.040</td>\n",
              "      <td>56.169636</td>\n",
              "    </tr>\n",
              "    <tr>\n",
              "      <th>1.0</th>\n",
              "      <td>606.272</td>\n",
              "      <td>43.858825</td>\n",
              "    </tr>\n",
              "  </tbody>\n",
              "</table>\n",
              "</div>\n",
              "      <button class=\"colab-df-convert\" onclick=\"convertToInteractive('df-630e6f06-13c5-4318-af5f-72842077b398')\"\n",
              "              title=\"Convert this dataframe to an interactive table.\"\n",
              "              style=\"display:none;\">\n",
              "        \n",
              "  <svg xmlns=\"http://www.w3.org/2000/svg\" height=\"24px\"viewBox=\"0 0 24 24\"\n",
              "       width=\"24px\">\n",
              "    <path d=\"M0 0h24v24H0V0z\" fill=\"none\"/>\n",
              "    <path d=\"M18.56 5.44l.94 2.06.94-2.06 2.06-.94-2.06-.94-.94-2.06-.94 2.06-2.06.94zm-11 1L8.5 8.5l.94-2.06 2.06-.94-2.06-.94L8.5 2.5l-.94 2.06-2.06.94zm10 10l.94 2.06.94-2.06 2.06-.94-2.06-.94-.94-2.06-.94 2.06-2.06.94z\"/><path d=\"M17.41 7.96l-1.37-1.37c-.4-.4-.92-.59-1.43-.59-.52 0-1.04.2-1.43.59L10.3 9.45l-7.72 7.72c-.78.78-.78 2.05 0 2.83L4 21.41c.39.39.9.59 1.41.59.51 0 1.02-.2 1.41-.59l7.78-7.78 2.81-2.81c.8-.78.8-2.07 0-2.86zM5.41 20L4 18.59l7.72-7.72 1.47 1.35L5.41 20z\"/>\n",
              "  </svg>\n",
              "      </button>\n",
              "      \n",
              "  <style>\n",
              "    .colab-df-container {\n",
              "      display:flex;\n",
              "      flex-wrap:wrap;\n",
              "      gap: 12px;\n",
              "    }\n",
              "\n",
              "    .colab-df-convert {\n",
              "      background-color: #E8F0FE;\n",
              "      border: none;\n",
              "      border-radius: 50%;\n",
              "      cursor: pointer;\n",
              "      display: none;\n",
              "      fill: #1967D2;\n",
              "      height: 32px;\n",
              "      padding: 0 0 0 0;\n",
              "      width: 32px;\n",
              "    }\n",
              "\n",
              "    .colab-df-convert:hover {\n",
              "      background-color: #E2EBFA;\n",
              "      box-shadow: 0px 1px 2px rgba(60, 64, 67, 0.3), 0px 1px 3px 1px rgba(60, 64, 67, 0.15);\n",
              "      fill: #174EA6;\n",
              "    }\n",
              "\n",
              "    [theme=dark] .colab-df-convert {\n",
              "      background-color: #3B4455;\n",
              "      fill: #D2E3FC;\n",
              "    }\n",
              "\n",
              "    [theme=dark] .colab-df-convert:hover {\n",
              "      background-color: #434B5C;\n",
              "      box-shadow: 0px 1px 3px 1px rgba(0, 0, 0, 0.15);\n",
              "      filter: drop-shadow(0px 1px 2px rgba(0, 0, 0, 0.3));\n",
              "      fill: #FFFFFF;\n",
              "    }\n",
              "  </style>\n",
              "\n",
              "      <script>\n",
              "        const buttonEl =\n",
              "          document.querySelector('#df-630e6f06-13c5-4318-af5f-72842077b398 button.colab-df-convert');\n",
              "        buttonEl.style.display =\n",
              "          google.colab.kernel.accessAllowed ? 'block' : 'none';\n",
              "\n",
              "        async function convertToInteractive(key) {\n",
              "          const element = document.querySelector('#df-630e6f06-13c5-4318-af5f-72842077b398');\n",
              "          const dataTable =\n",
              "            await google.colab.kernel.invokeFunction('convertToInteractive',\n",
              "                                                     [key], {});\n",
              "          if (!dataTable) return;\n",
              "\n",
              "          const docLinkHtml = 'Like what you see? Visit the ' +\n",
              "            '<a target=\"_blank\" href=https://colab.research.google.com/notebooks/data_table.ipynb>data table notebook</a>'\n",
              "            + ' to learn more about interactive tables.';\n",
              "          element.innerHTML = '';\n",
              "          dataTable['output_type'] = 'display_data';\n",
              "          await google.colab.output.renderOutput(dataTable, element);\n",
              "          const docLink = document.createElement('div');\n",
              "          docLink.innerHTML = docLinkHtml;\n",
              "          element.appendChild(docLink);\n",
              "        }\n",
              "      </script>\n",
              "    </div>\n",
              "  </div>\n",
              "  "
            ],
            "text/plain": [
              "        night sleep duration           \n",
              "                        mean        std\n",
              "napping                                \n",
              "0.0                  675.040  56.169636\n",
              "1.0                  606.272  43.858825"
            ]
          },
          "metadata": {},
          "execution_count": 20
        }
      ]
    },
    {
      "cell_type": "code",
      "source": [
        "\n",
        "scipy.stats.ttest_ind(nap_night_duration, no_nap_night_duration, equal_var = True)"
      ],
      "metadata": {
        "colab": {
          "base_uri": "https://localhost:8080/"
        },
        "id": "_iZczxPm9bn8",
        "outputId": "98263232-fed5-47b3-aba5-2d0cf3740b93"
      },
      "execution_count": 21,
      "outputs": [
        {
          "output_type": "execute_result",
          "data": {
            "text/plain": [
              "Ttest_indResult(statistic=-2.8409428070482057, pvalue=0.01084088459007456)"
            ]
          },
          "metadata": {},
          "execution_count": 21
        }
      ]
    },
    {
      "cell_type": "code",
      "source": [
        "nap_s_nighttime = np.std(nap_night_duration, ddof = 1)\n",
        "no_nap_s_nighttime = np.std(no_nap_night_duration, ddof = 1)"
      ],
      "metadata": {
        "id": "d1Grqpw8rn8D"
      },
      "execution_count": 22,
      "outputs": []
    },
    {
      "cell_type": "code",
      "source": [
        "x = (15-1)*nap_s_nighttime**2\n",
        "y = (5-1)*no_nap_s_nighttime**2\n",
        "z = (1/15)+(1/5)\n",
        "pooled_set = np.sqrt(((x+y)/18)*z)\n",
        "pooled_set"
      ],
      "metadata": {
        "colab": {
          "base_uri": "https://localhost:8080/"
        },
        "id": "ejfW6nXCXfrS",
        "outputId": "3b0c0ae8-3f7a-44f0-992c-fbcaa959b71f"
      },
      "execution_count": 23,
      "outputs": [
        {
          "output_type": "execute_result",
          "data": {
            "text/plain": [
              "24.20604872065383"
            ]
          },
          "metadata": {},
          "execution_count": 23
        }
      ]
    },
    {
      "cell_type": "code",
      "source": [
        "ts = (no_nap_mean_duration - nap_mean_duration)/pooled_set\n",
        "ts"
      ],
      "metadata": {
        "colab": {
          "base_uri": "https://localhost:8080/"
        },
        "id": "syJRh9cuBBxy",
        "outputId": "3a8f9479-084e-48d2-8a8e-f51e610ee1df"
      },
      "execution_count": 24,
      "outputs": [
        {
          "output_type": "execute_result",
          "data": {
            "text/plain": [
              "2.8409428070482057"
            ]
          },
          "metadata": {},
          "execution_count": 24
        }
      ]
    },
    {
      "cell_type": "code",
      "source": [
        "(1- t.cdf(ts, 18))*2 #for two sided test, multiply by two"
      ],
      "metadata": {
        "colab": {
          "base_uri": "https://localhost:8080/"
        },
        "id": "jma_cxb5XvwX",
        "outputId": "fcecea8f-fc7b-4254-d425-0f8fcc465ffe"
      },
      "execution_count": 25,
      "outputs": [
        {
          "output_type": "execute_result",
          "data": {
            "text/plain": [
              "0.010840884590074484"
            ]
          },
          "metadata": {},
          "execution_count": 25
        }
      ]
    },
    {
      "cell_type": "markdown",
      "source": [
        "**Question**: What are the t-statistic and p-value for the second hypothesis test?\n",
        "\n",
        "Calculate the  t  test statistics and corresponding p-value using the scipy function scipy.stats.ttest_ind(a, b, equal_var=True) and check with your answer.\n",
        "\n",
        "**Question**: Does scipy.stats.ttest_ind return values for a one-sided or one-sided test?\n",
        "\n",
        "two-sided test\n",
        "\n",
        "**Question**: Can you think of a way to recover the results you got using 1-t.cdf from the p-value given by scipy.stats.ttest_ind?\n",
        "\n",
        "Use the scipy function scipy.stats.ttest_ind(a, b, equal_var=True) to find the  t  test statistic and corresponding p-value for the second hypothesis test.\n",
        "\n",
        "Question: For the  α=.05 , do you reject or fail to reject the second hypothesis?\n",
        "\n",
        "H : The average 24 h sleep duration (in minutes) for napping toddlers is different from toddlers who don't nap.\n",
        "\n",
        "For the second hypothesis, pvalue is 0.988 which is bigger than alpha of 0.05 so we fail to reject the null hypothesis and say that in children who nap and do not nap, there's difference of night sleep duration.\n",
        "\n",
        "\n",
        "\n"
      ],
      "metadata": {
        "id": "mLzuDAHogor9"
      }
    },
    {
      "cell_type": "markdown",
      "source": [
        "#### Note\n",
        "\n",
        "Finding p-value :\n",
        "\n",
        "1-t.cdf(tstats, df) --> this results in one-sided p-value. To find two sided p-value should be multiplied by two.\n",
        "\n",
        "Using method \n",
        "stats.ttest_ind(x1, x2) -- > this result in two-sided p-value. To find one-sided p-value should be divided by two. \n",
        "\n",
        "\n",
        "\n",
        "**More reading**\n",
        "\n",
        "*https://www.programcreek.com/python/example/113287/scipy.stats.t.cdf\n",
        "\n",
        "*https://towardsdatascience.com/one-tailed-or-two-tailed-test-that-is-the-question-1283387f631c"
      ],
      "metadata": {
        "id": "lKGUX93836TH"
      }
    },
    {
      "cell_type": "code",
      "source": [
        ""
      ],
      "metadata": {
        "id": "Fj1VYJwEgplt"
      },
      "execution_count": 25,
      "outputs": []
    }
  ]
}