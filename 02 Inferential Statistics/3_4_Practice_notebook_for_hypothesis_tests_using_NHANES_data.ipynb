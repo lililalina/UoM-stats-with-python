{
  "nbformat": 4,
  "nbformat_minor": 0,
  "metadata": {
    "colab": {
      "name": "3.4 Practice notebook for hypothesis tests using NHANES data.ipynb",
      "provenance": [],
      "mount_file_id": "1rEtFZMCy7-9L168Qwrqwoq3LhtZUxR29",
      "authorship_tag": "ABX9TyOAoGoP+0R0ml3wYs/QXCO8",
      "include_colab_link": true
    },
    "kernelspec": {
      "name": "python3",
      "display_name": "Python 3"
    },
    "language_info": {
      "name": "python"
    }
  },
  "cells": [
    {
      "cell_type": "markdown",
      "metadata": {
        "id": "view-in-github",
        "colab_type": "text"
      },
      "source": [
        "<a href=\"https://colab.research.google.com/github/lililalina/UoM-stats-with-python/blob/main/02%20Inferential%20Statistics/3_4_Practice_notebook_for_hypothesis_tests_using_NHANES_data.ipynb\" target=\"_parent\"><img src=\"https://colab.research.google.com/assets/colab-badge.svg\" alt=\"Open In Colab\"/></a>"
      ]
    },
    {
      "cell_type": "code",
      "execution_count": null,
      "metadata": {
        "id": "-rAtPHCRv7Ia"
      },
      "outputs": [],
      "source": [
        ""
      ]
    },
    {
      "cell_type": "markdown",
      "source": [
        "#Practice notebook for hypothesis tests using NHANES data\n",
        "\n",
        "This notebook will give you the opportunity to perform some hypothesis tests with the NHANES data that are similar to what was done in the week 3 case study notebook.\n",
        "\n",
        "You can enter your code into the cells that say \"enter your code here\", and you can type responses to the questions into the cells that say \"Type Markdown and Latex\".\n",
        "\n",
        "Note that most of the code that you will need to write below is very similar to code that appears in the case study notebook. You will need to edit code from that notebook in small ways to adapt it to the prompts below.\n",
        "\n",
        "To get started, we will use the same module imports and read the data in the same way as we did in the case study:"
      ],
      "metadata": {
        "id": "8oR4Hlxeywep"
      }
    },
    {
      "cell_type": "code",
      "source": [
        "%matplotlib inline\n",
        "import matplotlib.pyplot as plt\n",
        "import seaborn as sns\n",
        "import pandas as pd\n",
        "import statsmodels.api as sm\n",
        "import numpy as np\n",
        "\n",
        "da = pd.read_csv(\"/content/drive/MyDrive/COLAB NOTEBOOK/UoM stats with python/NHANES.csv\")"
      ],
      "metadata": {
        "colab": {
          "base_uri": "https://localhost:8080/"
        },
        "id": "0xYLue5z1hKz",
        "outputId": "51025da6-7180-459f-c6c4-b6c4721e4de9"
      },
      "execution_count": 1,
      "outputs": [
        {
          "output_type": "stream",
          "name": "stderr",
          "text": [
            "/usr/local/lib/python3.7/dist-packages/statsmodels/tools/_testing.py:19: FutureWarning: pandas.util.testing is deprecated. Use the functions in the public API at pandas.testing instead.\n",
            "  import pandas.util.testing as tm\n"
          ]
        }
      ]
    },
    {
      "cell_type": "markdown",
      "source": [
        "## Question 1\n",
        "\n",
        "Conduct a hypothesis test (at the 0.05 level) for the null hypothesis that the proportion of women who smoke is equal to the proportion of men who smoke."
      ],
      "metadata": {
        "id": "dyCXktmH1sCd"
      }
    },
    {
      "cell_type": "markdown",
      "source": [
        "Q1a. Conduct a hypothesis test (at the 0.05 level) for the null hypothesis that the proportion of women who smoke is equal to the proportion of men who smoke."
      ],
      "metadata": {
        "id": "NSGpLQul178t"
      }
    },
    {
      "cell_type": "markdown",
      "source": [
        "\n",
        "Q1b. Construct three 95% confidence intervals: one for the proportion of women who smoke, one for the proportion of men who smoke, and one for the difference in the rates of smoking between women and men."
      ],
      "metadata": {
        "id": "9jBX6td218VH"
      }
    },
    {
      "cell_type": "markdown",
      "source": [
        "__Q1c.__ Comment on any ways in which the confidence intervals that you found in part b reinforce, contradict, or add support to the hypothesis test conducted in part a."
      ],
      "metadata": {
        "id": "z25J3FAj2NeS"
      }
    },
    {
      "cell_type": "code",
      "source": [
        ""
      ],
      "metadata": {
        "id": "0FDDNlsd1obK"
      },
      "execution_count": null,
      "outputs": []
    },
    {
      "cell_type": "markdown",
      "source": [
        "## Question 2\n",
        "\n",
        "Partition the population into two groups based on whether a person has graduated college or not, using the educational attainment variable [DMDEDUC2](https://wwwn.cdc.gov/Nchs/Nhanes/2015-2016/DEMO_I.htm#DMDEDUC2).  Then conduct a test of the null hypothesis that the average heights (in centimeters) of the two groups are equal.  Next, convert the heights from centimeters to inches, and conduct a test of the null hypothesis that the average heights (in inches) of the two groups are equal."
      ],
      "metadata": {
        "id": "G9AbWOfr2Pr6"
      }
    },
    {
      "cell_type": "markdown",
      "source": [
        "Q2a. Based on the analysis performed here, are you confident that people who graduated from college have a different average height compared to people who did not graduate from college?"
      ],
      "metadata": {
        "id": "6AvRr1iN2QFL"
      }
    },
    {
      "cell_type": "markdown",
      "source": [
        "__Q2b:__ How do the results obtained using the heights expressed in inches compare to the results obtained using the heights expressed in centimeters?"
      ],
      "metadata": {
        "id": "zbJ50_482QX7"
      }
    },
    {
      "cell_type": "markdown",
      "source": [
        "##Question 3\n",
        "Conduct a hypothesis test of the null hypothesis that the average BMI for men between 30 and 40 is equal to the average BMI for men between 50 and 60. Then carry out this test again after log transforming the BMI values."
      ],
      "metadata": {
        "id": "fdEuXbif2mYc"
      }
    },
    {
      "cell_type": "markdown",
      "source": [
        "Q3a. How would you characterize the evidence that mean BMI differs between these age bands, and how would you characterize the evidence that mean log BMI differs between these age bands?"
      ],
      "metadata": {
        "id": "92n4IdWo2mhv"
      }
    },
    {
      "cell_type": "markdown",
      "source": [
        "##Question 4\n",
        "Suppose we wish to compare the mean BMI between college graduates and people who have not graduated from college, focusing on women between the ages of 30 and 40. First, consider the variance of BMI within each of these subpopulations using graphical techniques, and through the estimated subpopulation variances. Then, calculate pooled and unpooled estimates of the standard error for the difference between the mean BMI in the two populations being compared. Finally, test the null hypothesis that the two population means are equal, using each of the two different standard errors."
      ],
      "metadata": {
        "id": "bZQRZB7p2mtA"
      }
    },
    {
      "cell_type": "markdown",
      "source": [
        "Q4a. Comment on the strength of evidence against the null hypothesis that these two populations have equal mean BMI."
      ],
      "metadata": {
        "id": "Hb1F8SIw3LEF"
      }
    },
    {
      "cell_type": "markdown",
      "source": [
        "Q4b. Comment on the degree to which the two populations have different variances, and on the extent to which the results using different approaches to estimating the standard error of the mean difference give divergent results."
      ],
      "metadata": {
        "id": "ozmX6hdZ3RRH"
      }
    },
    {
      "cell_type": "code",
      "source": [
        ""
      ],
      "metadata": {
        "id": "Q_3tUxFK2ZFU"
      },
      "execution_count": null,
      "outputs": []
    },
    {
      "cell_type": "markdown",
      "source": [
        "##Question 5\n",
        "Conduct a test of the null hypothesis that the first and second diastolic blood pressure measurements within a subject have the same mean values."
      ],
      "metadata": {
        "id": "6kJnXaz43U1m"
      }
    },
    {
      "cell_type": "code",
      "source": [
        ""
      ],
      "metadata": {
        "id": "pEOTR5VS3XHM"
      },
      "execution_count": null,
      "outputs": []
    },
    {
      "cell_type": "markdown",
      "source": [
        "Q5a. Briefly describe your findings for an audience that is not familiar with statistical hypothesis testing."
      ],
      "metadata": {
        "id": "BA3z2wd23ZDk"
      }
    },
    {
      "cell_type": "markdown",
      "source": [
        "Q5b. Pretend that the first and second diastolic blood pressure measurements were taken on different people. Modfify the analysis above as appropriate for this setting."
      ],
      "metadata": {
        "id": "3CADRNK73ZUJ"
      }
    },
    {
      "cell_type": "markdown",
      "source": [
        "__Q5c.__ Briefly describe how the approaches used and the results obtained in the preceeding two parts of the question differ.\n"
      ],
      "metadata": {
        "id": "JSLLOB293Zic"
      }
    },
    {
      "cell_type": "code",
      "source": [
        ""
      ],
      "metadata": {
        "id": "iPpXU2ue3h59"
      },
      "execution_count": null,
      "outputs": []
    }
  ]
}