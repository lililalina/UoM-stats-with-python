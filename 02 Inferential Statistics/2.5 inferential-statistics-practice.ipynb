{
 "cells": [
  {
   "cell_type": "code",
   "execution_count": 1,
   "id": "a9175a98",
   "metadata": {
    "_cell_guid": "b1076dfc-b9ad-4769-8c92-a6c4dae69d19",
    "_uuid": "8f2839f25d086af736a60e9eeb907d3b93b6e0e5",
    "execution": {
     "iopub.execute_input": "2022-02-03T09:01:20.872657Z",
     "iopub.status.busy": "2022-02-03T09:01:20.862495Z",
     "iopub.status.idle": "2022-02-03T09:01:20.883631Z",
     "shell.execute_reply": "2022-02-03T09:01:20.884229Z",
     "shell.execute_reply.started": "2022-02-03T08:27:00.277975Z"
    },
    "papermill": {
     "duration": 0.07922,
     "end_time": "2022-02-03T09:01:20.884539",
     "exception": false,
     "start_time": "2022-02-03T09:01:20.805319",
     "status": "completed"
    },
    "tags": []
   },
   "outputs": [
    {
     "name": "stdout",
     "output_type": "stream",
     "text": [
      "/kaggle/input/nhanes-2015-2016/NHANES.csv\n"
     ]
    }
   ],
   "source": [
    "# This Python 3 environment comes with many helpful analytics libraries installed\n",
    "# It is defined by the kaggle/python Docker image: https://github.com/kaggle/docker-python\n",
    "# For example, here's several helpful packages to load\n",
    "\n",
    "import numpy as np # linear algebra\n",
    "import pandas as pd # data processing, CSV file I/O (e.g. pd.read_csv)\n",
    "\n",
    "# Input data files are available in the read-only \"../input/\" directory\n",
    "# For example, running this (by clicking run or pressing Shift+Enter) will list all files under the input directory\n",
    "\n",
    "import os\n",
    "for dirname, _, filenames in os.walk('/kaggle/input'):\n",
    "    for filename in filenames:\n",
    "        print(os.path.join(dirname, filename))\n",
    "\n",
    "# You can write up to 20GB to the current directory (/kaggle/working/) that gets preserved as output when you create a version using \"Save & Run All\" \n",
    "# You can also write temporary files to /kaggle/temp/, but they won't be saved outside of the current session"
   ]
  },
  {
   "cell_type": "markdown",
   "id": "d6d3b351",
   "metadata": {
    "papermill": {
     "duration": 0.054772,
     "end_time": "2022-02-03T09:01:20.993032",
     "exception": false,
     "start_time": "2022-02-03T09:01:20.938260",
     "status": "completed"
    },
    "tags": []
   },
   "source": [
    "Data explanation : https://wwwn.cdc.gov/Nchs/Nhanes/2015-2016/DEMO_I.htm#RIAGENDR"
   ]
  },
  {
   "cell_type": "code",
   "execution_count": 2,
   "id": "105cd314",
   "metadata": {
    "execution": {
     "iopub.execute_input": "2022-02-03T09:01:21.104377Z",
     "iopub.status.busy": "2022-02-03T09:01:21.103424Z",
     "iopub.status.idle": "2022-02-03T09:01:21.106803Z",
     "shell.execute_reply": "2022-02-03T09:01:21.107278Z",
     "shell.execute_reply.started": "2022-02-03T08:27:00.289952Z"
    },
    "papermill": {
     "duration": 0.061279,
     "end_time": "2022-02-03T09:01:21.107464",
     "exception": false,
     "start_time": "2022-02-03T09:01:21.046185",
     "status": "completed"
    },
    "tags": []
   },
   "outputs": [],
   "source": [
    "import warnings\n",
    "warnings.filterwarnings(\"ignore\")"
   ]
  },
  {
   "cell_type": "code",
   "execution_count": 3,
   "id": "83485e4f",
   "metadata": {
    "execution": {
     "iopub.execute_input": "2022-02-03T09:01:21.211795Z",
     "iopub.status.busy": "2022-02-03T09:01:21.210811Z",
     "iopub.status.idle": "2022-02-03T09:01:23.581541Z",
     "shell.execute_reply": "2022-02-03T09:01:23.582138Z",
     "shell.execute_reply.started": "2022-02-03T08:27:00.300093Z"
    },
    "papermill": {
     "duration": 2.423707,
     "end_time": "2022-02-03T09:01:23.582338",
     "exception": false,
     "start_time": "2022-02-03T09:01:21.158631",
     "status": "completed"
    },
    "tags": []
   },
   "outputs": [],
   "source": [
    "%matplotlib inline\n",
    "import matplotlib.pyplot as plt\n",
    "import pandas as pd\n",
    "import numpy as np\n",
    "import seaborn as sns\n",
    "import statsmodels.api as sm\n",
    "\n",
    "path = \"../input/nhanes-2015-2016/NHANES.csv\"\n",
    "da = pd.read_csv(path)"
   ]
  },
  {
   "cell_type": "code",
   "execution_count": 4,
   "id": "5da509d8",
   "metadata": {
    "execution": {
     "iopub.execute_input": "2022-02-03T09:01:23.688428Z",
     "iopub.status.busy": "2022-02-03T09:01:23.687388Z",
     "iopub.status.idle": "2022-02-03T09:01:23.727510Z",
     "shell.execute_reply": "2022-02-03T09:01:23.728024Z",
     "shell.execute_reply.started": "2022-02-03T08:27:00.338590Z"
    },
    "papermill": {
     "duration": 0.095922,
     "end_time": "2022-02-03T09:01:23.728223",
     "exception": false,
     "start_time": "2022-02-03T09:01:23.632301",
     "status": "completed"
    },
    "tags": []
   },
   "outputs": [
    {
     "data": {
      "text/html": [
       "<div>\n",
       "<style scoped>\n",
       "    .dataframe tbody tr th:only-of-type {\n",
       "        vertical-align: middle;\n",
       "    }\n",
       "\n",
       "    .dataframe tbody tr th {\n",
       "        vertical-align: top;\n",
       "    }\n",
       "\n",
       "    .dataframe thead th {\n",
       "        text-align: right;\n",
       "    }\n",
       "</style>\n",
       "<table border=\"1\" class=\"dataframe\">\n",
       "  <thead>\n",
       "    <tr style=\"text-align: right;\">\n",
       "      <th></th>\n",
       "      <th>SEQN</th>\n",
       "      <th>ALQ101</th>\n",
       "      <th>ALQ110</th>\n",
       "      <th>ALQ130</th>\n",
       "      <th>SMQ020</th>\n",
       "      <th>RIAGENDR</th>\n",
       "      <th>RIDAGEYR</th>\n",
       "      <th>RIDRETH1</th>\n",
       "      <th>DMDCITZN</th>\n",
       "      <th>DMDEDUC2</th>\n",
       "      <th>...</th>\n",
       "      <th>BPXSY2</th>\n",
       "      <th>BPXDI2</th>\n",
       "      <th>BMXWT</th>\n",
       "      <th>BMXHT</th>\n",
       "      <th>BMXBMI</th>\n",
       "      <th>BMXLEG</th>\n",
       "      <th>BMXARML</th>\n",
       "      <th>BMXARMC</th>\n",
       "      <th>BMXWAIST</th>\n",
       "      <th>HIQ210</th>\n",
       "    </tr>\n",
       "  </thead>\n",
       "  <tbody>\n",
       "    <tr>\n",
       "      <th>0</th>\n",
       "      <td>83732</td>\n",
       "      <td>1.0</td>\n",
       "      <td>NaN</td>\n",
       "      <td>1.0</td>\n",
       "      <td>1</td>\n",
       "      <td>1</td>\n",
       "      <td>62</td>\n",
       "      <td>3</td>\n",
       "      <td>1.0</td>\n",
       "      <td>5.0</td>\n",
       "      <td>...</td>\n",
       "      <td>124.0</td>\n",
       "      <td>64.0</td>\n",
       "      <td>94.8</td>\n",
       "      <td>184.5</td>\n",
       "      <td>27.8</td>\n",
       "      <td>43.3</td>\n",
       "      <td>43.6</td>\n",
       "      <td>35.9</td>\n",
       "      <td>101.1</td>\n",
       "      <td>2.0</td>\n",
       "    </tr>\n",
       "    <tr>\n",
       "      <th>1</th>\n",
       "      <td>83733</td>\n",
       "      <td>1.0</td>\n",
       "      <td>NaN</td>\n",
       "      <td>6.0</td>\n",
       "      <td>1</td>\n",
       "      <td>1</td>\n",
       "      <td>53</td>\n",
       "      <td>3</td>\n",
       "      <td>2.0</td>\n",
       "      <td>3.0</td>\n",
       "      <td>...</td>\n",
       "      <td>140.0</td>\n",
       "      <td>88.0</td>\n",
       "      <td>90.4</td>\n",
       "      <td>171.4</td>\n",
       "      <td>30.8</td>\n",
       "      <td>38.0</td>\n",
       "      <td>40.0</td>\n",
       "      <td>33.2</td>\n",
       "      <td>107.9</td>\n",
       "      <td>NaN</td>\n",
       "    </tr>\n",
       "    <tr>\n",
       "      <th>2</th>\n",
       "      <td>83734</td>\n",
       "      <td>1.0</td>\n",
       "      <td>NaN</td>\n",
       "      <td>NaN</td>\n",
       "      <td>1</td>\n",
       "      <td>1</td>\n",
       "      <td>78</td>\n",
       "      <td>3</td>\n",
       "      <td>1.0</td>\n",
       "      <td>3.0</td>\n",
       "      <td>...</td>\n",
       "      <td>132.0</td>\n",
       "      <td>44.0</td>\n",
       "      <td>83.4</td>\n",
       "      <td>170.1</td>\n",
       "      <td>28.8</td>\n",
       "      <td>35.6</td>\n",
       "      <td>37.0</td>\n",
       "      <td>31.0</td>\n",
       "      <td>116.5</td>\n",
       "      <td>2.0</td>\n",
       "    </tr>\n",
       "    <tr>\n",
       "      <th>3</th>\n",
       "      <td>83735</td>\n",
       "      <td>2.0</td>\n",
       "      <td>1.0</td>\n",
       "      <td>1.0</td>\n",
       "      <td>2</td>\n",
       "      <td>2</td>\n",
       "      <td>56</td>\n",
       "      <td>3</td>\n",
       "      <td>1.0</td>\n",
       "      <td>5.0</td>\n",
       "      <td>...</td>\n",
       "      <td>134.0</td>\n",
       "      <td>68.0</td>\n",
       "      <td>109.8</td>\n",
       "      <td>160.9</td>\n",
       "      <td>42.4</td>\n",
       "      <td>38.5</td>\n",
       "      <td>37.7</td>\n",
       "      <td>38.3</td>\n",
       "      <td>110.1</td>\n",
       "      <td>2.0</td>\n",
       "    </tr>\n",
       "    <tr>\n",
       "      <th>4</th>\n",
       "      <td>83736</td>\n",
       "      <td>2.0</td>\n",
       "      <td>1.0</td>\n",
       "      <td>1.0</td>\n",
       "      <td>2</td>\n",
       "      <td>2</td>\n",
       "      <td>42</td>\n",
       "      <td>4</td>\n",
       "      <td>1.0</td>\n",
       "      <td>4.0</td>\n",
       "      <td>...</td>\n",
       "      <td>114.0</td>\n",
       "      <td>54.0</td>\n",
       "      <td>55.2</td>\n",
       "      <td>164.9</td>\n",
       "      <td>20.3</td>\n",
       "      <td>37.4</td>\n",
       "      <td>36.0</td>\n",
       "      <td>27.2</td>\n",
       "      <td>80.4</td>\n",
       "      <td>2.0</td>\n",
       "    </tr>\n",
       "  </tbody>\n",
       "</table>\n",
       "<p>5 rows × 28 columns</p>\n",
       "</div>"
      ],
      "text/plain": [
       "    SEQN  ALQ101  ALQ110  ALQ130  SMQ020  RIAGENDR  RIDAGEYR  RIDRETH1  \\\n",
       "0  83732     1.0     NaN     1.0       1         1        62         3   \n",
       "1  83733     1.0     NaN     6.0       1         1        53         3   \n",
       "2  83734     1.0     NaN     NaN       1         1        78         3   \n",
       "3  83735     2.0     1.0     1.0       2         2        56         3   \n",
       "4  83736     2.0     1.0     1.0       2         2        42         4   \n",
       "\n",
       "   DMDCITZN  DMDEDUC2  ...  BPXSY2  BPXDI2  BMXWT  BMXHT  BMXBMI  BMXLEG  \\\n",
       "0       1.0       5.0  ...   124.0    64.0   94.8  184.5    27.8    43.3   \n",
       "1       2.0       3.0  ...   140.0    88.0   90.4  171.4    30.8    38.0   \n",
       "2       1.0       3.0  ...   132.0    44.0   83.4  170.1    28.8    35.6   \n",
       "3       1.0       5.0  ...   134.0    68.0  109.8  160.9    42.4    38.5   \n",
       "4       1.0       4.0  ...   114.0    54.0   55.2  164.9    20.3    37.4   \n",
       "\n",
       "   BMXARML  BMXARMC  BMXWAIST  HIQ210  \n",
       "0     43.6     35.9     101.1     2.0  \n",
       "1     40.0     33.2     107.9     NaN  \n",
       "2     37.0     31.0     116.5     2.0  \n",
       "3     37.7     38.3     110.1     2.0  \n",
       "4     36.0     27.2      80.4     2.0  \n",
       "\n",
       "[5 rows x 28 columns]"
      ]
     },
     "execution_count": 4,
     "metadata": {},
     "output_type": "execute_result"
    }
   ],
   "source": [
    "da.head()"
   ]
  },
  {
   "cell_type": "code",
   "execution_count": 5,
   "id": "2ee9afdf",
   "metadata": {
    "execution": {
     "iopub.execute_input": "2022-02-03T09:01:23.831159Z",
     "iopub.status.busy": "2022-02-03T09:01:23.830201Z",
     "iopub.status.idle": "2022-02-03T09:01:23.857472Z",
     "shell.execute_reply": "2022-02-03T09:01:23.858046Z",
     "shell.execute_reply.started": "2022-02-03T08:27:00.368521Z"
    },
    "papermill": {
     "duration": 0.080426,
     "end_time": "2022-02-03T09:01:23.858236",
     "exception": false,
     "start_time": "2022-02-03T09:01:23.777810",
     "status": "completed"
    },
    "tags": []
   },
   "outputs": [
    {
     "name": "stdout",
     "output_type": "stream",
     "text": [
      "<class 'pandas.core.frame.DataFrame'>\n",
      "RangeIndex: 5735 entries, 0 to 5734\n",
      "Data columns (total 28 columns):\n",
      " #   Column    Non-Null Count  Dtype  \n",
      "---  ------    --------------  -----  \n",
      " 0   SEQN      5735 non-null   int64  \n",
      " 1   ALQ101    5208 non-null   float64\n",
      " 2   ALQ110    1731 non-null   float64\n",
      " 3   ALQ130    3379 non-null   float64\n",
      " 4   SMQ020    5735 non-null   int64  \n",
      " 5   RIAGENDR  5735 non-null   int64  \n",
      " 6   RIDAGEYR  5735 non-null   int64  \n",
      " 7   RIDRETH1  5735 non-null   int64  \n",
      " 8   DMDCITZN  5734 non-null   float64\n",
      " 9   DMDEDUC2  5474 non-null   float64\n",
      " 10  DMDMARTL  5474 non-null   float64\n",
      " 11  DMDHHSIZ  5735 non-null   int64  \n",
      " 12  WTINT2YR  5735 non-null   float64\n",
      " 13  SDMVPSU   5735 non-null   int64  \n",
      " 14  SDMVSTRA  5735 non-null   int64  \n",
      " 15  INDFMPIR  5134 non-null   float64\n",
      " 16  BPXSY1    5401 non-null   float64\n",
      " 17  BPXDI1    5401 non-null   float64\n",
      " 18  BPXSY2    5535 non-null   float64\n",
      " 19  BPXDI2    5535 non-null   float64\n",
      " 20  BMXWT     5666 non-null   float64\n",
      " 21  BMXHT     5673 non-null   float64\n",
      " 22  BMXBMI    5662 non-null   float64\n",
      " 23  BMXLEG    5345 non-null   float64\n",
      " 24  BMXARML   5427 non-null   float64\n",
      " 25  BMXARMC   5427 non-null   float64\n",
      " 26  BMXWAIST  5368 non-null   float64\n",
      " 27  HIQ210    4732 non-null   float64\n",
      "dtypes: float64(20), int64(8)\n",
      "memory usage: 1.2 MB\n"
     ]
    }
   ],
   "source": [
    "da.info()"
   ]
  },
  {
   "cell_type": "code",
   "execution_count": 6,
   "id": "15032cab",
   "metadata": {
    "execution": {
     "iopub.execute_input": "2022-02-03T09:01:23.967720Z",
     "iopub.status.busy": "2022-02-03T09:01:23.966660Z",
     "iopub.status.idle": "2022-02-03T09:01:23.974979Z",
     "shell.execute_reply": "2022-02-03T09:01:23.975446Z",
     "shell.execute_reply.started": "2022-02-03T08:27:00.388553Z"
    },
    "papermill": {
     "duration": 0.063878,
     "end_time": "2022-02-03T09:01:23.975645",
     "exception": false,
     "start_time": "2022-02-03T09:01:23.911767",
     "status": "completed"
    },
    "tags": []
   },
   "outputs": [
    {
     "data": {
      "text/plain": [
       "SEQN           0\n",
       "ALQ101       527\n",
       "ALQ110      4004\n",
       "ALQ130      2356\n",
       "SMQ020         0\n",
       "RIAGENDR       0\n",
       "RIDAGEYR       0\n",
       "RIDRETH1       0\n",
       "DMDCITZN       1\n",
       "DMDEDUC2     261\n",
       "DMDMARTL     261\n",
       "DMDHHSIZ       0\n",
       "WTINT2YR       0\n",
       "SDMVPSU        0\n",
       "SDMVSTRA       0\n",
       "INDFMPIR     601\n",
       "BPXSY1       334\n",
       "BPXDI1       334\n",
       "BPXSY2       200\n",
       "BPXDI2       200\n",
       "BMXWT         69\n",
       "BMXHT         62\n",
       "BMXBMI        73\n",
       "BMXLEG       390\n",
       "BMXARML      308\n",
       "BMXARMC      308\n",
       "BMXWAIST     367\n",
       "HIQ210      1003\n",
       "dtype: int64"
      ]
     },
     "execution_count": 6,
     "metadata": {},
     "output_type": "execute_result"
    }
   ],
   "source": [
    "da.isnull().sum()"
   ]
  },
  {
   "cell_type": "markdown",
   "id": "0bc97234",
   "metadata": {
    "papermill": {
     "duration": 0.052605,
     "end_time": "2022-02-03T09:01:24.082998",
     "exception": false,
     "start_time": "2022-02-03T09:01:24.030393",
     "status": "completed"
    },
    "tags": []
   },
   "source": [
    "### Problem 1\n",
    "Restrict the sample to women between 35 and 50, then use the marital status variable DMDMARTL to partition this sample into two groups - women who are currently married, and women who are not currently married. Within each of these groups, calculate the proportion of women who have completed college. Calculate 95% confidence intervals for each of these proportions."
   ]
  },
  {
   "cell_type": "code",
   "execution_count": 7,
   "id": "393d9bdb",
   "metadata": {
    "execution": {
     "iopub.execute_input": "2022-02-03T09:01:24.192095Z",
     "iopub.status.busy": "2022-02-03T09:01:24.191074Z",
     "iopub.status.idle": "2022-02-03T09:01:24.199171Z",
     "shell.execute_reply": "2022-02-03T09:01:24.199638Z",
     "shell.execute_reply.started": "2022-02-03T08:27:00.399522Z"
    },
    "papermill": {
     "duration": 0.063403,
     "end_time": "2022-02-03T09:01:24.199841",
     "exception": false,
     "start_time": "2022-02-03T09:01:24.136438",
     "status": "completed"
    },
    "tags": []
   },
   "outputs": [],
   "source": [
    "# We need 3 categories : gender woman, age 35-50, marital age\n",
    "dx = da[['RIAGENDR','RIDAGEYR','DMDMARTL','DMDEDUC2']].dropna()\n",
    "#Replace some code for easier read\n",
    "dx.columns = ['Gender', 'Age', 'Marital_status', 'Education']"
   ]
  },
  {
   "cell_type": "code",
   "execution_count": 8,
   "id": "0020ac1e",
   "metadata": {
    "execution": {
     "iopub.execute_input": "2022-02-03T09:01:24.311442Z",
     "iopub.status.busy": "2022-02-03T09:01:24.310755Z",
     "iopub.status.idle": "2022-02-03T09:01:24.325596Z",
     "shell.execute_reply": "2022-02-03T09:01:24.326093Z",
     "shell.execute_reply.started": "2022-02-03T08:27:00.613130Z"
    },
    "papermill": {
     "duration": 0.074038,
     "end_time": "2022-02-03T09:01:24.326275",
     "exception": false,
     "start_time": "2022-02-03T09:01:24.252237",
     "status": "completed"
    },
    "tags": []
   },
   "outputs": [
    {
     "data": {
      "text/html": [
       "<div>\n",
       "<style scoped>\n",
       "    .dataframe tbody tr th:only-of-type {\n",
       "        vertical-align: middle;\n",
       "    }\n",
       "\n",
       "    .dataframe tbody tr th {\n",
       "        vertical-align: top;\n",
       "    }\n",
       "\n",
       "    .dataframe thead th {\n",
       "        text-align: right;\n",
       "    }\n",
       "</style>\n",
       "<table border=\"1\" class=\"dataframe\">\n",
       "  <thead>\n",
       "    <tr style=\"text-align: right;\">\n",
       "      <th></th>\n",
       "      <th>Gender</th>\n",
       "      <th>Age</th>\n",
       "      <th>Marital_status</th>\n",
       "      <th>Education</th>\n",
       "    </tr>\n",
       "  </thead>\n",
       "  <tbody>\n",
       "    <tr>\n",
       "      <th>4</th>\n",
       "      <td>Female</td>\n",
       "      <td>42</td>\n",
       "      <td>3.0</td>\n",
       "      <td>College</td>\n",
       "    </tr>\n",
       "    <tr>\n",
       "      <th>34</th>\n",
       "      <td>Female</td>\n",
       "      <td>37</td>\n",
       "      <td>Married</td>\n",
       "      <td>College</td>\n",
       "    </tr>\n",
       "    <tr>\n",
       "      <th>50</th>\n",
       "      <td>Female</td>\n",
       "      <td>39</td>\n",
       "      <td>Married</td>\n",
       "      <td>3.0</td>\n",
       "    </tr>\n",
       "    <tr>\n",
       "      <th>55</th>\n",
       "      <td>Female</td>\n",
       "      <td>45</td>\n",
       "      <td>Married</td>\n",
       "      <td>2.0</td>\n",
       "    </tr>\n",
       "    <tr>\n",
       "      <th>58</th>\n",
       "      <td>Female</td>\n",
       "      <td>44</td>\n",
       "      <td>5.0</td>\n",
       "      <td>1.0</td>\n",
       "    </tr>\n",
       "  </tbody>\n",
       "</table>\n",
       "</div>"
      ],
      "text/plain": [
       "    Gender  Age Marital_status Education\n",
       "4   Female   42            3.0   College\n",
       "34  Female   37        Married   College\n",
       "50  Female   39        Married       3.0\n",
       "55  Female   45        Married       2.0\n",
       "58  Female   44            5.0       1.0"
      ]
     },
     "execution_count": 8,
     "metadata": {},
     "output_type": "execute_result"
    }
   ],
   "source": [
    "#Slice column to age 35-50 female\n",
    "dx['Gender'] = dx['Gender'].replace({1 : 'Male', 2: 'Female'})\n",
    "dx['Marital_status'] = dx['Marital_status'].replace({1 : 'Married'})\n",
    "dx['Education'] = dx['Education'].replace({4 : 'College'})\n",
    "dx = dx[(dx['Gender'] == 'Female')&(dx['Age']>35)&(dx['Age']<50)]\n",
    "dx.head()"
   ]
  },
  {
   "cell_type": "code",
   "execution_count": 9,
   "id": "55cdd835",
   "metadata": {
    "execution": {
     "iopub.execute_input": "2022-02-03T09:01:24.448003Z",
     "iopub.status.busy": "2022-02-03T09:01:24.447172Z",
     "iopub.status.idle": "2022-02-03T09:01:24.450758Z",
     "shell.execute_reply": "2022-02-03T09:01:24.451277Z",
     "shell.execute_reply.started": "2022-02-03T08:27:00.695834Z"
    },
    "papermill": {
     "duration": 0.070443,
     "end_time": "2022-02-03T09:01:24.451473",
     "exception": false,
     "start_time": "2022-02-03T09:01:24.381030",
     "status": "completed"
    },
    "tags": []
   },
   "outputs": [
    {
     "data": {
      "text/html": [
       "<div>\n",
       "<style scoped>\n",
       "    .dataframe tbody tr th:only-of-type {\n",
       "        vertical-align: middle;\n",
       "    }\n",
       "\n",
       "    .dataframe tbody tr th {\n",
       "        vertical-align: top;\n",
       "    }\n",
       "\n",
       "    .dataframe thead th {\n",
       "        text-align: right;\n",
       "    }\n",
       "</style>\n",
       "<table border=\"1\" class=\"dataframe\">\n",
       "  <thead>\n",
       "    <tr style=\"text-align: right;\">\n",
       "      <th></th>\n",
       "      <th>Gender</th>\n",
       "      <th>Age</th>\n",
       "      <th>Marital_status</th>\n",
       "      <th>Education</th>\n",
       "    </tr>\n",
       "  </thead>\n",
       "  <tbody>\n",
       "    <tr>\n",
       "      <th>4</th>\n",
       "      <td>Female</td>\n",
       "      <td>42</td>\n",
       "      <td>Not married</td>\n",
       "      <td>College</td>\n",
       "    </tr>\n",
       "    <tr>\n",
       "      <th>34</th>\n",
       "      <td>Female</td>\n",
       "      <td>37</td>\n",
       "      <td>Married</td>\n",
       "      <td>College</td>\n",
       "    </tr>\n",
       "    <tr>\n",
       "      <th>50</th>\n",
       "      <td>Female</td>\n",
       "      <td>39</td>\n",
       "      <td>Married</td>\n",
       "      <td>3.0</td>\n",
       "    </tr>\n",
       "    <tr>\n",
       "      <th>55</th>\n",
       "      <td>Female</td>\n",
       "      <td>45</td>\n",
       "      <td>Married</td>\n",
       "      <td>2.0</td>\n",
       "    </tr>\n",
       "    <tr>\n",
       "      <th>58</th>\n",
       "      <td>Female</td>\n",
       "      <td>44</td>\n",
       "      <td>Not married</td>\n",
       "      <td>1.0</td>\n",
       "    </tr>\n",
       "  </tbody>\n",
       "</table>\n",
       "</div>"
      ],
      "text/plain": [
       "    Gender  Age Marital_status Education\n",
       "4   Female   42    Not married   College\n",
       "34  Female   37        Married   College\n",
       "50  Female   39        Married       3.0\n",
       "55  Female   45        Married       2.0\n",
       "58  Female   44    Not married       1.0"
      ]
     },
     "execution_count": 9,
     "metadata": {},
     "output_type": "execute_result"
    }
   ],
   "source": [
    "marital_counts = dx.Marital_status.unique()\n",
    "other_marital = list(marital_counts[marital_counts != 'Married'])\n",
    "\n",
    "dx['Marital_status'] = dx['Marital_status'].replace(other_marital, 'Not married')\n",
    "dx.head()"
   ]
  },
  {
   "cell_type": "code",
   "execution_count": 10,
   "id": "7a78de68",
   "metadata": {
    "execution": {
     "iopub.execute_input": "2022-02-03T09:01:24.571149Z",
     "iopub.status.busy": "2022-02-03T09:01:24.570043Z",
     "iopub.status.idle": "2022-02-03T09:01:24.577144Z",
     "shell.execute_reply": "2022-02-03T09:01:24.577622Z",
     "shell.execute_reply.started": "2022-02-03T08:27:00.746702Z"
    },
    "papermill": {
     "duration": 0.070966,
     "end_time": "2022-02-03T09:01:24.577819",
     "exception": false,
     "start_time": "2022-02-03T09:01:24.506853",
     "status": "completed"
    },
    "tags": []
   },
   "outputs": [
    {
     "data": {
      "text/html": [
       "<div>\n",
       "<style scoped>\n",
       "    .dataframe tbody tr th:only-of-type {\n",
       "        vertical-align: middle;\n",
       "    }\n",
       "\n",
       "    .dataframe tbody tr th {\n",
       "        vertical-align: top;\n",
       "    }\n",
       "\n",
       "    .dataframe thead th {\n",
       "        text-align: right;\n",
       "    }\n",
       "</style>\n",
       "<table border=\"1\" class=\"dataframe\">\n",
       "  <thead>\n",
       "    <tr style=\"text-align: right;\">\n",
       "      <th></th>\n",
       "      <th>Gender</th>\n",
       "      <th>Age</th>\n",
       "      <th>Marital_status</th>\n",
       "      <th>Education</th>\n",
       "    </tr>\n",
       "  </thead>\n",
       "  <tbody>\n",
       "    <tr>\n",
       "      <th>4</th>\n",
       "      <td>Female</td>\n",
       "      <td>42</td>\n",
       "      <td>Not married</td>\n",
       "      <td>College</td>\n",
       "    </tr>\n",
       "    <tr>\n",
       "      <th>34</th>\n",
       "      <td>Female</td>\n",
       "      <td>37</td>\n",
       "      <td>Married</td>\n",
       "      <td>College</td>\n",
       "    </tr>\n",
       "    <tr>\n",
       "      <th>50</th>\n",
       "      <td>Female</td>\n",
       "      <td>39</td>\n",
       "      <td>Married</td>\n",
       "      <td>Not college</td>\n",
       "    </tr>\n",
       "    <tr>\n",
       "      <th>55</th>\n",
       "      <td>Female</td>\n",
       "      <td>45</td>\n",
       "      <td>Married</td>\n",
       "      <td>Not college</td>\n",
       "    </tr>\n",
       "    <tr>\n",
       "      <th>58</th>\n",
       "      <td>Female</td>\n",
       "      <td>44</td>\n",
       "      <td>Not married</td>\n",
       "      <td>Not college</td>\n",
       "    </tr>\n",
       "  </tbody>\n",
       "</table>\n",
       "</div>"
      ],
      "text/plain": [
       "    Gender  Age Marital_status    Education\n",
       "4   Female   42    Not married      College\n",
       "34  Female   37        Married      College\n",
       "50  Female   39        Married  Not college\n",
       "55  Female   45        Married  Not college\n",
       "58  Female   44    Not married  Not college"
      ]
     },
     "execution_count": 10,
     "metadata": {},
     "output_type": "execute_result"
    }
   ],
   "source": [
    "college_counts = dx.Education.unique()\n",
    "non_college = list(college_counts[college_counts != 'College'])\n",
    "\n",
    "dx['Education'] = dx['Education'].replace(non_college, 'Not college')\n",
    "dx.head()"
   ]
  },
  {
   "cell_type": "code",
   "execution_count": 11,
   "id": "789bb7e7",
   "metadata": {
    "execution": {
     "iopub.execute_input": "2022-02-03T09:01:24.693382Z",
     "iopub.status.busy": "2022-02-03T09:01:24.692426Z",
     "iopub.status.idle": "2022-02-03T09:01:24.721436Z",
     "shell.execute_reply": "2022-02-03T09:01:24.719987Z",
     "shell.execute_reply.started": "2022-02-03T08:27:00.806200Z"
    },
    "papermill": {
     "duration": 0.089204,
     "end_time": "2022-02-03T09:01:24.721601",
     "exception": false,
     "start_time": "2022-02-03T09:01:24.632397",
     "status": "completed"
    },
    "tags": []
   },
   "outputs": [
    {
     "data": {
      "text/html": [
       "<div>\n",
       "<style scoped>\n",
       "    .dataframe tbody tr th:only-of-type {\n",
       "        vertical-align: middle;\n",
       "    }\n",
       "\n",
       "    .dataframe tbody tr th {\n",
       "        vertical-align: top;\n",
       "    }\n",
       "\n",
       "    .dataframe thead th {\n",
       "        text-align: right;\n",
       "    }\n",
       "</style>\n",
       "<table border=\"1\" class=\"dataframe\">\n",
       "  <thead>\n",
       "    <tr style=\"text-align: right;\">\n",
       "      <th>Education</th>\n",
       "      <th>College</th>\n",
       "      <th>Not college</th>\n",
       "    </tr>\n",
       "    <tr>\n",
       "      <th>Marital_status</th>\n",
       "      <th></th>\n",
       "      <th></th>\n",
       "    </tr>\n",
       "  </thead>\n",
       "  <tbody>\n",
       "    <tr>\n",
       "      <th>Married</th>\n",
       "      <td>117</td>\n",
       "      <td>275</td>\n",
       "    </tr>\n",
       "    <tr>\n",
       "      <th>Not married</th>\n",
       "      <td>109</td>\n",
       "      <td>197</td>\n",
       "    </tr>\n",
       "  </tbody>\n",
       "</table>\n",
       "</div>"
      ],
      "text/plain": [
       "Education       College  Not college\n",
       "Marital_status                      \n",
       "Married             117          275\n",
       "Not married         109          197"
      ]
     },
     "execution_count": 11,
     "metadata": {},
     "output_type": "execute_result"
    }
   ],
   "source": [
    "pd.crosstab(dx.Marital_status, dx.Education)"
   ]
  },
  {
   "cell_type": "code",
   "execution_count": 12,
   "id": "339404bb",
   "metadata": {
    "execution": {
     "iopub.execute_input": "2022-02-03T09:01:24.839198Z",
     "iopub.status.busy": "2022-02-03T09:01:24.838416Z",
     "iopub.status.idle": "2022-02-03T09:01:24.847359Z",
     "shell.execute_reply": "2022-02-03T09:01:24.847891Z",
     "shell.execute_reply.started": "2022-02-03T08:27:00.863424Z"
    },
    "papermill": {
     "duration": 0.072637,
     "end_time": "2022-02-03T09:01:24.848077",
     "exception": false,
     "start_time": "2022-02-03T09:01:24.775440",
     "status": "completed"
    },
    "tags": []
   },
   "outputs": [
    {
     "data": {
      "text/html": [
       "<div>\n",
       "<style scoped>\n",
       "    .dataframe tbody tr th:only-of-type {\n",
       "        vertical-align: middle;\n",
       "    }\n",
       "\n",
       "    .dataframe tbody tr th {\n",
       "        vertical-align: top;\n",
       "    }\n",
       "\n",
       "    .dataframe thead th {\n",
       "        text-align: right;\n",
       "    }\n",
       "</style>\n",
       "<table border=\"1\" class=\"dataframe\">\n",
       "  <thead>\n",
       "    <tr style=\"text-align: right;\">\n",
       "      <th></th>\n",
       "      <th>proportion</th>\n",
       "      <th>size</th>\n",
       "    </tr>\n",
       "    <tr>\n",
       "      <th>Marital_status</th>\n",
       "      <th></th>\n",
       "      <th></th>\n",
       "    </tr>\n",
       "  </thead>\n",
       "  <tbody>\n",
       "    <tr>\n",
       "      <th>Married</th>\n",
       "      <td>0.298469</td>\n",
       "      <td>392</td>\n",
       "    </tr>\n",
       "    <tr>\n",
       "      <th>Not married</th>\n",
       "      <td>0.356209</td>\n",
       "      <td>306</td>\n",
       "    </tr>\n",
       "  </tbody>\n",
       "</table>\n",
       "</div>"
      ],
      "text/plain": [
       "                proportion  size\n",
       "Marital_status                  \n",
       "Married           0.298469   392\n",
       "Not married       0.356209   306"
      ]
     },
     "execution_count": 12,
     "metadata": {},
     "output_type": "execute_result"
    }
   ],
   "source": [
    "dz = dx.groupby(dx.Marital_status).agg({'Education': [lambda x : np.mean(x == 'College'), np.size]})\n",
    "dz.columns = ['proportion','size']\n",
    "dz"
   ]
  },
  {
   "cell_type": "code",
   "execution_count": 13,
   "id": "7406ba34",
   "metadata": {
    "execution": {
     "iopub.execute_input": "2022-02-03T09:01:24.960947Z",
     "iopub.status.busy": "2022-02-03T09:01:24.960055Z",
     "iopub.status.idle": "2022-02-03T09:01:24.965966Z",
     "shell.execute_reply": "2022-02-03T09:01:24.966608Z",
     "shell.execute_reply.started": "2022-02-03T08:27:00.878928Z"
    },
    "papermill": {
     "duration": 0.063595,
     "end_time": "2022-02-03T09:01:24.966800",
     "exception": false,
     "start_time": "2022-02-03T09:01:24.903205",
     "status": "completed"
    },
    "tags": []
   },
   "outputs": [
    {
     "data": {
      "text/plain": [
       "0.29846938775510207"
      ]
     },
     "execution_count": 13,
     "metadata": {},
     "output_type": "execute_result"
    }
   ],
   "source": [
    "# Proportion of married (1) women age 35-50 who finished college (4)\n",
    "proportion_married = dz.iloc[0,0]\n",
    "proportion_married"
   ]
  },
  {
   "cell_type": "code",
   "execution_count": 14,
   "id": "fb116e2c",
   "metadata": {
    "execution": {
     "iopub.execute_input": "2022-02-03T09:01:25.080780Z",
     "iopub.status.busy": "2022-02-03T09:01:25.080098Z",
     "iopub.status.idle": "2022-02-03T09:01:25.084992Z",
     "shell.execute_reply": "2022-02-03T09:01:25.085538Z",
     "shell.execute_reply.started": "2022-02-03T08:27:00.885757Z"
    },
    "papermill": {
     "duration": 0.063096,
     "end_time": "2022-02-03T09:01:25.085734",
     "exception": false,
     "start_time": "2022-02-03T09:01:25.022638",
     "status": "completed"
    },
    "tags": []
   },
   "outputs": [
    {
     "data": {
      "text/plain": [
       "0.20938541232819657"
      ]
     },
     "execution_count": 14,
     "metadata": {},
     "output_type": "execute_result"
    }
   ],
   "source": [
    "# Standard error of married\n",
    "se_married=proportion_married*(1-proportion_married)\n",
    "se_married"
   ]
  },
  {
   "cell_type": "code",
   "execution_count": 15,
   "id": "d1459d19",
   "metadata": {
    "execution": {
     "iopub.execute_input": "2022-02-03T09:01:25.210467Z",
     "iopub.status.busy": "2022-02-03T09:01:25.209775Z",
     "iopub.status.idle": "2022-02-03T09:01:25.212614Z",
     "shell.execute_reply": "2022-02-03T09:01:25.213180Z",
     "shell.execute_reply.started": "2022-02-03T08:27:00.901267Z"
    },
    "papermill": {
     "duration": 0.06974,
     "end_time": "2022-02-03T09:01:25.213370",
     "exception": false,
     "start_time": "2022-02-03T09:01:25.143630",
     "status": "completed"
    },
    "tags": []
   },
   "outputs": [
    {
     "data": {
      "text/plain": [
       "392"
      ]
     },
     "execution_count": 15,
     "metadata": {},
     "output_type": "execute_result"
    }
   ],
   "source": [
    "n_married = dz.iloc[0,1]\n",
    "n_married"
   ]
  },
  {
   "cell_type": "code",
   "execution_count": 16,
   "id": "6a6280e2",
   "metadata": {
    "execution": {
     "iopub.execute_input": "2022-02-03T09:01:25.331873Z",
     "iopub.status.busy": "2022-02-03T09:01:25.328618Z",
     "iopub.status.idle": "2022-02-03T09:01:25.334763Z",
     "shell.execute_reply": "2022-02-03T09:01:25.335303Z",
     "shell.execute_reply.started": "2022-02-03T08:27:00.915375Z"
    },
    "papermill": {
     "duration": 0.066348,
     "end_time": "2022-02-03T09:01:25.335492",
     "exception": false,
     "start_time": "2022-02-03T09:01:25.269144",
     "status": "completed"
    },
    "tags": []
   },
   "outputs": [
    {
     "name": "stdout",
     "output_type": "stream",
     "text": [
      "Lower Boundary : 0.253170634562367\n",
      "Upper Boundary : 0.34376814094783714\n"
     ]
    }
   ],
   "source": [
    "# Calculate the boundaries for married female age 35-50 \n",
    "lbc_married =   proportion_married-1.96*np.sqrt((se_married/n_married))\n",
    "ubc_married =  proportion_married+1.96*np.sqrt((se_married/n_married))\n",
    "print('Lower Boundary :',lbc_married)\n",
    "print('Upper Boundary :',ubc_married)"
   ]
  },
  {
   "cell_type": "code",
   "execution_count": 17,
   "id": "7b52d109",
   "metadata": {
    "execution": {
     "iopub.execute_input": "2022-02-03T09:01:25.451628Z",
     "iopub.status.busy": "2022-02-03T09:01:25.450977Z",
     "iopub.status.idle": "2022-02-03T09:01:25.457774Z",
     "shell.execute_reply": "2022-02-03T09:01:25.458344Z",
     "shell.execute_reply.started": "2022-02-03T08:27:00.928646Z"
    },
    "papermill": {
     "duration": 0.065684,
     "end_time": "2022-02-03T09:01:25.458539",
     "exception": false,
     "start_time": "2022-02-03T09:01:25.392855",
     "status": "completed"
    },
    "tags": []
   },
   "outputs": [
    {
     "data": {
      "text/plain": [
       "0.3562091503267974"
      ]
     },
     "execution_count": 17,
     "metadata": {},
     "output_type": "execute_result"
    }
   ],
   "source": [
    "# Proportion of married (1) women age 35-50 who finished college (4)\n",
    "proportion_not_married = dz.iloc[1,0]\n",
    "proportion_not_married"
   ]
  },
  {
   "cell_type": "code",
   "execution_count": 18,
   "id": "edbd1acf",
   "metadata": {
    "execution": {
     "iopub.execute_input": "2022-02-03T09:01:25.574834Z",
     "iopub.status.busy": "2022-02-03T09:01:25.574101Z",
     "iopub.status.idle": "2022-02-03T09:01:25.579038Z",
     "shell.execute_reply": "2022-02-03T09:01:25.579491Z",
     "shell.execute_reply.started": "2022-02-03T08:27:00.945207Z"
    },
    "papermill": {
     "duration": 0.0641,
     "end_time": "2022-02-03T09:01:25.579670",
     "exception": false,
     "start_time": "2022-02-03T09:01:25.515570",
     "status": "completed"
    },
    "tags": []
   },
   "outputs": [
    {
     "data": {
      "text/plain": [
       "0.22932419155025843"
      ]
     },
     "execution_count": 18,
     "metadata": {},
     "output_type": "execute_result"
    }
   ],
   "source": [
    "# Standard error of not married\n",
    "se_not_married=proportion_not_married*(1-proportion_not_married)\n",
    "se_not_married"
   ]
  },
  {
   "cell_type": "code",
   "execution_count": 19,
   "id": "d1658ac8",
   "metadata": {
    "execution": {
     "iopub.execute_input": "2022-02-03T09:01:25.693121Z",
     "iopub.status.busy": "2022-02-03T09:01:25.692412Z",
     "iopub.status.idle": "2022-02-03T09:01:25.698989Z",
     "shell.execute_reply": "2022-02-03T09:01:25.698416Z",
     "shell.execute_reply.started": "2022-02-03T08:27:00.961426Z"
    },
    "papermill": {
     "duration": 0.064642,
     "end_time": "2022-02-03T09:01:25.699138",
     "exception": false,
     "start_time": "2022-02-03T09:01:25.634496",
     "status": "completed"
    },
    "tags": []
   },
   "outputs": [
    {
     "data": {
      "text/plain": [
       "306"
      ]
     },
     "execution_count": 19,
     "metadata": {},
     "output_type": "execute_result"
    }
   ],
   "source": [
    "n_not_married = dz.iloc[1,1]\n",
    "n_not_married"
   ]
  },
  {
   "cell_type": "code",
   "execution_count": 20,
   "id": "b1bb69fa",
   "metadata": {
    "execution": {
     "iopub.execute_input": "2022-02-03T09:01:25.824532Z",
     "iopub.status.busy": "2022-02-03T09:01:25.823763Z",
     "iopub.status.idle": "2022-02-03T09:01:25.826641Z",
     "shell.execute_reply": "2022-02-03T09:01:25.827173Z",
     "shell.execute_reply.started": "2022-02-03T08:27:00.973848Z"
    },
    "papermill": {
     "duration": 0.069414,
     "end_time": "2022-02-03T09:01:25.827358",
     "exception": false,
     "start_time": "2022-02-03T09:01:25.757944",
     "status": "completed"
    },
    "tags": []
   },
   "outputs": [
    {
     "name": "stdout",
     "output_type": "stream",
     "text": [
      "Lower Boundary: 0.3025529031876515\n",
      "Upper Boundary: 0.4098653974659433\n"
     ]
    }
   ],
   "source": [
    "# Calculate the boundaries for married female age 35-50 \n",
    "lbc_unmarried = proportion_not_married-1.96*np.sqrt((se_not_married/n_not_married))\n",
    "ubc_unmarried = proportion_not_married+1.96*np.sqrt((se_not_married/n_not_married))\n",
    "print('Lower Boundary:', lbc_unmarried)\n",
    "print('Upper Boundary:', ubc_unmarried)"
   ]
  },
  {
   "cell_type": "markdown",
   "id": "c8516202",
   "metadata": {
    "papermill": {
     "duration": 0.058764,
     "end_time": "2022-02-03T09:01:25.943038",
     "exception": false,
     "start_time": "2022-02-03T09:01:25.884274",
     "status": "completed"
    },
    "tags": []
   },
   "source": [
    "**Q1a.** Identify which of the two confidence intervals is wider, and explain why this is the case."
   ]
  },
  {
   "cell_type": "code",
   "execution_count": 21,
   "id": "ff4b99ff",
   "metadata": {
    "execution": {
     "iopub.execute_input": "2022-02-03T09:01:26.063739Z",
     "iopub.status.busy": "2022-02-03T09:01:26.063074Z",
     "iopub.status.idle": "2022-02-03T09:01:26.069820Z",
     "shell.execute_reply": "2022-02-03T09:01:26.070329Z",
     "shell.execute_reply.started": "2022-02-03T08:27:00.987414Z"
    },
    "papermill": {
     "duration": 0.067893,
     "end_time": "2022-02-03T09:01:26.070517",
     "exception": false,
     "start_time": "2022-02-03T09:01:26.002624",
     "status": "completed"
    },
    "tags": []
   },
   "outputs": [
    {
     "name": "stdout",
     "output_type": "stream",
     "text": [
      "Married interval: 0.09059750638547015\n",
      "Unmarried interval: 0.10731249427829181\n"
     ]
    }
   ],
   "source": [
    "# Which one is wider?\n",
    "married = ubc_married - lbc_married\n",
    "unmarried = ubc_unmarried - lbc_unmarried\n",
    "print('Married interval:', married)\n",
    "print('Unmarried interval:', unmarried)"
   ]
  },
  {
   "cell_type": "markdown",
   "id": "5b8b122b",
   "metadata": {
    "papermill": {
     "duration": 0.058277,
     "end_time": "2022-02-03T09:01:26.186110",
     "exception": false,
     "start_time": "2022-02-03T09:01:26.127833",
     "status": "completed"
    },
    "tags": []
   },
   "source": [
    "**Answer** : The wider interval of confidence interval is in the unmarried sample. The wider interval happen because the number of sample is fewer and the standard error has a bigger value."
   ]
  },
  {
   "cell_type": "markdown",
   "id": "920d7ccf",
   "metadata": {
    "papermill": {
     "duration": 0.05927,
     "end_time": "2022-02-03T09:01:26.304564",
     "exception": false,
     "start_time": "2022-02-03T09:01:26.245294",
     "status": "completed"
    },
    "tags": []
   },
   "source": [
    "**Conclusion :**\n"
   ]
  },
  {
   "cell_type": "markdown",
   "id": "c938f0e7",
   "metadata": {
    "papermill": {
     "duration": 0.062583,
     "end_time": "2022-02-03T09:01:26.423078",
     "exception": false,
     "start_time": "2022-02-03T09:01:26.360495",
     "status": "completed"
    },
    "tags": []
   },
   "source": [
    "## Problem 2\n",
    "\n",
    "1. Construct a 95% confidence interval for the proportion of smokers who are female. \n",
    "2. Construct a 95% confidence interval for the proportion of smokers who are male. \n",
    "3. Construct a 95% confidence interval for the **difference** between those two gender proportions."
   ]
  },
  {
   "cell_type": "code",
   "execution_count": 22,
   "id": "6bfccf26",
   "metadata": {
    "execution": {
     "iopub.execute_input": "2022-02-03T09:01:26.551846Z",
     "iopub.status.busy": "2022-02-03T09:01:26.551070Z",
     "iopub.status.idle": "2022-02-03T09:01:26.553958Z",
     "shell.execute_reply": "2022-02-03T09:01:26.553207Z",
     "shell.execute_reply.started": "2022-02-03T08:27:01.001276Z"
    },
    "papermill": {
     "duration": 0.071924,
     "end_time": "2022-02-03T09:01:26.554123",
     "exception": false,
     "start_time": "2022-02-03T09:01:26.482199",
     "status": "completed"
    },
    "tags": []
   },
   "outputs": [],
   "source": [
    "# Proportion of female smoker with 95% CI and the difference between proportion of man and woman smoker with 95% CI.\n",
    "\n",
    "da[['RIAGENDR','SMQ020']].isnull().sum() # no null value, safe\n",
    "ds = da[['RIAGENDR','SMQ020']]"
   ]
  },
  {
   "cell_type": "code",
   "execution_count": 23,
   "id": "7bb18b3e",
   "metadata": {
    "execution": {
     "iopub.execute_input": "2022-02-03T09:01:26.684223Z",
     "iopub.status.busy": "2022-02-03T09:01:26.683516Z",
     "iopub.status.idle": "2022-02-03T09:01:26.687355Z",
     "shell.execute_reply": "2022-02-03T09:01:26.686664Z",
     "shell.execute_reply.started": "2022-02-03T08:27:01.056977Z"
    },
    "papermill": {
     "duration": 0.072655,
     "end_time": "2022-02-03T09:01:26.687507",
     "exception": false,
     "start_time": "2022-02-03T09:01:26.614852",
     "status": "completed"
    },
    "tags": []
   },
   "outputs": [
    {
     "data": {
      "text/html": [
       "<div>\n",
       "<style scoped>\n",
       "    .dataframe tbody tr th:only-of-type {\n",
       "        vertical-align: middle;\n",
       "    }\n",
       "\n",
       "    .dataframe tbody tr th {\n",
       "        vertical-align: top;\n",
       "    }\n",
       "\n",
       "    .dataframe thead th {\n",
       "        text-align: right;\n",
       "    }\n",
       "</style>\n",
       "<table border=\"1\" class=\"dataframe\">\n",
       "  <thead>\n",
       "    <tr style=\"text-align: right;\">\n",
       "      <th></th>\n",
       "      <th>Gender</th>\n",
       "      <th>Smoking</th>\n",
       "    </tr>\n",
       "  </thead>\n",
       "  <tbody>\n",
       "    <tr>\n",
       "      <th>0</th>\n",
       "      <td>1</td>\n",
       "      <td>1</td>\n",
       "    </tr>\n",
       "    <tr>\n",
       "      <th>1</th>\n",
       "      <td>1</td>\n",
       "      <td>1</td>\n",
       "    </tr>\n",
       "    <tr>\n",
       "      <th>2</th>\n",
       "      <td>1</td>\n",
       "      <td>1</td>\n",
       "    </tr>\n",
       "    <tr>\n",
       "      <th>3</th>\n",
       "      <td>2</td>\n",
       "      <td>2</td>\n",
       "    </tr>\n",
       "    <tr>\n",
       "      <th>4</th>\n",
       "      <td>2</td>\n",
       "      <td>2</td>\n",
       "    </tr>\n",
       "  </tbody>\n",
       "</table>\n",
       "</div>"
      ],
      "text/plain": [
       "   Gender  Smoking\n",
       "0       1        1\n",
       "1       1        1\n",
       "2       1        1\n",
       "3       2        2\n",
       "4       2        2"
      ]
     },
     "execution_count": 23,
     "metadata": {},
     "output_type": "execute_result"
    }
   ],
   "source": [
    "ds.columns = ['Gender','Smoking']\n",
    "ds.head()"
   ]
  },
  {
   "cell_type": "code",
   "execution_count": 24,
   "id": "16b8039e",
   "metadata": {
    "execution": {
     "iopub.execute_input": "2022-02-03T09:01:26.816266Z",
     "iopub.status.busy": "2022-02-03T09:01:26.815570Z",
     "iopub.status.idle": "2022-02-03T09:01:26.819497Z",
     "shell.execute_reply": "2022-02-03T09:01:26.818866Z",
     "shell.execute_reply.started": "2022-02-03T08:27:01.126255Z"
    },
    "papermill": {
     "duration": 0.074495,
     "end_time": "2022-02-03T09:01:26.819641",
     "exception": false,
     "start_time": "2022-02-03T09:01:26.745146",
     "status": "completed"
    },
    "tags": []
   },
   "outputs": [
    {
     "data": {
      "text/html": [
       "<div>\n",
       "<style scoped>\n",
       "    .dataframe tbody tr th:only-of-type {\n",
       "        vertical-align: middle;\n",
       "    }\n",
       "\n",
       "    .dataframe tbody tr th {\n",
       "        vertical-align: top;\n",
       "    }\n",
       "\n",
       "    .dataframe thead th {\n",
       "        text-align: right;\n",
       "    }\n",
       "</style>\n",
       "<table border=\"1\" class=\"dataframe\">\n",
       "  <thead>\n",
       "    <tr style=\"text-align: right;\">\n",
       "      <th></th>\n",
       "      <th>Gender</th>\n",
       "      <th>Smoking</th>\n",
       "    </tr>\n",
       "  </thead>\n",
       "  <tbody>\n",
       "    <tr>\n",
       "      <th>0</th>\n",
       "      <td>Male</td>\n",
       "      <td>1</td>\n",
       "    </tr>\n",
       "    <tr>\n",
       "      <th>1</th>\n",
       "      <td>Male</td>\n",
       "      <td>1</td>\n",
       "    </tr>\n",
       "    <tr>\n",
       "      <th>2</th>\n",
       "      <td>Male</td>\n",
       "      <td>1</td>\n",
       "    </tr>\n",
       "    <tr>\n",
       "      <th>3</th>\n",
       "      <td>Female</td>\n",
       "      <td>2</td>\n",
       "    </tr>\n",
       "    <tr>\n",
       "      <th>4</th>\n",
       "      <td>Female</td>\n",
       "      <td>2</td>\n",
       "    </tr>\n",
       "  </tbody>\n",
       "</table>\n",
       "</div>"
      ],
      "text/plain": [
       "   Gender  Smoking\n",
       "0    Male        1\n",
       "1    Male        1\n",
       "2    Male        1\n",
       "3  Female        2\n",
       "4  Female        2"
      ]
     },
     "execution_count": 24,
     "metadata": {},
     "output_type": "execute_result"
    }
   ],
   "source": [
    "ds.Gender.unique()\n",
    "ds['Gender'] = ds.Gender.replace({1 : 'Male', 2 : 'Female'})\n",
    "ds.head()"
   ]
  },
  {
   "cell_type": "code",
   "execution_count": 25,
   "id": "63f49393",
   "metadata": {
    "execution": {
     "iopub.execute_input": "2022-02-03T09:01:26.945229Z",
     "iopub.status.busy": "2022-02-03T09:01:26.944515Z",
     "iopub.status.idle": "2022-02-03T09:01:26.954038Z",
     "shell.execute_reply": "2022-02-03T09:01:26.954566Z",
     "shell.execute_reply.started": "2022-02-03T08:27:01.214724Z"
    },
    "papermill": {
     "duration": 0.074685,
     "end_time": "2022-02-03T09:01:26.954765",
     "exception": false,
     "start_time": "2022-02-03T09:01:26.880080",
     "status": "completed"
    },
    "tags": []
   },
   "outputs": [
    {
     "data": {
      "text/html": [
       "<div>\n",
       "<style scoped>\n",
       "    .dataframe tbody tr th:only-of-type {\n",
       "        vertical-align: middle;\n",
       "    }\n",
       "\n",
       "    .dataframe tbody tr th {\n",
       "        vertical-align: top;\n",
       "    }\n",
       "\n",
       "    .dataframe thead th {\n",
       "        text-align: right;\n",
       "    }\n",
       "</style>\n",
       "<table border=\"1\" class=\"dataframe\">\n",
       "  <thead>\n",
       "    <tr style=\"text-align: right;\">\n",
       "      <th></th>\n",
       "      <th>Gender</th>\n",
       "      <th>Smoking</th>\n",
       "    </tr>\n",
       "  </thead>\n",
       "  <tbody>\n",
       "    <tr>\n",
       "      <th>0</th>\n",
       "      <td>Male</td>\n",
       "      <td>Yes</td>\n",
       "    </tr>\n",
       "    <tr>\n",
       "      <th>1</th>\n",
       "      <td>Male</td>\n",
       "      <td>Yes</td>\n",
       "    </tr>\n",
       "    <tr>\n",
       "      <th>2</th>\n",
       "      <td>Male</td>\n",
       "      <td>Yes</td>\n",
       "    </tr>\n",
       "    <tr>\n",
       "      <th>3</th>\n",
       "      <td>Female</td>\n",
       "      <td>No</td>\n",
       "    </tr>\n",
       "    <tr>\n",
       "      <th>4</th>\n",
       "      <td>Female</td>\n",
       "      <td>No</td>\n",
       "    </tr>\n",
       "  </tbody>\n",
       "</table>\n",
       "</div>"
      ],
      "text/plain": [
       "   Gender Smoking\n",
       "0    Male     Yes\n",
       "1    Male     Yes\n",
       "2    Male     Yes\n",
       "3  Female      No\n",
       "4  Female      No"
      ]
     },
     "execution_count": 25,
     "metadata": {},
     "output_type": "execute_result"
    }
   ],
   "source": [
    "ds.Smoking.unique()\n",
    "ds['Smoking'] = ds.Smoking.replace({1 : 'Yes', 2 : 'No', 7 : np.nan, 9 : np.nan})\n",
    "ds.head()"
   ]
  },
  {
   "cell_type": "code",
   "execution_count": 26,
   "id": "2ce6a6a8",
   "metadata": {
    "execution": {
     "iopub.execute_input": "2022-02-03T09:01:27.083999Z",
     "iopub.status.busy": "2022-02-03T09:01:27.083295Z",
     "iopub.status.idle": "2022-02-03T09:01:27.095356Z",
     "shell.execute_reply": "2022-02-03T09:01:27.095940Z",
     "shell.execute_reply.started": "2022-02-03T08:27:01.232423Z"
    },
    "papermill": {
     "duration": 0.081925,
     "end_time": "2022-02-03T09:01:27.096137",
     "exception": false,
     "start_time": "2022-02-03T09:01:27.014212",
     "status": "completed"
    },
    "tags": []
   },
   "outputs": [
    {
     "data": {
      "text/html": [
       "<div>\n",
       "<style scoped>\n",
       "    .dataframe tbody tr th:only-of-type {\n",
       "        vertical-align: middle;\n",
       "    }\n",
       "\n",
       "    .dataframe tbody tr th {\n",
       "        vertical-align: top;\n",
       "    }\n",
       "\n",
       "    .dataframe thead th {\n",
       "        text-align: right;\n",
       "    }\n",
       "</style>\n",
       "<table border=\"1\" class=\"dataframe\">\n",
       "  <thead>\n",
       "    <tr style=\"text-align: right;\">\n",
       "      <th></th>\n",
       "      <th>Gender</th>\n",
       "      <th>Smoking</th>\n",
       "    </tr>\n",
       "  </thead>\n",
       "  <tbody>\n",
       "    <tr>\n",
       "      <th>0</th>\n",
       "      <td>Male</td>\n",
       "      <td>Yes</td>\n",
       "    </tr>\n",
       "    <tr>\n",
       "      <th>1</th>\n",
       "      <td>Male</td>\n",
       "      <td>Yes</td>\n",
       "    </tr>\n",
       "    <tr>\n",
       "      <th>2</th>\n",
       "      <td>Male</td>\n",
       "      <td>Yes</td>\n",
       "    </tr>\n",
       "    <tr>\n",
       "      <th>3</th>\n",
       "      <td>Female</td>\n",
       "      <td>No</td>\n",
       "    </tr>\n",
       "    <tr>\n",
       "      <th>4</th>\n",
       "      <td>Female</td>\n",
       "      <td>No</td>\n",
       "    </tr>\n",
       "  </tbody>\n",
       "</table>\n",
       "</div>"
      ],
      "text/plain": [
       "   Gender Smoking\n",
       "0    Male     Yes\n",
       "1    Male     Yes\n",
       "2    Male     Yes\n",
       "3  Female      No\n",
       "4  Female      No"
      ]
     },
     "execution_count": 26,
     "metadata": {},
     "output_type": "execute_result"
    }
   ],
   "source": [
    "ds.dropna(inplace = True)\n",
    "ds.head()"
   ]
  },
  {
   "cell_type": "code",
   "execution_count": 27,
   "id": "7bce525a",
   "metadata": {
    "execution": {
     "iopub.execute_input": "2022-02-03T09:01:27.227300Z",
     "iopub.status.busy": "2022-02-03T09:01:27.226570Z",
     "iopub.status.idle": "2022-02-03T09:01:27.246230Z",
     "shell.execute_reply": "2022-02-03T09:01:27.246747Z",
     "shell.execute_reply.started": "2022-02-03T08:27:01.261460Z"
    },
    "papermill": {
     "duration": 0.087538,
     "end_time": "2022-02-03T09:01:27.246938",
     "exception": false,
     "start_time": "2022-02-03T09:01:27.159400",
     "status": "completed"
    },
    "tags": []
   },
   "outputs": [
    {
     "data": {
      "text/html": [
       "<div>\n",
       "<style scoped>\n",
       "    .dataframe tbody tr th:only-of-type {\n",
       "        vertical-align: middle;\n",
       "    }\n",
       "\n",
       "    .dataframe tbody tr th {\n",
       "        vertical-align: top;\n",
       "    }\n",
       "\n",
       "    .dataframe thead th {\n",
       "        text-align: right;\n",
       "    }\n",
       "</style>\n",
       "<table border=\"1\" class=\"dataframe\">\n",
       "  <thead>\n",
       "    <tr style=\"text-align: right;\">\n",
       "      <th>Gender</th>\n",
       "      <th>Female</th>\n",
       "      <th>Male</th>\n",
       "    </tr>\n",
       "    <tr>\n",
       "      <th>Smoking</th>\n",
       "      <th></th>\n",
       "      <th></th>\n",
       "    </tr>\n",
       "  </thead>\n",
       "  <tbody>\n",
       "    <tr>\n",
       "      <th>No</th>\n",
       "      <td>2066</td>\n",
       "      <td>1340</td>\n",
       "    </tr>\n",
       "    <tr>\n",
       "      <th>Yes</th>\n",
       "      <td>906</td>\n",
       "      <td>1413</td>\n",
       "    </tr>\n",
       "  </tbody>\n",
       "</table>\n",
       "</div>"
      ],
      "text/plain": [
       "Gender   Female  Male\n",
       "Smoking              \n",
       "No         2066  1340\n",
       "Yes         906  1413"
      ]
     },
     "execution_count": 27,
     "metadata": {},
     "output_type": "execute_result"
    }
   ],
   "source": [
    "pd.crosstab(ds.Smoking, ds.Gender)"
   ]
  },
  {
   "cell_type": "code",
   "execution_count": 28,
   "id": "6a0c7620",
   "metadata": {
    "execution": {
     "iopub.execute_input": "2022-02-03T09:01:27.378475Z",
     "iopub.status.busy": "2022-02-03T09:01:27.377785Z",
     "iopub.status.idle": "2022-02-03T09:01:27.395683Z",
     "shell.execute_reply": "2022-02-03T09:01:27.395098Z",
     "shell.execute_reply.started": "2022-02-03T08:27:01.305109Z"
    },
    "papermill": {
     "duration": 0.084952,
     "end_time": "2022-02-03T09:01:27.395859",
     "exception": false,
     "start_time": "2022-02-03T09:01:27.310907",
     "status": "completed"
    },
    "tags": []
   },
   "outputs": [
    {
     "data": {
      "text/html": [
       "<div>\n",
       "<style scoped>\n",
       "    .dataframe tbody tr th:only-of-type {\n",
       "        vertical-align: middle;\n",
       "    }\n",
       "\n",
       "    .dataframe tbody tr th {\n",
       "        vertical-align: top;\n",
       "    }\n",
       "\n",
       "    .dataframe thead th {\n",
       "        text-align: right;\n",
       "    }\n",
       "</style>\n",
       "<table border=\"1\" class=\"dataframe\">\n",
       "  <thead>\n",
       "    <tr style=\"text-align: right;\">\n",
       "      <th></th>\n",
       "      <th>proportion</th>\n",
       "      <th>size</th>\n",
       "    </tr>\n",
       "    <tr>\n",
       "      <th>Gender</th>\n",
       "      <th></th>\n",
       "      <th></th>\n",
       "    </tr>\n",
       "  </thead>\n",
       "  <tbody>\n",
       "    <tr>\n",
       "      <th>Female</th>\n",
       "      <td>0.304845</td>\n",
       "      <td>2972</td>\n",
       "    </tr>\n",
       "    <tr>\n",
       "      <th>Male</th>\n",
       "      <td>0.513258</td>\n",
       "      <td>2753</td>\n",
       "    </tr>\n",
       "  </tbody>\n",
       "</table>\n",
       "</div>"
      ],
      "text/plain": [
       "        proportion  size\n",
       "Gender                  \n",
       "Female    0.304845  2972\n",
       "Male      0.513258  2753"
      ]
     },
     "execution_count": 28,
     "metadata": {},
     "output_type": "execute_result"
    }
   ],
   "source": [
    "z = ds.groupby(ds.Gender).agg({'Smoking' : [lambda x: np.mean(x == 'Yes'), np.size]})\n",
    "z.columns = ['proportion', 'size']\n",
    "z"
   ]
  },
  {
   "cell_type": "code",
   "execution_count": 29,
   "id": "dc239fc3",
   "metadata": {
    "execution": {
     "iopub.execute_input": "2022-02-03T09:01:27.524092Z",
     "iopub.status.busy": "2022-02-03T09:01:27.523413Z",
     "iopub.status.idle": "2022-02-03T09:01:27.527627Z",
     "shell.execute_reply": "2022-02-03T09:01:27.528176Z",
     "shell.execute_reply.started": "2022-02-03T08:27:01.322268Z"
    },
    "papermill": {
     "duration": 0.069439,
     "end_time": "2022-02-03T09:01:27.528479",
     "exception": false,
     "start_time": "2022-02-03T09:01:27.459040",
     "status": "completed"
    },
    "tags": []
   },
   "outputs": [],
   "source": [
    "#Female summary\n",
    "nf = z.iloc[0,1]\n",
    "pf = z.iloc[0,0] "
   ]
  },
  {
   "cell_type": "code",
   "execution_count": 30,
   "id": "22548235",
   "metadata": {
    "execution": {
     "iopub.execute_input": "2022-02-03T09:01:27.650719Z",
     "iopub.status.busy": "2022-02-03T09:01:27.650042Z",
     "iopub.status.idle": "2022-02-03T09:01:27.657447Z",
     "shell.execute_reply": "2022-02-03T09:01:27.658081Z",
     "shell.execute_reply.started": "2022-02-03T08:27:01.328216Z"
    },
    "papermill": {
     "duration": 0.06993,
     "end_time": "2022-02-03T09:01:27.658352",
     "exception": false,
     "start_time": "2022-02-03T09:01:27.588422",
     "status": "completed"
    },
    "tags": []
   },
   "outputs": [
    {
     "name": "stdout",
     "output_type": "stream",
     "text": [
      "proportion of female smoker: 0.30484522207267833\n",
      "lbc_f: 0.2882949879861214\n",
      "ubc_f: 0.32139545615923526\n"
     ]
    }
   ],
   "source": [
    "# The proportion and lower bound confidence and upper bound confidence for female smoker\n",
    "import statsmodels.api as sm\n",
    "bound_f = sm.stats.proportion_confint(nf *pf, nf)\n",
    "print('proportion of female smoker:', pf)\n",
    "print('lbc_f:', bound_f[0])\n",
    "print('ubc_f:', bound_f[1])"
   ]
  },
  {
   "cell_type": "code",
   "execution_count": 31,
   "id": "d0550c73",
   "metadata": {
    "execution": {
     "iopub.execute_input": "2022-02-03T09:01:27.783778Z",
     "iopub.status.busy": "2022-02-03T09:01:27.783110Z",
     "iopub.status.idle": "2022-02-03T09:01:27.787145Z",
     "shell.execute_reply": "2022-02-03T09:01:27.787720Z",
     "shell.execute_reply.started": "2022-02-03T08:27:01.341518Z"
    },
    "papermill": {
     "duration": 0.067985,
     "end_time": "2022-02-03T09:01:27.787934",
     "exception": false,
     "start_time": "2022-02-03T09:01:27.719949",
     "status": "completed"
    },
    "tags": []
   },
   "outputs": [],
   "source": [
    "# Male summary\n",
    "nm = z.iloc[1,1]\n",
    "pm = z.iloc[1,0]"
   ]
  },
  {
   "cell_type": "code",
   "execution_count": 32,
   "id": "e76ad835",
   "metadata": {
    "execution": {
     "iopub.execute_input": "2022-02-03T09:01:27.916101Z",
     "iopub.status.busy": "2022-02-03T09:01:27.915405Z",
     "iopub.status.idle": "2022-02-03T09:01:27.922478Z",
     "shell.execute_reply": "2022-02-03T09:01:27.922963Z",
     "shell.execute_reply.started": "2022-02-03T08:27:01.350620Z"
    },
    "papermill": {
     "duration": 0.071876,
     "end_time": "2022-02-03T09:01:27.923147",
     "exception": false,
     "start_time": "2022-02-03T09:01:27.851271",
     "status": "completed"
    },
    "tags": []
   },
   "outputs": [
    {
     "name": "stdout",
     "output_type": "stream",
     "text": [
      "proportion of male smoker: 0.5132582637123139\n",
      "lbc_f: 0.49458749263718593\n",
      "ubc_f: 0.5319290347874418\n"
     ]
    }
   ],
   "source": [
    "# The proportion and lower bound confidence and upper bound confidence for male smoker\n",
    "bound_m = sm.stats.proportion_confint(nm *pm, nm)\n",
    "print('proportion of male smoker:', pm)\n",
    "print('lbc_f:', bound_m[0])\n",
    "print('ubc_f:', bound_m[1])"
   ]
  },
  {
   "cell_type": "code",
   "execution_count": 33,
   "id": "f881db49",
   "metadata": {
    "execution": {
     "iopub.execute_input": "2022-02-03T09:01:28.052952Z",
     "iopub.status.busy": "2022-02-03T09:01:28.052171Z",
     "iopub.status.idle": "2022-02-03T09:01:28.055392Z",
     "shell.execute_reply": "2022-02-03T09:01:28.054829Z",
     "shell.execute_reply.started": "2022-02-03T08:27:01.365599Z"
    },
    "papermill": {
     "duration": 0.069122,
     "end_time": "2022-02-03T09:01:28.055565",
     "exception": false,
     "start_time": "2022-02-03T09:01:27.986443",
     "status": "completed"
    },
    "tags": []
   },
   "outputs": [],
   "source": [
    "# The difference with interval\n",
    "difference = pm - pf\n",
    "\n",
    "# se_diff\n",
    "se_male = np.sqrt((pm*(1-pm)/nm))\n",
    "se_female = np.sqrt((pf*(1-pf)/nf))\n",
    "se_diff = np.sqrt(se_male**2+se_female**2)\n",
    "\n",
    "#lcb and ucb diff, with 95% CI the z value is 1.96\n",
    "lcb_diff = difference - (1.96*se_diff)\n",
    "ucb_diff = difference + (1.96*se_diff)"
   ]
  },
  {
   "cell_type": "code",
   "execution_count": 34,
   "id": "b4a3bc2b",
   "metadata": {
    "execution": {
     "iopub.execute_input": "2022-02-03T09:01:28.183358Z",
     "iopub.status.busy": "2022-02-03T09:01:28.182360Z",
     "iopub.status.idle": "2022-02-03T09:01:28.186115Z",
     "shell.execute_reply": "2022-02-03T09:01:28.186905Z",
     "shell.execute_reply.started": "2022-02-03T08:27:01.381850Z"
    },
    "papermill": {
     "duration": 0.072207,
     "end_time": "2022-02-03T09:01:28.187152",
     "exception": false,
     "start_time": "2022-02-03T09:01:28.114945",
     "status": "completed"
    },
    "tags": []
   },
   "outputs": [
    {
     "name": "stdout",
     "output_type": "stream",
     "text": [
      "Difference of smoker proportion between male and female: 0.20841304163963553 ± 0.012729881381407434\n",
      "lower bound: 0.18346247413207697\n",
      "upper bound: 0.2333636091471941\n"
     ]
    }
   ],
   "source": [
    "print('Difference of smoker proportion between male and female:', difference, \"±\", se_diff)\n",
    "print('lower bound:', lcb_diff)\n",
    "print('upper bound:', ucb_diff)"
   ]
  },
  {
   "cell_type": "markdown",
   "id": "04a0031b",
   "metadata": {
    "papermill": {
     "duration": 0.061261,
     "end_time": "2022-02-03T09:01:28.314651",
     "exception": false,
     "start_time": "2022-02-03T09:01:28.253390",
     "status": "completed"
    },
    "tags": []
   },
   "source": [
    "**Q2a** Why might it be relevant to report the separate gender proportions **and** the difference between the gender proportions?\n",
    "\n",
    "**Q2b.** How does the width of the confidence interval for the difference between the gender proportions compare to the widths of the confidence intervals for the separate gender proportions?"
   ]
  },
  {
   "cell_type": "markdown",
   "id": "ec50599b",
   "metadata": {
    "papermill": {
     "duration": 0.063884,
     "end_time": "2022-02-03T09:01:28.441770",
     "exception": false,
     "start_time": "2022-02-03T09:01:28.377886",
     "status": "completed"
    },
    "tags": []
   },
   "source": [
    "## Problem 3\n",
    "\n",
    "Construct a 95% interval for height ([BMXHT](https://wwwn.cdc.gov/Nchs/Nhanes/2015-2016/BMX_I.htm#BMXHT)) in centimeters.  Then convert height from centimeters to inches by dividing by 2.54, and \n",
    "\n",
    "construct a 95% confidence interval for height in inches.  Finally, convert the endpoints (the lower and upper confidence limits) of the confidence interval from inches to back to centimeters   "
   ]
  },
  {
   "cell_type": "code",
   "execution_count": 35,
   "id": "402282fd",
   "metadata": {
    "execution": {
     "iopub.execute_input": "2022-02-03T09:01:28.576918Z",
     "iopub.status.busy": "2022-02-03T09:01:28.576174Z",
     "iopub.status.idle": "2022-02-03T09:01:28.580333Z",
     "shell.execute_reply": "2022-02-03T09:01:28.579676Z",
     "shell.execute_reply.started": "2022-02-03T08:27:01.397391Z"
    },
    "papermill": {
     "duration": 0.073925,
     "end_time": "2022-02-03T09:01:28.580485",
     "exception": false,
     "start_time": "2022-02-03T09:01:28.506560",
     "status": "completed"
    },
    "tags": []
   },
   "outputs": [
    {
     "data": {
      "text/plain": [
       "0    72.637795\n",
       "1    67.480315\n",
       "2    66.968504\n",
       "3    63.346457\n",
       "4    64.921260\n",
       "Name: BMXHT, dtype: float64"
      ]
     },
     "execution_count": 35,
     "metadata": {},
     "output_type": "execute_result"
    }
   ],
   "source": [
    "dh = da['BMXHT'].dropna() #remove the null\n",
    "dh_inch = dh/2.54 #convert to inch\n",
    "dh_inch.head()"
   ]
  },
  {
   "cell_type": "code",
   "execution_count": 36,
   "id": "520c665e",
   "metadata": {
    "execution": {
     "iopub.execute_input": "2022-02-03T09:01:28.708762Z",
     "iopub.status.busy": "2022-02-03T09:01:28.707750Z",
     "iopub.status.idle": "2022-02-03T09:01:28.709518Z",
     "shell.execute_reply": "2022-02-03T09:01:28.710174Z",
     "shell.execute_reply.started": "2022-02-03T08:27:01.411490Z"
    },
    "papermill": {
     "duration": 0.068265,
     "end_time": "2022-02-03T09:01:28.710377",
     "exception": false,
     "start_time": "2022-02-03T09:01:28.642112",
     "status": "completed"
    },
    "tags": []
   },
   "outputs": [],
   "source": [
    "dh_inch_std = dh_inch.std()\n",
    "dh_cm_std = dh.std()\n",
    "n = len(dh)"
   ]
  },
  {
   "cell_type": "code",
   "execution_count": 37,
   "id": "1777268d",
   "metadata": {
    "execution": {
     "iopub.execute_input": "2022-02-03T09:01:28.838917Z",
     "iopub.status.busy": "2022-02-03T09:01:28.838149Z",
     "iopub.status.idle": "2022-02-03T09:01:28.843712Z",
     "shell.execute_reply": "2022-02-03T09:01:28.844513Z",
     "shell.execute_reply.started": "2022-02-03T08:27:01.419907Z"
    },
    "papermill": {
     "duration": 0.071386,
     "end_time": "2022-02-03T09:01:28.844714",
     "exception": false,
     "start_time": "2022-02-03T09:01:28.773328",
     "status": "completed"
    },
    "tags": []
   },
   "outputs": [
    {
     "data": {
      "text/plain": [
       "65.41056475555557"
      ]
     },
     "execution_count": 37,
     "metadata": {},
     "output_type": "execute_result"
    }
   ],
   "source": [
    "# Mean in inch\n",
    "height_inch = dh_inch.mean()\n",
    "height_inch"
   ]
  },
  {
   "cell_type": "code",
   "execution_count": 38,
   "id": "b4357291",
   "metadata": {
    "execution": {
     "iopub.execute_input": "2022-02-03T09:01:28.978466Z",
     "iopub.status.busy": "2022-02-03T09:01:28.976940Z",
     "iopub.status.idle": "2022-02-03T09:01:28.985923Z",
     "shell.execute_reply": "2022-02-03T09:01:28.986431Z",
     "shell.execute_reply.started": "2022-02-03T08:27:01.432881Z"
    },
    "papermill": {
     "duration": 0.079189,
     "end_time": "2022-02-03T09:01:28.986649",
     "exception": false,
     "start_time": "2022-02-03T09:01:28.907460",
     "status": "completed"
    },
    "tags": []
   },
   "outputs": [
    {
     "data": {
      "text/plain": [
       "0.052685208096373254"
      ]
     },
     "execution_count": 38,
     "metadata": {},
     "output_type": "execute_result"
    }
   ],
   "source": [
    "# SEM height in inch\n",
    "sem_inch = dh_inch_std/np.sqrt(n)\n",
    "sem_inch"
   ]
  },
  {
   "cell_type": "code",
   "execution_count": 39,
   "id": "45e9690a",
   "metadata": {
    "execution": {
     "iopub.execute_input": "2022-02-03T09:01:29.183176Z",
     "iopub.status.busy": "2022-02-03T09:01:29.182081Z",
     "iopub.status.idle": "2022-02-03T09:01:29.185793Z",
     "shell.execute_reply": "2022-02-03T09:01:29.185224Z",
     "shell.execute_reply.started": "2022-02-03T08:27:01.557101Z"
    },
    "papermill": {
     "duration": 0.109568,
     "end_time": "2022-02-03T09:01:29.185958",
     "exception": false,
     "start_time": "2022-02-03T09:01:29.076390",
     "status": "completed"
    },
    "tags": []
   },
   "outputs": [
    {
     "name": "stdout",
     "output_type": "stream",
     "text": [
      "65.30730174768668 65.51382776342446\n"
     ]
    }
   ],
   "source": [
    "# CI 95%, z value 1.96\n",
    "lcb_inch = height_inch - 1.96*sem_inch\n",
    "ucb_inch = height_inch + 1.96*sem_inch\n",
    "print(lcb_inch, ucb_inch)"
   ]
  },
  {
   "cell_type": "code",
   "execution_count": 40,
   "id": "14c21914",
   "metadata": {
    "execution": {
     "iopub.execute_input": "2022-02-03T09:01:29.327315Z",
     "iopub.status.busy": "2022-02-03T09:01:29.326452Z",
     "iopub.status.idle": "2022-02-03T09:01:29.329964Z",
     "shell.execute_reply": "2022-02-03T09:01:29.330835Z",
     "shell.execute_reply.started": "2022-02-03T08:27:01.565128Z"
    },
    "papermill": {
     "duration": 0.076599,
     "end_time": "2022-02-03T09:01:29.331032",
     "exception": false,
     "start_time": "2022-02-03T09:01:29.254433",
     "status": "completed"
    },
    "tags": []
   },
   "outputs": [
    {
     "data": {
      "text/plain": [
       "(65.30730364516884, 65.51382586594264)"
      ]
     },
     "execution_count": 40,
     "metadata": {},
     "output_type": "execute_result"
    }
   ],
   "source": [
    "# 95% confidence for height in inches \n",
    "import statsmodels.api as sm\n",
    "x = sm.stats.DescrStatsW(dh_inch).zconfint_mean()\n",
    "x"
   ]
  },
  {
   "cell_type": "code",
   "execution_count": 41,
   "id": "97cd6ed3",
   "metadata": {
    "execution": {
     "iopub.execute_input": "2022-02-03T09:01:29.482529Z",
     "iopub.status.busy": "2022-02-03T09:01:29.481612Z",
     "iopub.status.idle": "2022-02-03T09:01:29.485114Z",
     "shell.execute_reply": "2022-02-03T09:01:29.485635Z",
     "shell.execute_reply.started": "2022-02-03T08:27:01.578666Z"
    },
    "papermill": {
     "duration": 0.082037,
     "end_time": "2022-02-03T09:01:29.485861",
     "exception": false,
     "start_time": "2022-02-03T09:01:29.403824",
     "status": "completed"
    },
    "tags": []
   },
   "outputs": [
    {
     "data": {
      "text/plain": [
       "166.14283447911131"
      ]
     },
     "execution_count": 41,
     "metadata": {},
     "output_type": "execute_result"
    }
   ],
   "source": [
    "# Mean in centimeter\n",
    "height_cm = dh.mean()\n",
    "height_cm"
   ]
  },
  {
   "cell_type": "code",
   "execution_count": 42,
   "id": "4fccb51f",
   "metadata": {
    "execution": {
     "iopub.execute_input": "2022-02-03T09:01:29.620308Z",
     "iopub.status.busy": "2022-02-03T09:01:29.619216Z",
     "iopub.status.idle": "2022-02-03T09:01:29.626609Z",
     "shell.execute_reply": "2022-02-03T09:01:29.627240Z",
     "shell.execute_reply.started": "2022-02-03T08:27:01.589968Z"
    },
    "papermill": {
     "duration": 0.076758,
     "end_time": "2022-02-03T09:01:29.627426",
     "exception": false,
     "start_time": "2022-02-03T09:01:29.550668",
     "status": "completed"
    },
    "tags": []
   },
   "outputs": [
    {
     "data": {
      "text/plain": [
       "0.13382042856478796"
      ]
     },
     "execution_count": 42,
     "metadata": {},
     "output_type": "execute_result"
    }
   ],
   "source": [
    "# SEM height in cm\n",
    "sem_cm = dh_cm_std/np.sqrt(n)\n",
    "sem_cm"
   ]
  },
  {
   "cell_type": "code",
   "execution_count": 43,
   "id": "5db0f166",
   "metadata": {
    "execution": {
     "iopub.execute_input": "2022-02-03T09:01:29.760778Z",
     "iopub.status.busy": "2022-02-03T09:01:29.759990Z",
     "iopub.status.idle": "2022-02-03T09:01:29.763882Z",
     "shell.execute_reply": "2022-02-03T09:01:29.763221Z",
     "shell.execute_reply.started": "2022-02-03T08:27:01.602406Z"
    },
    "papermill": {
     "duration": 0.072572,
     "end_time": "2022-02-03T09:01:29.764028",
     "exception": false,
     "start_time": "2022-02-03T09:01:29.691456",
     "status": "completed"
    },
    "tags": []
   },
   "outputs": [
    {
     "name": "stdout",
     "output_type": "stream",
     "text": [
      "165.88054643912432 166.4051225190983\n"
     ]
    }
   ],
   "source": [
    "# CI 95%, z value 1.96\n",
    "lcb_cm = height_cm - 1.96*sem_cm\n",
    "ucb_cm = height_cm + 1.96*sem_cm\n",
    "print(lcb_cm, ucb_cm)"
   ]
  },
  {
   "cell_type": "code",
   "execution_count": 44,
   "id": "fd48ed24",
   "metadata": {
    "execution": {
     "iopub.execute_input": "2022-02-03T09:01:29.903588Z",
     "iopub.status.busy": "2022-02-03T09:01:29.902724Z",
     "iopub.status.idle": "2022-02-03T09:01:29.905592Z",
     "shell.execute_reply": "2022-02-03T09:01:29.906097Z",
     "shell.execute_reply.started": "2022-02-03T08:27:01.612897Z"
    },
    "papermill": {
     "duration": 0.076006,
     "end_time": "2022-02-03T09:01:29.906275",
     "exception": false,
     "start_time": "2022-02-03T09:01:29.830269",
     "status": "completed"
    },
    "tags": []
   },
   "outputs": [
    {
     "data": {
      "text/plain": [
       "(165.88055125872887, 166.40511769949427)"
      ]
     },
     "execution_count": 44,
     "metadata": {},
     "output_type": "execute_result"
    }
   ],
   "source": [
    "# 95% confidence for height in centimeters\n",
    "y = sm.stats.DescrStatsW(dh).zconfint_mean()\n",
    "y"
   ]
  },
  {
   "cell_type": "code",
   "execution_count": 45,
   "id": "c84a6a86",
   "metadata": {
    "execution": {
     "iopub.execute_input": "2022-02-03T09:01:30.039217Z",
     "iopub.status.busy": "2022-02-03T09:01:30.038477Z",
     "iopub.status.idle": "2022-02-03T09:01:30.044428Z",
     "shell.execute_reply": "2022-02-03T09:01:30.045191Z",
     "shell.execute_reply.started": "2022-02-03T08:35:47.442925Z"
    },
    "papermill": {
     "duration": 0.075655,
     "end_time": "2022-02-03T09:01:30.045437",
     "exception": false,
     "start_time": "2022-02-03T09:01:29.969782",
     "status": "completed"
    },
    "tags": []
   },
   "outputs": [
    {
     "name": "stdout",
     "output_type": "stream",
     "text": [
      "Mean of height in inch: 65.41056475555557 ± 0.052685208096373254\n",
      "lower bound: 65.30730174768668 upper bound: 65.51382776342446\n"
     ]
    }
   ],
   "source": [
    "print('Mean of height in inch:',height_inch, \"±\", sem_inch)\n",
    "print('lower bound:',lcb_inch,'upper bound:', ucb_inch)"
   ]
  },
  {
   "cell_type": "code",
   "execution_count": 46,
   "id": "c4e26496",
   "metadata": {
    "execution": {
     "iopub.execute_input": "2022-02-03T09:01:30.178204Z",
     "iopub.status.busy": "2022-02-03T09:01:30.177575Z",
     "iopub.status.idle": "2022-02-03T09:01:30.183296Z",
     "shell.execute_reply": "2022-02-03T09:01:30.184265Z",
     "shell.execute_reply.started": "2022-02-03T08:36:11.506258Z"
    },
    "papermill": {
     "duration": 0.074004,
     "end_time": "2022-02-03T09:01:30.184583",
     "exception": false,
     "start_time": "2022-02-03T09:01:30.110579",
     "status": "completed"
    },
    "tags": []
   },
   "outputs": [
    {
     "name": "stdout",
     "output_type": "stream",
     "text": [
      "Mean of height in inch: 166.14283447911131 ± 0.13382042856478796\n",
      "lower bound: 165.88054643912432 upper bound: 166.4051225190983\n"
     ]
    }
   ],
   "source": [
    "print('Mean of height in inch:',height_cm, \"±\", sem_cm)\n",
    "print('lower bound:',lcb_cm,'upper bound:', ucb_cm)"
   ]
  },
  {
   "cell_type": "markdown",
   "id": "8e6f6772",
   "metadata": {
    "papermill": {
     "duration": 0.063271,
     "end_time": "2022-02-03T09:01:30.312746",
     "exception": false,
     "start_time": "2022-02-03T09:01:30.249475",
     "status": "completed"
    },
    "tags": []
   },
   "source": [
    "__Q3a.__ Describe how the confidence interval constructed in centimeters relates to the confidence interval constructed in inches."
   ]
  },
  {
   "cell_type": "markdown",
   "id": "1886306c",
   "metadata": {
    "papermill": {
     "duration": 0.065509,
     "end_time": "2022-02-03T09:01:30.443286",
     "exception": false,
     "start_time": "2022-02-03T09:01:30.377777",
     "status": "completed"
    },
    "tags": []
   },
   "source": [
    "### Problem 4\n",
    "Partition the sample based on 10-year age bands, i.e. the resulting groups will consist of people with ages from 18-28, 29-38, etc. Construct 95% confidence intervals for the difference between the mean BMI for females and for males within each age band."
   ]
  },
  {
   "cell_type": "code",
   "execution_count": 47,
   "id": "9c0382ed",
   "metadata": {
    "execution": {
     "iopub.execute_input": "2022-02-03T09:01:30.578291Z",
     "iopub.status.busy": "2022-02-03T09:01:30.577593Z",
     "iopub.status.idle": "2022-02-03T09:01:30.592465Z",
     "shell.execute_reply": "2022-02-03T09:01:30.591799Z",
     "shell.execute_reply.started": "2022-02-03T08:27:01.628314Z"
    },
    "papermill": {
     "duration": 0.083095,
     "end_time": "2022-02-03T09:01:30.592610",
     "exception": false,
     "start_time": "2022-02-03T09:01:30.509515",
     "status": "completed"
    },
    "tags": []
   },
   "outputs": [
    {
     "data": {
      "text/html": [
       "<div>\n",
       "<style scoped>\n",
       "    .dataframe tbody tr th:only-of-type {\n",
       "        vertical-align: middle;\n",
       "    }\n",
       "\n",
       "    .dataframe tbody tr th {\n",
       "        vertical-align: top;\n",
       "    }\n",
       "\n",
       "    .dataframe thead th {\n",
       "        text-align: right;\n",
       "    }\n",
       "</style>\n",
       "<table border=\"1\" class=\"dataframe\">\n",
       "  <thead>\n",
       "    <tr style=\"text-align: right;\">\n",
       "      <th></th>\n",
       "      <th>Gender</th>\n",
       "      <th>Age</th>\n",
       "      <th>BMI</th>\n",
       "    </tr>\n",
       "  </thead>\n",
       "  <tbody>\n",
       "    <tr>\n",
       "      <th>0</th>\n",
       "      <td>1</td>\n",
       "      <td>62</td>\n",
       "      <td>27.8</td>\n",
       "    </tr>\n",
       "    <tr>\n",
       "      <th>1</th>\n",
       "      <td>1</td>\n",
       "      <td>53</td>\n",
       "      <td>30.8</td>\n",
       "    </tr>\n",
       "    <tr>\n",
       "      <th>2</th>\n",
       "      <td>1</td>\n",
       "      <td>78</td>\n",
       "      <td>28.8</td>\n",
       "    </tr>\n",
       "    <tr>\n",
       "      <th>3</th>\n",
       "      <td>2</td>\n",
       "      <td>56</td>\n",
       "      <td>42.4</td>\n",
       "    </tr>\n",
       "    <tr>\n",
       "      <th>4</th>\n",
       "      <td>2</td>\n",
       "      <td>42</td>\n",
       "      <td>20.3</td>\n",
       "    </tr>\n",
       "  </tbody>\n",
       "</table>\n",
       "</div>"
      ],
      "text/plain": [
       "   Gender  Age   BMI\n",
       "0       1   62  27.8\n",
       "1       1   53  30.8\n",
       "2       1   78  28.8\n",
       "3       2   56  42.4\n",
       "4       2   42  20.3"
      ]
     },
     "execution_count": 47,
     "metadata": {},
     "output_type": "execute_result"
    }
   ],
   "source": [
    "dbmi = da[['RIAGENDR','RIDAGEYR','BMXBMI']]\n",
    "dbmi.dropna(inplace = True) #remove the null value\n",
    "dbmi.columns = ['Gender','Age','BMI']\n",
    "dbmi.head()"
   ]
  },
  {
   "cell_type": "code",
   "execution_count": 48,
   "id": "8fca21be",
   "metadata": {
    "execution": {
     "iopub.execute_input": "2022-02-03T09:01:30.726281Z",
     "iopub.status.busy": "2022-02-03T09:01:30.725579Z",
     "iopub.status.idle": "2022-02-03T09:01:30.746659Z",
     "shell.execute_reply": "2022-02-03T09:01:30.747232Z",
     "shell.execute_reply.started": "2022-02-03T08:27:01.646459Z"
    },
    "papermill": {
     "duration": 0.088663,
     "end_time": "2022-02-03T09:01:30.747494",
     "exception": false,
     "start_time": "2022-02-03T09:01:30.658831",
     "status": "completed"
    },
    "tags": []
   },
   "outputs": [
    {
     "data": {
      "text/html": [
       "<div>\n",
       "<style scoped>\n",
       "    .dataframe tbody tr th:only-of-type {\n",
       "        vertical-align: middle;\n",
       "    }\n",
       "\n",
       "    .dataframe tbody tr th {\n",
       "        vertical-align: top;\n",
       "    }\n",
       "\n",
       "    .dataframe thead th {\n",
       "        text-align: right;\n",
       "    }\n",
       "</style>\n",
       "<table border=\"1\" class=\"dataframe\">\n",
       "  <thead>\n",
       "    <tr style=\"text-align: right;\">\n",
       "      <th></th>\n",
       "      <th>Gender</th>\n",
       "      <th>Age</th>\n",
       "      <th>BMI</th>\n",
       "    </tr>\n",
       "  </thead>\n",
       "  <tbody>\n",
       "    <tr>\n",
       "      <th>0</th>\n",
       "      <td>1</td>\n",
       "      <td>(60, 70]</td>\n",
       "      <td>27.8</td>\n",
       "    </tr>\n",
       "    <tr>\n",
       "      <th>1</th>\n",
       "      <td>1</td>\n",
       "      <td>(50, 60]</td>\n",
       "      <td>30.8</td>\n",
       "    </tr>\n",
       "    <tr>\n",
       "      <th>2</th>\n",
       "      <td>1</td>\n",
       "      <td>(70, 80]</td>\n",
       "      <td>28.8</td>\n",
       "    </tr>\n",
       "    <tr>\n",
       "      <th>3</th>\n",
       "      <td>2</td>\n",
       "      <td>(50, 60]</td>\n",
       "      <td>42.4</td>\n",
       "    </tr>\n",
       "    <tr>\n",
       "      <th>4</th>\n",
       "      <td>2</td>\n",
       "      <td>(40, 50]</td>\n",
       "      <td>20.3</td>\n",
       "    </tr>\n",
       "  </tbody>\n",
       "</table>\n",
       "</div>"
      ],
      "text/plain": [
       "   Gender       Age   BMI\n",
       "0       1  (60, 70]  27.8\n",
       "1       1  (50, 60]  30.8\n",
       "2       1  (70, 80]  28.8\n",
       "3       2  (50, 60]  42.4\n",
       "4       2  (40, 50]  20.3"
      ]
     },
     "execution_count": 48,
     "metadata": {},
     "output_type": "execute_result"
    }
   ],
   "source": [
    "# Sample partition age to 10\n",
    "dbmi['Age'] = pd.cut(dbmi.Age, [10,20,30,40,50,60,70,80])\n",
    "dbmi.head()"
   ]
  },
  {
   "cell_type": "code",
   "execution_count": 49,
   "id": "3fd3bd11",
   "metadata": {
    "execution": {
     "iopub.execute_input": "2022-02-03T09:01:30.885553Z",
     "iopub.status.busy": "2022-02-03T09:01:30.884929Z",
     "iopub.status.idle": "2022-02-03T09:01:30.890664Z",
     "shell.execute_reply": "2022-02-03T09:01:30.891212Z",
     "shell.execute_reply.started": "2022-02-03T08:27:01.666768Z"
    },
    "papermill": {
     "duration": 0.076271,
     "end_time": "2022-02-03T09:01:30.891387",
     "exception": false,
     "start_time": "2022-02-03T09:01:30.815116",
     "status": "completed"
    },
    "tags": []
   },
   "outputs": [],
   "source": [
    "dbmi['Gender'] = dbmi['Gender'].replace({1 : 'Male', 2: 'Female'})"
   ]
  },
  {
   "cell_type": "code",
   "execution_count": 50,
   "id": "12a71ec1",
   "metadata": {
    "execution": {
     "iopub.execute_input": "2022-02-03T09:01:31.030928Z",
     "iopub.status.busy": "2022-02-03T09:01:31.030247Z",
     "iopub.status.idle": "2022-02-03T09:01:31.068260Z",
     "shell.execute_reply": "2022-02-03T09:01:31.068758Z",
     "shell.execute_reply.started": "2022-02-03T08:27:01.674630Z"
    },
    "papermill": {
     "duration": 0.112294,
     "end_time": "2022-02-03T09:01:31.068941",
     "exception": false,
     "start_time": "2022-02-03T09:01:30.956647",
     "status": "completed"
    },
    "tags": []
   },
   "outputs": [
    {
     "data": {
      "text/html": [
       "<div>\n",
       "<style scoped>\n",
       "    .dataframe tbody tr th:only-of-type {\n",
       "        vertical-align: middle;\n",
       "    }\n",
       "\n",
       "    .dataframe tbody tr th {\n",
       "        vertical-align: top;\n",
       "    }\n",
       "\n",
       "    .dataframe thead tr th {\n",
       "        text-align: left;\n",
       "    }\n",
       "\n",
       "    .dataframe thead tr:last-of-type th {\n",
       "        text-align: right;\n",
       "    }\n",
       "</style>\n",
       "<table border=\"1\" class=\"dataframe\">\n",
       "  <thead>\n",
       "    <tr>\n",
       "      <th></th>\n",
       "      <th colspan=\"6\" halign=\"left\">BMI</th>\n",
       "    </tr>\n",
       "    <tr>\n",
       "      <th></th>\n",
       "      <th colspan=\"2\" halign=\"left\">mean</th>\n",
       "      <th colspan=\"2\" halign=\"left\">std</th>\n",
       "      <th colspan=\"2\" halign=\"left\">size</th>\n",
       "    </tr>\n",
       "    <tr>\n",
       "      <th>Gender</th>\n",
       "      <th>Female</th>\n",
       "      <th>Male</th>\n",
       "      <th>Female</th>\n",
       "      <th>Male</th>\n",
       "      <th>Female</th>\n",
       "      <th>Male</th>\n",
       "    </tr>\n",
       "    <tr>\n",
       "      <th>Age</th>\n",
       "      <th></th>\n",
       "      <th></th>\n",
       "      <th></th>\n",
       "      <th></th>\n",
       "      <th></th>\n",
       "      <th></th>\n",
       "    </tr>\n",
       "  </thead>\n",
       "  <tbody>\n",
       "    <tr>\n",
       "      <th>(10, 20]</th>\n",
       "      <td>26.435625</td>\n",
       "      <td>26.230286</td>\n",
       "      <td>6.969054</td>\n",
       "      <td>7.024190</td>\n",
       "      <td>160</td>\n",
       "      <td>175</td>\n",
       "    </tr>\n",
       "    <tr>\n",
       "      <th>(20, 30]</th>\n",
       "      <td>28.422309</td>\n",
       "      <td>27.712441</td>\n",
       "      <td>7.866190</td>\n",
       "      <td>6.583785</td>\n",
       "      <td>511</td>\n",
       "      <td>426</td>\n",
       "    </tr>\n",
       "    <tr>\n",
       "      <th>(30, 40]</th>\n",
       "      <td>30.325586</td>\n",
       "      <td>29.611726</td>\n",
       "      <td>8.315608</td>\n",
       "      <td>6.622412</td>\n",
       "      <td>469</td>\n",
       "      <td>452</td>\n",
       "    </tr>\n",
       "    <tr>\n",
       "      <th>(40, 50]</th>\n",
       "      <td>31.160643</td>\n",
       "      <td>29.724623</td>\n",
       "      <td>8.076195</td>\n",
       "      <td>6.407076</td>\n",
       "      <td>498</td>\n",
       "      <td>398</td>\n",
       "    </tr>\n",
       "    <tr>\n",
       "      <th>(50, 60]</th>\n",
       "      <td>30.743777</td>\n",
       "      <td>29.231486</td>\n",
       "      <td>7.575848</td>\n",
       "      <td>5.914373</td>\n",
       "      <td>466</td>\n",
       "      <td>451</td>\n",
       "    </tr>\n",
       "    <tr>\n",
       "      <th>(60, 70]</th>\n",
       "      <td>31.074828</td>\n",
       "      <td>29.392488</td>\n",
       "      <td>7.604514</td>\n",
       "      <td>5.933307</td>\n",
       "      <td>437</td>\n",
       "      <td>426</td>\n",
       "    </tr>\n",
       "    <tr>\n",
       "      <th>(70, 80]</th>\n",
       "      <td>29.138213</td>\n",
       "      <td>27.957692</td>\n",
       "      <td>6.284968</td>\n",
       "      <td>4.974855</td>\n",
       "      <td>403</td>\n",
       "      <td>390</td>\n",
       "    </tr>\n",
       "  </tbody>\n",
       "</table>\n",
       "</div>"
      ],
      "text/plain": [
       "                BMI                                           \n",
       "               mean                  std             size     \n",
       "Gender       Female       Male    Female      Male Female Male\n",
       "Age                                                           \n",
       "(10, 20]  26.435625  26.230286  6.969054  7.024190    160  175\n",
       "(20, 30]  28.422309  27.712441  7.866190  6.583785    511  426\n",
       "(30, 40]  30.325586  29.611726  8.315608  6.622412    469  452\n",
       "(40, 50]  31.160643  29.724623  8.076195  6.407076    498  398\n",
       "(50, 60]  30.743777  29.231486  7.575848  5.914373    466  451\n",
       "(60, 70]  31.074828  29.392488  7.604514  5.933307    437  426\n",
       "(70, 80]  29.138213  27.957692  6.284968  4.974855    403  390"
      ]
     },
     "execution_count": 50,
     "metadata": {},
     "output_type": "execute_result"
    }
   ],
   "source": [
    "dbmi = dbmi.groupby(['Age', 'Gender']).agg({'BMI' : [np.mean, np.std, np.size]}).unstack()\n",
    "dbmi"
   ]
  },
  {
   "cell_type": "markdown",
   "id": "9916adb4",
   "metadata": {
    "papermill": {
     "duration": 0.06581,
     "end_time": "2022-02-03T09:01:31.200591",
     "exception": false,
     "start_time": "2022-02-03T09:01:31.134781",
     "status": "completed"
    },
    "tags": []
   },
   "source": [
    "__Q4a.__ How do the widths of these confidence intervals differ?  Provide an explanation for any substantial diferences in the confidence interval widths that you see. How do the widths of these confidence intervals differ?  Provide an explanation for any substantial diferences in the confidence interval widths that you see."
   ]
  },
  {
   "cell_type": "markdown",
   "id": "0a72c90f",
   "metadata": {
    "papermill": {
     "duration": 0.067148,
     "end_time": "2022-02-03T09:01:31.335450",
     "exception": false,
     "start_time": "2022-02-03T09:01:31.268302",
     "status": "completed"
    },
    "tags": []
   },
   "source": [
    "### Problem 5\n",
    "Construct a 95% confidence interval for the first and second systolic blood pressure measures, and for the difference between the first and second systolic blood pressure measurements within a subject."
   ]
  },
  {
   "cell_type": "code",
   "execution_count": null,
   "id": "a12da57f",
   "metadata": {
    "papermill": {
     "duration": 0.066789,
     "end_time": "2022-02-03T09:01:31.468638",
     "exception": false,
     "start_time": "2022-02-03T09:01:31.401849",
     "status": "completed"
    },
    "tags": []
   },
   "outputs": [],
   "source": []
  },
  {
   "cell_type": "markdown",
   "id": "fe4fedc1",
   "metadata": {
    "papermill": {
     "duration": 0.066979,
     "end_time": "2022-02-03T09:01:31.601224",
     "exception": false,
     "start_time": "2022-02-03T09:01:31.534245",
     "status": "completed"
    },
    "tags": []
   },
   "source": [
    "**Q5a**. Based on these confidence intervals, would you say that a difference of zero between the population mean values of the first and second systolic blood pressure measures is consistent with the data?"
   ]
  },
  {
   "cell_type": "markdown",
   "id": "e0bd5475",
   "metadata": {
    "papermill": {
     "duration": 0.065228,
     "end_time": "2022-02-03T09:01:31.733085",
     "exception": false,
     "start_time": "2022-02-03T09:01:31.667857",
     "status": "completed"
    },
    "tags": []
   },
   "source": [
    "**Q5b**. Discuss how the width of the confidence interval for the within-subject difference compares to the widths of the confidence intervals for the first and second measures."
   ]
  },
  {
   "cell_type": "markdown",
   "id": "7c966345",
   "metadata": {
    "papermill": {
     "duration": 0.069169,
     "end_time": "2022-02-03T09:01:31.870125",
     "exception": false,
     "start_time": "2022-02-03T09:01:31.800956",
     "status": "completed"
    },
    "tags": []
   },
   "source": [
    "### Problem 6\n",
    "Construct a 95% confidence interval for the mean difference between the average age of a smoker, and the average age of a non-smoker."
   ]
  },
  {
   "cell_type": "markdown",
   "id": "5e0a9407",
   "metadata": {
    "papermill": {
     "duration": 0.066445,
     "end_time": "2022-02-03T09:01:32.002560",
     "exception": false,
     "start_time": "2022-02-03T09:01:31.936115",
     "status": "completed"
    },
    "tags": []
   },
   "source": [
    "**Q6a** Use graphical and numerical techniques to compare the variation in the ages of smokers to the variation in the ages of non-smokers."
   ]
  },
  {
   "cell_type": "markdown",
   "id": "99c17009",
   "metadata": {
    "papermill": {
     "duration": 0.064709,
     "end_time": "2022-02-03T09:01:32.133026",
     "exception": false,
     "start_time": "2022-02-03T09:01:32.068317",
     "status": "completed"
    },
    "tags": []
   },
   "source": [
    "**Q6b** Does it appear that uncertainty about the mean age of smokers, or uncertainty about the mean age of non-smokers contributed more to the uncertainty for the mean difference that we are focusing on here?"
   ]
  },
  {
   "cell_type": "code",
   "execution_count": null,
   "id": "af49e8c8",
   "metadata": {
    "papermill": {
     "duration": 0.065256,
     "end_time": "2022-02-03T09:01:32.264478",
     "exception": false,
     "start_time": "2022-02-03T09:01:32.199222",
     "status": "completed"
    },
    "tags": []
   },
   "outputs": [],
   "source": []
  }
 ],
 "metadata": {
  "kernelspec": {
   "display_name": "Python 3",
   "language": "python",
   "name": "python3"
  },
  "language_info": {
   "codemirror_mode": {
    "name": "ipython",
    "version": 3
   },
   "file_extension": ".py",
   "mimetype": "text/x-python",
   "name": "python",
   "nbconvert_exporter": "python",
   "pygments_lexer": "ipython3",
   "version": "3.7.12"
  },
  "papermill": {
   "default_parameters": {},
   "duration": 23.943448,
   "end_time": "2022-02-03T09:01:33.142183",
   "environment_variables": {},
   "exception": null,
   "input_path": "__notebook__.ipynb",
   "output_path": "__notebook__.ipynb",
   "parameters": {},
   "start_time": "2022-02-03T09:01:09.198735",
   "version": "2.3.3"
  }
 },
 "nbformat": 4,
 "nbformat_minor": 5
}
