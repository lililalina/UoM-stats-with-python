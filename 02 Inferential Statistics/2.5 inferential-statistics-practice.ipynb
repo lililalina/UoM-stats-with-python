{
 "cells": [
  {
   "cell_type": "code",
   "execution_count": 1,
   "id": "50b35dfa",
   "metadata": {
    "_cell_guid": "b1076dfc-b9ad-4769-8c92-a6c4dae69d19",
    "_uuid": "8f2839f25d086af736a60e9eeb907d3b93b6e0e5",
    "execution": {
     "iopub.execute_input": "2022-07-14T05:00:13.366301Z",
     "iopub.status.busy": "2022-07-14T05:00:13.365080Z",
     "iopub.status.idle": "2022-07-14T05:00:13.382137Z",
     "shell.execute_reply": "2022-07-14T05:00:13.381177Z",
     "shell.execute_reply.started": "2022-03-25T05:16:32.388385Z"
    },
    "papermill": {
     "duration": 0.073864,
     "end_time": "2022-07-14T05:00:13.382349",
     "exception": false,
     "start_time": "2022-07-14T05:00:13.308485",
     "status": "completed"
    },
    "tags": []
   },
   "outputs": [
    {
     "name": "stdout",
     "output_type": "stream",
     "text": [
      "/kaggle/input/nhanes-2015-2016/NHANES.csv\n"
     ]
    }
   ],
   "source": [
    "# This Python 3 environment comes with many helpful analytics libraries installed\n",
    "# It is defined by the kaggle/python Docker image: https://github.com/kaggle/docker-python\n",
    "# For example, here's several helpful packages to load\n",
    "\n",
    "import numpy as np # linear algebra\n",
    "import pandas as pd # data processing, CSV file I/O (e.g. pd.read_csv)\n",
    "\n",
    "# Input data files are available in the read-only \"../input/\" directory\n",
    "# For example, running this (by clicking run or pressing Shift+Enter) will list all files under the input directory\n",
    "\n",
    "import os\n",
    "for dirname, _, filenames in os.walk('/kaggle/input'):\n",
    "    for filename in filenames:\n",
    "        print(os.path.join(dirname, filename))\n",
    "\n",
    "# You can write up to 20GB to the current directory (/kaggle/working/) that gets preserved as output when you create a version using \"Save & Run All\" \n",
    "# You can also write temporary files to /kaggle/temp/, but they won't be saved outside of the current session"
   ]
  },
  {
   "cell_type": "markdown",
   "id": "31844952",
   "metadata": {
    "papermill": {
     "duration": 0.051959,
     "end_time": "2022-07-14T05:00:13.489934",
     "exception": false,
     "start_time": "2022-07-14T05:00:13.437975",
     "status": "completed"
    },
    "tags": []
   },
   "source": [
    "Data explanation : https://wwwn.cdc.gov/Nchs/Nhanes/2015-2016/DEMO_I.htm#RIAGENDR"
   ]
  },
  {
   "cell_type": "code",
   "execution_count": 2,
   "id": "5e1b9750",
   "metadata": {
    "execution": {
     "iopub.execute_input": "2022-07-14T05:00:13.592649Z",
     "iopub.status.busy": "2022-07-14T05:00:13.591966Z",
     "iopub.status.idle": "2022-07-14T05:00:13.595211Z",
     "shell.execute_reply": "2022-07-14T05:00:13.595735Z",
     "shell.execute_reply.started": "2022-03-25T05:16:32.472864Z"
    },
    "papermill": {
     "duration": 0.056243,
     "end_time": "2022-07-14T05:00:13.595925",
     "exception": false,
     "start_time": "2022-07-14T05:00:13.539682",
     "status": "completed"
    },
    "tags": []
   },
   "outputs": [],
   "source": [
    "import warnings\n",
    "warnings.filterwarnings(\"ignore\")"
   ]
  },
  {
   "cell_type": "code",
   "execution_count": 3,
   "id": "b469af5c",
   "metadata": {
    "execution": {
     "iopub.execute_input": "2022-07-14T05:00:13.701326Z",
     "iopub.status.busy": "2022-07-14T05:00:13.700688Z",
     "iopub.status.idle": "2022-07-14T05:00:15.944232Z",
     "shell.execute_reply": "2022-07-14T05:00:15.943648Z",
     "shell.execute_reply.started": "2022-03-25T05:16:32.508337Z"
    },
    "papermill": {
     "duration": 2.29664,
     "end_time": "2022-07-14T05:00:15.944409",
     "exception": false,
     "start_time": "2022-07-14T05:00:13.647769",
     "status": "completed"
    },
    "tags": []
   },
   "outputs": [],
   "source": [
    "%matplotlib inline\n",
    "import matplotlib.pyplot as plt\n",
    "import pandas as pd\n",
    "import numpy as np\n",
    "import seaborn as sns\n",
    "import statsmodels.api as sm\n",
    "\n",
    "path = \"../input/nhanes-2015-2016/NHANES.csv\"\n",
    "da = pd.read_csv(path)"
   ]
  },
  {
   "cell_type": "code",
   "execution_count": 4,
   "id": "34234398",
   "metadata": {
    "execution": {
     "iopub.execute_input": "2022-07-14T05:00:16.055816Z",
     "iopub.status.busy": "2022-07-14T05:00:16.055091Z",
     "iopub.status.idle": "2022-07-14T05:00:16.092871Z",
     "shell.execute_reply": "2022-07-14T05:00:16.092311Z",
     "shell.execute_reply.started": "2022-03-25T05:16:34.435418Z"
    },
    "papermill": {
     "duration": 0.096196,
     "end_time": "2022-07-14T05:00:16.093018",
     "exception": false,
     "start_time": "2022-07-14T05:00:15.996822",
     "status": "completed"
    },
    "tags": []
   },
   "outputs": [
    {
     "data": {
      "text/html": [
       "<div>\n",
       "<style scoped>\n",
       "    .dataframe tbody tr th:only-of-type {\n",
       "        vertical-align: middle;\n",
       "    }\n",
       "\n",
       "    .dataframe tbody tr th {\n",
       "        vertical-align: top;\n",
       "    }\n",
       "\n",
       "    .dataframe thead th {\n",
       "        text-align: right;\n",
       "    }\n",
       "</style>\n",
       "<table border=\"1\" class=\"dataframe\">\n",
       "  <thead>\n",
       "    <tr style=\"text-align: right;\">\n",
       "      <th></th>\n",
       "      <th>SEQN</th>\n",
       "      <th>ALQ101</th>\n",
       "      <th>ALQ110</th>\n",
       "      <th>ALQ130</th>\n",
       "      <th>SMQ020</th>\n",
       "      <th>RIAGENDR</th>\n",
       "      <th>RIDAGEYR</th>\n",
       "      <th>RIDRETH1</th>\n",
       "      <th>DMDCITZN</th>\n",
       "      <th>DMDEDUC2</th>\n",
       "      <th>...</th>\n",
       "      <th>BPXSY2</th>\n",
       "      <th>BPXDI2</th>\n",
       "      <th>BMXWT</th>\n",
       "      <th>BMXHT</th>\n",
       "      <th>BMXBMI</th>\n",
       "      <th>BMXLEG</th>\n",
       "      <th>BMXARML</th>\n",
       "      <th>BMXARMC</th>\n",
       "      <th>BMXWAIST</th>\n",
       "      <th>HIQ210</th>\n",
       "    </tr>\n",
       "  </thead>\n",
       "  <tbody>\n",
       "    <tr>\n",
       "      <th>0</th>\n",
       "      <td>83732</td>\n",
       "      <td>1.0</td>\n",
       "      <td>NaN</td>\n",
       "      <td>1.0</td>\n",
       "      <td>1</td>\n",
       "      <td>1</td>\n",
       "      <td>62</td>\n",
       "      <td>3</td>\n",
       "      <td>1.0</td>\n",
       "      <td>5.0</td>\n",
       "      <td>...</td>\n",
       "      <td>124.0</td>\n",
       "      <td>64.0</td>\n",
       "      <td>94.8</td>\n",
       "      <td>184.5</td>\n",
       "      <td>27.8</td>\n",
       "      <td>43.3</td>\n",
       "      <td>43.6</td>\n",
       "      <td>35.9</td>\n",
       "      <td>101.1</td>\n",
       "      <td>2.0</td>\n",
       "    </tr>\n",
       "    <tr>\n",
       "      <th>1</th>\n",
       "      <td>83733</td>\n",
       "      <td>1.0</td>\n",
       "      <td>NaN</td>\n",
       "      <td>6.0</td>\n",
       "      <td>1</td>\n",
       "      <td>1</td>\n",
       "      <td>53</td>\n",
       "      <td>3</td>\n",
       "      <td>2.0</td>\n",
       "      <td>3.0</td>\n",
       "      <td>...</td>\n",
       "      <td>140.0</td>\n",
       "      <td>88.0</td>\n",
       "      <td>90.4</td>\n",
       "      <td>171.4</td>\n",
       "      <td>30.8</td>\n",
       "      <td>38.0</td>\n",
       "      <td>40.0</td>\n",
       "      <td>33.2</td>\n",
       "      <td>107.9</td>\n",
       "      <td>NaN</td>\n",
       "    </tr>\n",
       "    <tr>\n",
       "      <th>2</th>\n",
       "      <td>83734</td>\n",
       "      <td>1.0</td>\n",
       "      <td>NaN</td>\n",
       "      <td>NaN</td>\n",
       "      <td>1</td>\n",
       "      <td>1</td>\n",
       "      <td>78</td>\n",
       "      <td>3</td>\n",
       "      <td>1.0</td>\n",
       "      <td>3.0</td>\n",
       "      <td>...</td>\n",
       "      <td>132.0</td>\n",
       "      <td>44.0</td>\n",
       "      <td>83.4</td>\n",
       "      <td>170.1</td>\n",
       "      <td>28.8</td>\n",
       "      <td>35.6</td>\n",
       "      <td>37.0</td>\n",
       "      <td>31.0</td>\n",
       "      <td>116.5</td>\n",
       "      <td>2.0</td>\n",
       "    </tr>\n",
       "    <tr>\n",
       "      <th>3</th>\n",
       "      <td>83735</td>\n",
       "      <td>2.0</td>\n",
       "      <td>1.0</td>\n",
       "      <td>1.0</td>\n",
       "      <td>2</td>\n",
       "      <td>2</td>\n",
       "      <td>56</td>\n",
       "      <td>3</td>\n",
       "      <td>1.0</td>\n",
       "      <td>5.0</td>\n",
       "      <td>...</td>\n",
       "      <td>134.0</td>\n",
       "      <td>68.0</td>\n",
       "      <td>109.8</td>\n",
       "      <td>160.9</td>\n",
       "      <td>42.4</td>\n",
       "      <td>38.5</td>\n",
       "      <td>37.7</td>\n",
       "      <td>38.3</td>\n",
       "      <td>110.1</td>\n",
       "      <td>2.0</td>\n",
       "    </tr>\n",
       "    <tr>\n",
       "      <th>4</th>\n",
       "      <td>83736</td>\n",
       "      <td>2.0</td>\n",
       "      <td>1.0</td>\n",
       "      <td>1.0</td>\n",
       "      <td>2</td>\n",
       "      <td>2</td>\n",
       "      <td>42</td>\n",
       "      <td>4</td>\n",
       "      <td>1.0</td>\n",
       "      <td>4.0</td>\n",
       "      <td>...</td>\n",
       "      <td>114.0</td>\n",
       "      <td>54.0</td>\n",
       "      <td>55.2</td>\n",
       "      <td>164.9</td>\n",
       "      <td>20.3</td>\n",
       "      <td>37.4</td>\n",
       "      <td>36.0</td>\n",
       "      <td>27.2</td>\n",
       "      <td>80.4</td>\n",
       "      <td>2.0</td>\n",
       "    </tr>\n",
       "  </tbody>\n",
       "</table>\n",
       "<p>5 rows × 28 columns</p>\n",
       "</div>"
      ],
      "text/plain": [
       "    SEQN  ALQ101  ALQ110  ALQ130  SMQ020  RIAGENDR  RIDAGEYR  RIDRETH1  \\\n",
       "0  83732     1.0     NaN     1.0       1         1        62         3   \n",
       "1  83733     1.0     NaN     6.0       1         1        53         3   \n",
       "2  83734     1.0     NaN     NaN       1         1        78         3   \n",
       "3  83735     2.0     1.0     1.0       2         2        56         3   \n",
       "4  83736     2.0     1.0     1.0       2         2        42         4   \n",
       "\n",
       "   DMDCITZN  DMDEDUC2  ...  BPXSY2  BPXDI2  BMXWT  BMXHT  BMXBMI  BMXLEG  \\\n",
       "0       1.0       5.0  ...   124.0    64.0   94.8  184.5    27.8    43.3   \n",
       "1       2.0       3.0  ...   140.0    88.0   90.4  171.4    30.8    38.0   \n",
       "2       1.0       3.0  ...   132.0    44.0   83.4  170.1    28.8    35.6   \n",
       "3       1.0       5.0  ...   134.0    68.0  109.8  160.9    42.4    38.5   \n",
       "4       1.0       4.0  ...   114.0    54.0   55.2  164.9    20.3    37.4   \n",
       "\n",
       "   BMXARML  BMXARMC  BMXWAIST  HIQ210  \n",
       "0     43.6     35.9     101.1     2.0  \n",
       "1     40.0     33.2     107.9     NaN  \n",
       "2     37.0     31.0     116.5     2.0  \n",
       "3     37.7     38.3     110.1     2.0  \n",
       "4     36.0     27.2      80.4     2.0  \n",
       "\n",
       "[5 rows x 28 columns]"
      ]
     },
     "execution_count": 4,
     "metadata": {},
     "output_type": "execute_result"
    }
   ],
   "source": [
    "da.head()"
   ]
  },
  {
   "cell_type": "code",
   "execution_count": 5,
   "id": "a6ef83e5",
   "metadata": {
    "execution": {
     "iopub.execute_input": "2022-07-14T05:00:16.198617Z",
     "iopub.status.busy": "2022-07-14T05:00:16.197915Z",
     "iopub.status.idle": "2022-07-14T05:00:16.223971Z",
     "shell.execute_reply": "2022-07-14T05:00:16.224661Z",
     "shell.execute_reply.started": "2022-03-25T05:16:34.474106Z"
    },
    "papermill": {
     "duration": 0.080155,
     "end_time": "2022-07-14T05:00:16.224854",
     "exception": false,
     "start_time": "2022-07-14T05:00:16.144699",
     "status": "completed"
    },
    "tags": []
   },
   "outputs": [
    {
     "name": "stdout",
     "output_type": "stream",
     "text": [
      "<class 'pandas.core.frame.DataFrame'>\n",
      "RangeIndex: 5735 entries, 0 to 5734\n",
      "Data columns (total 28 columns):\n",
      " #   Column    Non-Null Count  Dtype  \n",
      "---  ------    --------------  -----  \n",
      " 0   SEQN      5735 non-null   int64  \n",
      " 1   ALQ101    5208 non-null   float64\n",
      " 2   ALQ110    1731 non-null   float64\n",
      " 3   ALQ130    3379 non-null   float64\n",
      " 4   SMQ020    5735 non-null   int64  \n",
      " 5   RIAGENDR  5735 non-null   int64  \n",
      " 6   RIDAGEYR  5735 non-null   int64  \n",
      " 7   RIDRETH1  5735 non-null   int64  \n",
      " 8   DMDCITZN  5734 non-null   float64\n",
      " 9   DMDEDUC2  5474 non-null   float64\n",
      " 10  DMDMARTL  5474 non-null   float64\n",
      " 11  DMDHHSIZ  5735 non-null   int64  \n",
      " 12  WTINT2YR  5735 non-null   float64\n",
      " 13  SDMVPSU   5735 non-null   int64  \n",
      " 14  SDMVSTRA  5735 non-null   int64  \n",
      " 15  INDFMPIR  5134 non-null   float64\n",
      " 16  BPXSY1    5401 non-null   float64\n",
      " 17  BPXDI1    5401 non-null   float64\n",
      " 18  BPXSY2    5535 non-null   float64\n",
      " 19  BPXDI2    5535 non-null   float64\n",
      " 20  BMXWT     5666 non-null   float64\n",
      " 21  BMXHT     5673 non-null   float64\n",
      " 22  BMXBMI    5662 non-null   float64\n",
      " 23  BMXLEG    5345 non-null   float64\n",
      " 24  BMXARML   5427 non-null   float64\n",
      " 25  BMXARMC   5427 non-null   float64\n",
      " 26  BMXWAIST  5368 non-null   float64\n",
      " 27  HIQ210    4732 non-null   float64\n",
      "dtypes: float64(20), int64(8)\n",
      "memory usage: 1.2 MB\n"
     ]
    }
   ],
   "source": [
    "da.info()"
   ]
  },
  {
   "cell_type": "code",
   "execution_count": 6,
   "id": "d579afcd",
   "metadata": {
    "execution": {
     "iopub.execute_input": "2022-07-14T05:00:16.331475Z",
     "iopub.status.busy": "2022-07-14T05:00:16.330750Z",
     "iopub.status.idle": "2022-07-14T05:00:16.338506Z",
     "shell.execute_reply": "2022-07-14T05:00:16.339105Z",
     "shell.execute_reply.started": "2022-03-25T05:16:34.499152Z"
    },
    "papermill": {
     "duration": 0.062851,
     "end_time": "2022-07-14T05:00:16.339277",
     "exception": false,
     "start_time": "2022-07-14T05:00:16.276426",
     "status": "completed"
    },
    "tags": []
   },
   "outputs": [
    {
     "data": {
      "text/plain": [
       "SEQN           0\n",
       "ALQ101       527\n",
       "ALQ110      4004\n",
       "ALQ130      2356\n",
       "SMQ020         0\n",
       "RIAGENDR       0\n",
       "RIDAGEYR       0\n",
       "RIDRETH1       0\n",
       "DMDCITZN       1\n",
       "DMDEDUC2     261\n",
       "DMDMARTL     261\n",
       "DMDHHSIZ       0\n",
       "WTINT2YR       0\n",
       "SDMVPSU        0\n",
       "SDMVSTRA       0\n",
       "INDFMPIR     601\n",
       "BPXSY1       334\n",
       "BPXDI1       334\n",
       "BPXSY2       200\n",
       "BPXDI2       200\n",
       "BMXWT         69\n",
       "BMXHT         62\n",
       "BMXBMI        73\n",
       "BMXLEG       390\n",
       "BMXARML      308\n",
       "BMXARMC      308\n",
       "BMXWAIST     367\n",
       "HIQ210      1003\n",
       "dtype: int64"
      ]
     },
     "execution_count": 6,
     "metadata": {},
     "output_type": "execute_result"
    }
   ],
   "source": [
    "da.isnull().sum()"
   ]
  },
  {
   "cell_type": "markdown",
   "id": "1833ebfb",
   "metadata": {
    "papermill": {
     "duration": 0.051936,
     "end_time": "2022-07-14T05:00:16.443437",
     "exception": false,
     "start_time": "2022-07-14T05:00:16.391501",
     "status": "completed"
    },
    "tags": []
   },
   "source": [
    "### Problem 1\n",
    "Restrict the sample to women between 35 and 50, then use the marital status variable DMDMARTL to partition this sample into two groups - women who are currently married, and women who are not currently married. Within each of these groups, calculate the proportion of women who have completed college. Calculate 95% confidence intervals for each of these proportions."
   ]
  },
  {
   "cell_type": "code",
   "execution_count": 7,
   "id": "95f379e6",
   "metadata": {
    "execution": {
     "iopub.execute_input": "2022-07-14T05:00:16.553243Z",
     "iopub.status.busy": "2022-07-14T05:00:16.548543Z",
     "iopub.status.idle": "2022-07-14T05:00:16.557836Z",
     "shell.execute_reply": "2022-07-14T05:00:16.557169Z",
     "shell.execute_reply.started": "2022-03-25T05:16:34.508780Z"
    },
    "papermill": {
     "duration": 0.063367,
     "end_time": "2022-07-14T05:00:16.557983",
     "exception": false,
     "start_time": "2022-07-14T05:00:16.494616",
     "status": "completed"
    },
    "tags": []
   },
   "outputs": [],
   "source": [
    "# We need 3 categories : gender woman, age 35-50, marital age\n",
    "dx = da[['RIAGENDR','RIDAGEYR','DMDMARTL','DMDEDUC2']].dropna()\n",
    "#Replace some code for easier read\n",
    "dx.columns = ['Gender', 'Age', 'Marital_status', 'Education']"
   ]
  },
  {
   "cell_type": "code",
   "execution_count": 8,
   "id": "6b0e7671",
   "metadata": {
    "execution": {
     "iopub.execute_input": "2022-07-14T05:00:16.671068Z",
     "iopub.status.busy": "2022-07-14T05:00:16.669951Z",
     "iopub.status.idle": "2022-07-14T05:00:16.685422Z",
     "shell.execute_reply": "2022-07-14T05:00:16.686049Z",
     "shell.execute_reply.started": "2022-03-25T05:16:34.521896Z"
    },
    "papermill": {
     "duration": 0.077577,
     "end_time": "2022-07-14T05:00:16.686220",
     "exception": false,
     "start_time": "2022-07-14T05:00:16.608643",
     "status": "completed"
    },
    "tags": []
   },
   "outputs": [
    {
     "data": {
      "text/html": [
       "<div>\n",
       "<style scoped>\n",
       "    .dataframe tbody tr th:only-of-type {\n",
       "        vertical-align: middle;\n",
       "    }\n",
       "\n",
       "    .dataframe tbody tr th {\n",
       "        vertical-align: top;\n",
       "    }\n",
       "\n",
       "    .dataframe thead th {\n",
       "        text-align: right;\n",
       "    }\n",
       "</style>\n",
       "<table border=\"1\" class=\"dataframe\">\n",
       "  <thead>\n",
       "    <tr style=\"text-align: right;\">\n",
       "      <th></th>\n",
       "      <th>Gender</th>\n",
       "      <th>Age</th>\n",
       "      <th>Marital_status</th>\n",
       "      <th>Education</th>\n",
       "    </tr>\n",
       "  </thead>\n",
       "  <tbody>\n",
       "    <tr>\n",
       "      <th>4</th>\n",
       "      <td>Female</td>\n",
       "      <td>42</td>\n",
       "      <td>3.0</td>\n",
       "      <td>College</td>\n",
       "    </tr>\n",
       "    <tr>\n",
       "      <th>34</th>\n",
       "      <td>Female</td>\n",
       "      <td>37</td>\n",
       "      <td>Married</td>\n",
       "      <td>College</td>\n",
       "    </tr>\n",
       "    <tr>\n",
       "      <th>50</th>\n",
       "      <td>Female</td>\n",
       "      <td>39</td>\n",
       "      <td>Married</td>\n",
       "      <td>3.0</td>\n",
       "    </tr>\n",
       "    <tr>\n",
       "      <th>55</th>\n",
       "      <td>Female</td>\n",
       "      <td>45</td>\n",
       "      <td>Married</td>\n",
       "      <td>2.0</td>\n",
       "    </tr>\n",
       "    <tr>\n",
       "      <th>58</th>\n",
       "      <td>Female</td>\n",
       "      <td>44</td>\n",
       "      <td>5.0</td>\n",
       "      <td>1.0</td>\n",
       "    </tr>\n",
       "  </tbody>\n",
       "</table>\n",
       "</div>"
      ],
      "text/plain": [
       "    Gender  Age Marital_status Education\n",
       "4   Female   42            3.0   College\n",
       "34  Female   37        Married   College\n",
       "50  Female   39        Married       3.0\n",
       "55  Female   45        Married       2.0\n",
       "58  Female   44            5.0       1.0"
      ]
     },
     "execution_count": 8,
     "metadata": {},
     "output_type": "execute_result"
    }
   ],
   "source": [
    "#Slice column to age 35-50 female\n",
    "dx['Gender'] = dx['Gender'].replace({1 : 'Male', 2: 'Female'})\n",
    "dx['Marital_status'] = dx['Marital_status'].replace({1 : 'Married'})\n",
    "dx['Education'] = dx['Education'].replace({4 : 'College'})\n",
    "dx = dx[(dx['Gender'] == 'Female')&(dx['Age']>35)&(dx['Age']<50)]\n",
    "dx.head()"
   ]
  },
  {
   "cell_type": "code",
   "execution_count": 9,
   "id": "11ba5ba2",
   "metadata": {
    "execution": {
     "iopub.execute_input": "2022-07-14T05:00:16.796290Z",
     "iopub.status.busy": "2022-07-14T05:00:16.795576Z",
     "iopub.status.idle": "2022-07-14T05:00:16.808504Z",
     "shell.execute_reply": "2022-07-14T05:00:16.809042Z",
     "shell.execute_reply.started": "2022-03-25T05:16:34.546232Z"
    },
    "papermill": {
     "duration": 0.069563,
     "end_time": "2022-07-14T05:00:16.809210",
     "exception": false,
     "start_time": "2022-07-14T05:00:16.739647",
     "status": "completed"
    },
    "tags": []
   },
   "outputs": [
    {
     "data": {
      "text/html": [
       "<div>\n",
       "<style scoped>\n",
       "    .dataframe tbody tr th:only-of-type {\n",
       "        vertical-align: middle;\n",
       "    }\n",
       "\n",
       "    .dataframe tbody tr th {\n",
       "        vertical-align: top;\n",
       "    }\n",
       "\n",
       "    .dataframe thead th {\n",
       "        text-align: right;\n",
       "    }\n",
       "</style>\n",
       "<table border=\"1\" class=\"dataframe\">\n",
       "  <thead>\n",
       "    <tr style=\"text-align: right;\">\n",
       "      <th></th>\n",
       "      <th>Gender</th>\n",
       "      <th>Age</th>\n",
       "      <th>Marital_status</th>\n",
       "      <th>Education</th>\n",
       "    </tr>\n",
       "  </thead>\n",
       "  <tbody>\n",
       "    <tr>\n",
       "      <th>4</th>\n",
       "      <td>Female</td>\n",
       "      <td>42</td>\n",
       "      <td>Not married</td>\n",
       "      <td>College</td>\n",
       "    </tr>\n",
       "    <tr>\n",
       "      <th>34</th>\n",
       "      <td>Female</td>\n",
       "      <td>37</td>\n",
       "      <td>Married</td>\n",
       "      <td>College</td>\n",
       "    </tr>\n",
       "    <tr>\n",
       "      <th>50</th>\n",
       "      <td>Female</td>\n",
       "      <td>39</td>\n",
       "      <td>Married</td>\n",
       "      <td>3.0</td>\n",
       "    </tr>\n",
       "    <tr>\n",
       "      <th>55</th>\n",
       "      <td>Female</td>\n",
       "      <td>45</td>\n",
       "      <td>Married</td>\n",
       "      <td>2.0</td>\n",
       "    </tr>\n",
       "    <tr>\n",
       "      <th>58</th>\n",
       "      <td>Female</td>\n",
       "      <td>44</td>\n",
       "      <td>Not married</td>\n",
       "      <td>1.0</td>\n",
       "    </tr>\n",
       "  </tbody>\n",
       "</table>\n",
       "</div>"
      ],
      "text/plain": [
       "    Gender  Age Marital_status Education\n",
       "4   Female   42    Not married   College\n",
       "34  Female   37        Married   College\n",
       "50  Female   39        Married       3.0\n",
       "55  Female   45        Married       2.0\n",
       "58  Female   44    Not married       1.0"
      ]
     },
     "execution_count": 9,
     "metadata": {},
     "output_type": "execute_result"
    }
   ],
   "source": [
    "marital_counts = dx.Marital_status.unique()\n",
    "other_marital = list(marital_counts[marital_counts != 'Married'])\n",
    "\n",
    "dx['Marital_status'] = dx['Marital_status'].replace(other_marital, 'Not married')\n",
    "dx.head()"
   ]
  },
  {
   "cell_type": "code",
   "execution_count": 10,
   "id": "087e6892",
   "metadata": {
    "execution": {
     "iopub.execute_input": "2022-07-14T05:00:16.917727Z",
     "iopub.status.busy": "2022-07-14T05:00:16.917089Z",
     "iopub.status.idle": "2022-07-14T05:00:16.929749Z",
     "shell.execute_reply": "2022-07-14T05:00:16.930410Z",
     "shell.execute_reply.started": "2022-03-25T05:16:34.562252Z"
    },
    "papermill": {
     "duration": 0.068104,
     "end_time": "2022-07-14T05:00:16.930582",
     "exception": false,
     "start_time": "2022-07-14T05:00:16.862478",
     "status": "completed"
    },
    "tags": []
   },
   "outputs": [
    {
     "data": {
      "text/html": [
       "<div>\n",
       "<style scoped>\n",
       "    .dataframe tbody tr th:only-of-type {\n",
       "        vertical-align: middle;\n",
       "    }\n",
       "\n",
       "    .dataframe tbody tr th {\n",
       "        vertical-align: top;\n",
       "    }\n",
       "\n",
       "    .dataframe thead th {\n",
       "        text-align: right;\n",
       "    }\n",
       "</style>\n",
       "<table border=\"1\" class=\"dataframe\">\n",
       "  <thead>\n",
       "    <tr style=\"text-align: right;\">\n",
       "      <th></th>\n",
       "      <th>Gender</th>\n",
       "      <th>Age</th>\n",
       "      <th>Marital_status</th>\n",
       "      <th>Education</th>\n",
       "    </tr>\n",
       "  </thead>\n",
       "  <tbody>\n",
       "    <tr>\n",
       "      <th>4</th>\n",
       "      <td>Female</td>\n",
       "      <td>42</td>\n",
       "      <td>Not married</td>\n",
       "      <td>College</td>\n",
       "    </tr>\n",
       "    <tr>\n",
       "      <th>34</th>\n",
       "      <td>Female</td>\n",
       "      <td>37</td>\n",
       "      <td>Married</td>\n",
       "      <td>College</td>\n",
       "    </tr>\n",
       "    <tr>\n",
       "      <th>50</th>\n",
       "      <td>Female</td>\n",
       "      <td>39</td>\n",
       "      <td>Married</td>\n",
       "      <td>Not college</td>\n",
       "    </tr>\n",
       "    <tr>\n",
       "      <th>55</th>\n",
       "      <td>Female</td>\n",
       "      <td>45</td>\n",
       "      <td>Married</td>\n",
       "      <td>Not college</td>\n",
       "    </tr>\n",
       "    <tr>\n",
       "      <th>58</th>\n",
       "      <td>Female</td>\n",
       "      <td>44</td>\n",
       "      <td>Not married</td>\n",
       "      <td>Not college</td>\n",
       "    </tr>\n",
       "  </tbody>\n",
       "</table>\n",
       "</div>"
      ],
      "text/plain": [
       "    Gender  Age Marital_status    Education\n",
       "4   Female   42    Not married      College\n",
       "34  Female   37        Married      College\n",
       "50  Female   39        Married  Not college\n",
       "55  Female   45        Married  Not college\n",
       "58  Female   44    Not married  Not college"
      ]
     },
     "execution_count": 10,
     "metadata": {},
     "output_type": "execute_result"
    }
   ],
   "source": [
    "college_counts = dx.Education.unique()\n",
    "non_college = list(college_counts[college_counts != 'College'])\n",
    "\n",
    "dx['Education'] = dx['Education'].replace(non_college, 'Not college')\n",
    "dx.head()"
   ]
  },
  {
   "cell_type": "code",
   "execution_count": 11,
   "id": "66d92f97",
   "metadata": {
    "execution": {
     "iopub.execute_input": "2022-07-14T05:00:17.042244Z",
     "iopub.status.busy": "2022-07-14T05:00:17.041549Z",
     "iopub.status.idle": "2022-07-14T05:00:17.070696Z",
     "shell.execute_reply": "2022-07-14T05:00:17.071287Z",
     "shell.execute_reply.started": "2022-03-25T05:16:34.579714Z"
    },
    "papermill": {
     "duration": 0.086457,
     "end_time": "2022-07-14T05:00:17.071487",
     "exception": false,
     "start_time": "2022-07-14T05:00:16.985030",
     "status": "completed"
    },
    "tags": []
   },
   "outputs": [
    {
     "data": {
      "text/html": [
       "<div>\n",
       "<style scoped>\n",
       "    .dataframe tbody tr th:only-of-type {\n",
       "        vertical-align: middle;\n",
       "    }\n",
       "\n",
       "    .dataframe tbody tr th {\n",
       "        vertical-align: top;\n",
       "    }\n",
       "\n",
       "    .dataframe thead th {\n",
       "        text-align: right;\n",
       "    }\n",
       "</style>\n",
       "<table border=\"1\" class=\"dataframe\">\n",
       "  <thead>\n",
       "    <tr style=\"text-align: right;\">\n",
       "      <th>Education</th>\n",
       "      <th>College</th>\n",
       "      <th>Not college</th>\n",
       "    </tr>\n",
       "    <tr>\n",
       "      <th>Marital_status</th>\n",
       "      <th></th>\n",
       "      <th></th>\n",
       "    </tr>\n",
       "  </thead>\n",
       "  <tbody>\n",
       "    <tr>\n",
       "      <th>Married</th>\n",
       "      <td>117</td>\n",
       "      <td>275</td>\n",
       "    </tr>\n",
       "    <tr>\n",
       "      <th>Not married</th>\n",
       "      <td>109</td>\n",
       "      <td>197</td>\n",
       "    </tr>\n",
       "  </tbody>\n",
       "</table>\n",
       "</div>"
      ],
      "text/plain": [
       "Education       College  Not college\n",
       "Marital_status                      \n",
       "Married             117          275\n",
       "Not married         109          197"
      ]
     },
     "execution_count": 11,
     "metadata": {},
     "output_type": "execute_result"
    }
   ],
   "source": [
    "pd.crosstab(dx.Marital_status, dx.Education)"
   ]
  },
  {
   "cell_type": "code",
   "execution_count": 12,
   "id": "688ffb17",
   "metadata": {
    "execution": {
     "iopub.execute_input": "2022-07-14T05:00:17.181849Z",
     "iopub.status.busy": "2022-07-14T05:00:17.181200Z",
     "iopub.status.idle": "2022-07-14T05:00:17.196840Z",
     "shell.execute_reply": "2022-07-14T05:00:17.196275Z",
     "shell.execute_reply.started": "2022-03-25T05:16:34.609195Z"
    },
    "papermill": {
     "duration": 0.071507,
     "end_time": "2022-07-14T05:00:17.196998",
     "exception": false,
     "start_time": "2022-07-14T05:00:17.125491",
     "status": "completed"
    },
    "tags": []
   },
   "outputs": [
    {
     "data": {
      "text/html": [
       "<div>\n",
       "<style scoped>\n",
       "    .dataframe tbody tr th:only-of-type {\n",
       "        vertical-align: middle;\n",
       "    }\n",
       "\n",
       "    .dataframe tbody tr th {\n",
       "        vertical-align: top;\n",
       "    }\n",
       "\n",
       "    .dataframe thead th {\n",
       "        text-align: right;\n",
       "    }\n",
       "</style>\n",
       "<table border=\"1\" class=\"dataframe\">\n",
       "  <thead>\n",
       "    <tr style=\"text-align: right;\">\n",
       "      <th></th>\n",
       "      <th>proportion</th>\n",
       "      <th>size</th>\n",
       "    </tr>\n",
       "    <tr>\n",
       "      <th>Marital_status</th>\n",
       "      <th></th>\n",
       "      <th></th>\n",
       "    </tr>\n",
       "  </thead>\n",
       "  <tbody>\n",
       "    <tr>\n",
       "      <th>Married</th>\n",
       "      <td>0.298469</td>\n",
       "      <td>392</td>\n",
       "    </tr>\n",
       "    <tr>\n",
       "      <th>Not married</th>\n",
       "      <td>0.356209</td>\n",
       "      <td>306</td>\n",
       "    </tr>\n",
       "  </tbody>\n",
       "</table>\n",
       "</div>"
      ],
      "text/plain": [
       "                proportion  size\n",
       "Marital_status                  \n",
       "Married           0.298469   392\n",
       "Not married       0.356209   306"
      ]
     },
     "execution_count": 12,
     "metadata": {},
     "output_type": "execute_result"
    }
   ],
   "source": [
    "dz = dx.groupby(dx.Marital_status).agg({'Education': [lambda x : np.mean(x == 'College'), np.size]})\n",
    "dz.columns = ['proportion','size']\n",
    "dz"
   ]
  },
  {
   "cell_type": "code",
   "execution_count": 13,
   "id": "c95ca5c0",
   "metadata": {
    "execution": {
     "iopub.execute_input": "2022-07-14T05:00:17.307295Z",
     "iopub.status.busy": "2022-07-14T05:00:17.306588Z",
     "iopub.status.idle": "2022-07-14T05:00:17.311985Z",
     "shell.execute_reply": "2022-07-14T05:00:17.312575Z",
     "shell.execute_reply.started": "2022-03-25T05:16:34.626441Z"
    },
    "papermill": {
     "duration": 0.061891,
     "end_time": "2022-07-14T05:00:17.312744",
     "exception": false,
     "start_time": "2022-07-14T05:00:17.250853",
     "status": "completed"
    },
    "tags": []
   },
   "outputs": [
    {
     "data": {
      "text/plain": [
       "0.29846938775510207"
      ]
     },
     "execution_count": 13,
     "metadata": {},
     "output_type": "execute_result"
    }
   ],
   "source": [
    "# Proportion of married (1) women age 35-50 who finished college (4)\n",
    "proportion_married = dz.iloc[0,0]\n",
    "proportion_married"
   ]
  },
  {
   "cell_type": "code",
   "execution_count": 14,
   "id": "1d1f1f1e",
   "metadata": {
    "execution": {
     "iopub.execute_input": "2022-07-14T05:00:17.426352Z",
     "iopub.status.busy": "2022-07-14T05:00:17.425680Z",
     "iopub.status.idle": "2022-07-14T05:00:17.430541Z",
     "shell.execute_reply": "2022-07-14T05:00:17.431113Z",
     "shell.execute_reply.started": "2022-03-25T05:16:34.635670Z"
    },
    "papermill": {
     "duration": 0.063096,
     "end_time": "2022-07-14T05:00:17.431284",
     "exception": false,
     "start_time": "2022-07-14T05:00:17.368188",
     "status": "completed"
    },
    "tags": []
   },
   "outputs": [
    {
     "data": {
      "text/plain": [
       "0.20938541232819657"
      ]
     },
     "execution_count": 14,
     "metadata": {},
     "output_type": "execute_result"
    }
   ],
   "source": [
    "# Standard error of married\n",
    "se_married=proportion_married*(1-proportion_married)\n",
    "se_married"
   ]
  },
  {
   "cell_type": "code",
   "execution_count": 15,
   "id": "a98ad30c",
   "metadata": {
    "execution": {
     "iopub.execute_input": "2022-07-14T05:00:17.546576Z",
     "iopub.status.busy": "2022-07-14T05:00:17.545891Z",
     "iopub.status.idle": "2022-07-14T05:00:17.552096Z",
     "shell.execute_reply": "2022-07-14T05:00:17.552697Z",
     "shell.execute_reply.started": "2022-03-25T05:16:34.646747Z"
    },
    "papermill": {
     "duration": 0.066116,
     "end_time": "2022-07-14T05:00:17.552869",
     "exception": false,
     "start_time": "2022-07-14T05:00:17.486753",
     "status": "completed"
    },
    "tags": []
   },
   "outputs": [
    {
     "data": {
      "text/plain": [
       "392"
      ]
     },
     "execution_count": 15,
     "metadata": {},
     "output_type": "execute_result"
    }
   ],
   "source": [
    "n_married = dz.iloc[0,1]\n",
    "n_married"
   ]
  },
  {
   "cell_type": "code",
   "execution_count": 16,
   "id": "5f4f2aaf",
   "metadata": {
    "execution": {
     "iopub.execute_input": "2022-07-14T05:00:17.668465Z",
     "iopub.status.busy": "2022-07-14T05:00:17.667396Z",
     "iopub.status.idle": "2022-07-14T05:00:17.674204Z",
     "shell.execute_reply": "2022-07-14T05:00:17.674789Z",
     "shell.execute_reply.started": "2022-03-25T05:16:34.659381Z"
    },
    "papermill": {
     "duration": 0.065257,
     "end_time": "2022-07-14T05:00:17.674964",
     "exception": false,
     "start_time": "2022-07-14T05:00:17.609707",
     "status": "completed"
    },
    "tags": []
   },
   "outputs": [
    {
     "name": "stdout",
     "output_type": "stream",
     "text": [
      "Lower Boundary : 0.253170634562367\n",
      "Upper Boundary : 0.34376814094783714\n"
     ]
    }
   ],
   "source": [
    "# Calculate the boundaries for married female age 35-50 \n",
    "lbc_married =   proportion_married-1.96*np.sqrt((se_married/n_married))\n",
    "ubc_married =  proportion_married+1.96*np.sqrt((se_married/n_married))\n",
    "print('Lower Boundary :',lbc_married)\n",
    "print('Upper Boundary :',ubc_married)"
   ]
  },
  {
   "cell_type": "code",
   "execution_count": 17,
   "id": "5e7bb7c8",
   "metadata": {
    "execution": {
     "iopub.execute_input": "2022-07-14T05:00:17.792289Z",
     "iopub.status.busy": "2022-07-14T05:00:17.788885Z",
     "iopub.status.idle": "2022-07-14T05:00:17.795577Z",
     "shell.execute_reply": "2022-07-14T05:00:17.796114Z",
     "shell.execute_reply.started": "2022-03-25T05:16:34.672174Z"
    },
    "papermill": {
     "duration": 0.064709,
     "end_time": "2022-07-14T05:00:17.796291",
     "exception": false,
     "start_time": "2022-07-14T05:00:17.731582",
     "status": "completed"
    },
    "tags": []
   },
   "outputs": [
    {
     "data": {
      "text/plain": [
       "0.3562091503267974"
      ]
     },
     "execution_count": 17,
     "metadata": {},
     "output_type": "execute_result"
    }
   ],
   "source": [
    "# Proportion of married (1) women age 35-50 who finished college (4)\n",
    "proportion_not_married = dz.iloc[1,0]\n",
    "proportion_not_married"
   ]
  },
  {
   "cell_type": "code",
   "execution_count": 18,
   "id": "da22902f",
   "metadata": {
    "execution": {
     "iopub.execute_input": "2022-07-14T05:00:17.914109Z",
     "iopub.status.busy": "2022-07-14T05:00:17.911310Z",
     "iopub.status.idle": "2022-07-14T05:00:17.916888Z",
     "shell.execute_reply": "2022-07-14T05:00:17.917402Z",
     "shell.execute_reply.started": "2022-03-25T05:16:34.684095Z"
    },
    "papermill": {
     "duration": 0.065627,
     "end_time": "2022-07-14T05:00:17.917578",
     "exception": false,
     "start_time": "2022-07-14T05:00:17.851951",
     "status": "completed"
    },
    "tags": []
   },
   "outputs": [
    {
     "data": {
      "text/plain": [
       "0.22932419155025843"
      ]
     },
     "execution_count": 18,
     "metadata": {},
     "output_type": "execute_result"
    }
   ],
   "source": [
    "# Standard error of not married\n",
    "se_not_married=proportion_not_married*(1-proportion_not_married)\n",
    "se_not_married"
   ]
  },
  {
   "cell_type": "code",
   "execution_count": 19,
   "id": "c11e971e",
   "metadata": {
    "execution": {
     "iopub.execute_input": "2022-07-14T05:00:18.035915Z",
     "iopub.status.busy": "2022-07-14T05:00:18.032706Z",
     "iopub.status.idle": "2022-07-14T05:00:18.038961Z",
     "shell.execute_reply": "2022-07-14T05:00:18.039531Z",
     "shell.execute_reply.started": "2022-03-25T05:16:34.696070Z"
    },
    "papermill": {
     "duration": 0.065607,
     "end_time": "2022-07-14T05:00:18.039705",
     "exception": false,
     "start_time": "2022-07-14T05:00:17.974098",
     "status": "completed"
    },
    "tags": []
   },
   "outputs": [
    {
     "data": {
      "text/plain": [
       "306"
      ]
     },
     "execution_count": 19,
     "metadata": {},
     "output_type": "execute_result"
    }
   ],
   "source": [
    "n_not_married = dz.iloc[1,1]\n",
    "n_not_married"
   ]
  },
  {
   "cell_type": "code",
   "execution_count": 20,
   "id": "67ac08ef",
   "metadata": {
    "execution": {
     "iopub.execute_input": "2022-07-14T05:00:18.155006Z",
     "iopub.status.busy": "2022-07-14T05:00:18.154245Z",
     "iopub.status.idle": "2022-07-14T05:00:18.160647Z",
     "shell.execute_reply": "2022-07-14T05:00:18.161150Z",
     "shell.execute_reply.started": "2022-03-25T05:16:34.709605Z"
    },
    "papermill": {
     "duration": 0.065478,
     "end_time": "2022-07-14T05:00:18.161319",
     "exception": false,
     "start_time": "2022-07-14T05:00:18.095841",
     "status": "completed"
    },
    "tags": []
   },
   "outputs": [
    {
     "name": "stdout",
     "output_type": "stream",
     "text": [
      "Lower Boundary: 0.3025529031876515\n",
      "Upper Boundary: 0.4098653974659433\n"
     ]
    }
   ],
   "source": [
    "# Calculate the boundaries for married female age 35-50 \n",
    "lbc_unmarried = proportion_not_married-1.96*np.sqrt((se_not_married/n_not_married))\n",
    "ubc_unmarried = proportion_not_married+1.96*np.sqrt((se_not_married/n_not_married))\n",
    "print('Lower Boundary:', lbc_unmarried)\n",
    "print('Upper Boundary:', ubc_unmarried)"
   ]
  },
  {
   "cell_type": "markdown",
   "id": "1771d927",
   "metadata": {
    "papermill": {
     "duration": 0.055568,
     "end_time": "2022-07-14T05:00:18.274190",
     "exception": false,
     "start_time": "2022-07-14T05:00:18.218622",
     "status": "completed"
    },
    "tags": []
   },
   "source": [
    "**Q1a.** Identify which of the two confidence intervals is wider, and explain why this is the case."
   ]
  },
  {
   "cell_type": "code",
   "execution_count": 21,
   "id": "db6b22e4",
   "metadata": {
    "execution": {
     "iopub.execute_input": "2022-07-14T05:00:18.391092Z",
     "iopub.status.busy": "2022-07-14T05:00:18.390279Z",
     "iopub.status.idle": "2022-07-14T05:00:18.396322Z",
     "shell.execute_reply": "2022-07-14T05:00:18.396953Z",
     "shell.execute_reply.started": "2022-03-25T05:16:34.721237Z"
    },
    "papermill": {
     "duration": 0.066896,
     "end_time": "2022-07-14T05:00:18.397154",
     "exception": false,
     "start_time": "2022-07-14T05:00:18.330258",
     "status": "completed"
    },
    "tags": []
   },
   "outputs": [
    {
     "name": "stdout",
     "output_type": "stream",
     "text": [
      "Married interval: 0.09059750638547015\n",
      "Unmarried interval: 0.10731249427829181\n"
     ]
    }
   ],
   "source": [
    "# Which one is wider?\n",
    "married = ubc_married - lbc_married\n",
    "unmarried = ubc_unmarried - lbc_unmarried\n",
    "print('Married interval:', married)\n",
    "print('Unmarried interval:', unmarried)"
   ]
  },
  {
   "cell_type": "markdown",
   "id": "452060b7",
   "metadata": {
    "papermill": {
     "duration": 0.05599,
     "end_time": "2022-07-14T05:00:18.511037",
     "exception": false,
     "start_time": "2022-07-14T05:00:18.455047",
     "status": "completed"
    },
    "tags": []
   },
   "source": [
    "**Answer** : The wider interval of confidence interval is in the unmarried sample. The wider interval happen because the number of sample is fewer and the standard error has a bigger value."
   ]
  },
  {
   "cell_type": "markdown",
   "id": "c958e639",
   "metadata": {
    "papermill": {
     "duration": 0.05599,
     "end_time": "2022-07-14T05:00:18.623471",
     "exception": false,
     "start_time": "2022-07-14T05:00:18.567481",
     "status": "completed"
    },
    "tags": []
   },
   "source": [
    "**Conclusion :**\n"
   ]
  },
  {
   "cell_type": "markdown",
   "id": "7fb956ed",
   "metadata": {
    "papermill": {
     "duration": 0.055942,
     "end_time": "2022-07-14T05:00:18.735571",
     "exception": false,
     "start_time": "2022-07-14T05:00:18.679629",
     "status": "completed"
    },
    "tags": []
   },
   "source": [
    "## Problem 2\n",
    "\n",
    "1. Construct a 95% confidence interval for the proportion of smokers who are female. \n",
    "2. Construct a 95% confidence interval for the proportion of smokers who are male. \n",
    "3. Construct a 95% confidence interval for the **difference** between those two gender proportions."
   ]
  },
  {
   "cell_type": "code",
   "execution_count": 22,
   "id": "8fbbfdca",
   "metadata": {
    "execution": {
     "iopub.execute_input": "2022-07-14T05:00:18.850613Z",
     "iopub.status.busy": "2022-07-14T05:00:18.849990Z",
     "iopub.status.idle": "2022-07-14T05:00:18.856287Z",
     "shell.execute_reply": "2022-07-14T05:00:18.856874Z",
     "shell.execute_reply.started": "2022-03-25T05:16:34.732195Z"
    },
    "papermill": {
     "duration": 0.065603,
     "end_time": "2022-07-14T05:00:18.857045",
     "exception": false,
     "start_time": "2022-07-14T05:00:18.791442",
     "status": "completed"
    },
    "tags": []
   },
   "outputs": [],
   "source": [
    "# Proportion of female smoker with 95% CI and the difference between proportion of man and woman smoker with 95% CI.\n",
    "\n",
    "da[['RIAGENDR','SMQ020']].isnull().sum() # no null value, safe\n",
    "ds = da[['RIAGENDR','SMQ020']]"
   ]
  },
  {
   "cell_type": "code",
   "execution_count": 23,
   "id": "126ba890",
   "metadata": {
    "execution": {
     "iopub.execute_input": "2022-07-14T05:00:18.976171Z",
     "iopub.status.busy": "2022-07-14T05:00:18.975496Z",
     "iopub.status.idle": "2022-07-14T05:00:18.983509Z",
     "shell.execute_reply": "2022-07-14T05:00:18.984021Z",
     "shell.execute_reply.started": "2022-03-25T05:16:34.744203Z"
    },
    "papermill": {
     "duration": 0.067928,
     "end_time": "2022-07-14T05:00:18.984194",
     "exception": false,
     "start_time": "2022-07-14T05:00:18.916266",
     "status": "completed"
    },
    "tags": []
   },
   "outputs": [
    {
     "data": {
      "text/html": [
       "<div>\n",
       "<style scoped>\n",
       "    .dataframe tbody tr th:only-of-type {\n",
       "        vertical-align: middle;\n",
       "    }\n",
       "\n",
       "    .dataframe tbody tr th {\n",
       "        vertical-align: top;\n",
       "    }\n",
       "\n",
       "    .dataframe thead th {\n",
       "        text-align: right;\n",
       "    }\n",
       "</style>\n",
       "<table border=\"1\" class=\"dataframe\">\n",
       "  <thead>\n",
       "    <tr style=\"text-align: right;\">\n",
       "      <th></th>\n",
       "      <th>Gender</th>\n",
       "      <th>Smoking</th>\n",
       "    </tr>\n",
       "  </thead>\n",
       "  <tbody>\n",
       "    <tr>\n",
       "      <th>0</th>\n",
       "      <td>1</td>\n",
       "      <td>1</td>\n",
       "    </tr>\n",
       "    <tr>\n",
       "      <th>1</th>\n",
       "      <td>1</td>\n",
       "      <td>1</td>\n",
       "    </tr>\n",
       "    <tr>\n",
       "      <th>2</th>\n",
       "      <td>1</td>\n",
       "      <td>1</td>\n",
       "    </tr>\n",
       "    <tr>\n",
       "      <th>3</th>\n",
       "      <td>2</td>\n",
       "      <td>2</td>\n",
       "    </tr>\n",
       "    <tr>\n",
       "      <th>4</th>\n",
       "      <td>2</td>\n",
       "      <td>2</td>\n",
       "    </tr>\n",
       "  </tbody>\n",
       "</table>\n",
       "</div>"
      ],
      "text/plain": [
       "   Gender  Smoking\n",
       "0       1        1\n",
       "1       1        1\n",
       "2       1        1\n",
       "3       2        2\n",
       "4       2        2"
      ]
     },
     "execution_count": 23,
     "metadata": {},
     "output_type": "execute_result"
    }
   ],
   "source": [
    "ds.columns = ['Gender','Smoking']\n",
    "ds.head()"
   ]
  },
  {
   "cell_type": "code",
   "execution_count": 24,
   "id": "719a8425",
   "metadata": {
    "execution": {
     "iopub.execute_input": "2022-07-14T05:00:19.101206Z",
     "iopub.status.busy": "2022-07-14T05:00:19.100592Z",
     "iopub.status.idle": "2022-07-14T05:00:19.110721Z",
     "shell.execute_reply": "2022-07-14T05:00:19.111351Z",
     "shell.execute_reply.started": "2022-03-25T05:16:34.759146Z"
    },
    "papermill": {
     "duration": 0.070274,
     "end_time": "2022-07-14T05:00:19.111545",
     "exception": false,
     "start_time": "2022-07-14T05:00:19.041271",
     "status": "completed"
    },
    "tags": []
   },
   "outputs": [
    {
     "data": {
      "text/html": [
       "<div>\n",
       "<style scoped>\n",
       "    .dataframe tbody tr th:only-of-type {\n",
       "        vertical-align: middle;\n",
       "    }\n",
       "\n",
       "    .dataframe tbody tr th {\n",
       "        vertical-align: top;\n",
       "    }\n",
       "\n",
       "    .dataframe thead th {\n",
       "        text-align: right;\n",
       "    }\n",
       "</style>\n",
       "<table border=\"1\" class=\"dataframe\">\n",
       "  <thead>\n",
       "    <tr style=\"text-align: right;\">\n",
       "      <th></th>\n",
       "      <th>Gender</th>\n",
       "      <th>Smoking</th>\n",
       "    </tr>\n",
       "  </thead>\n",
       "  <tbody>\n",
       "    <tr>\n",
       "      <th>0</th>\n",
       "      <td>Male</td>\n",
       "      <td>1</td>\n",
       "    </tr>\n",
       "    <tr>\n",
       "      <th>1</th>\n",
       "      <td>Male</td>\n",
       "      <td>1</td>\n",
       "    </tr>\n",
       "    <tr>\n",
       "      <th>2</th>\n",
       "      <td>Male</td>\n",
       "      <td>1</td>\n",
       "    </tr>\n",
       "    <tr>\n",
       "      <th>3</th>\n",
       "      <td>Female</td>\n",
       "      <td>2</td>\n",
       "    </tr>\n",
       "    <tr>\n",
       "      <th>4</th>\n",
       "      <td>Female</td>\n",
       "      <td>2</td>\n",
       "    </tr>\n",
       "  </tbody>\n",
       "</table>\n",
       "</div>"
      ],
      "text/plain": [
       "   Gender  Smoking\n",
       "0    Male        1\n",
       "1    Male        1\n",
       "2    Male        1\n",
       "3  Female        2\n",
       "4  Female        2"
      ]
     },
     "execution_count": 24,
     "metadata": {},
     "output_type": "execute_result"
    }
   ],
   "source": [
    "ds.Gender.unique()\n",
    "ds['Gender'] = ds.Gender.replace({1 : 'Male', 2 : 'Female'})\n",
    "ds.head()"
   ]
  },
  {
   "cell_type": "code",
   "execution_count": 25,
   "id": "2148234a",
   "metadata": {
    "execution": {
     "iopub.execute_input": "2022-07-14T05:00:19.233935Z",
     "iopub.status.busy": "2022-07-14T05:00:19.230634Z",
     "iopub.status.idle": "2022-07-14T05:00:19.244017Z",
     "shell.execute_reply": "2022-07-14T05:00:19.243395Z",
     "shell.execute_reply.started": "2022-03-25T05:16:34.777245Z"
    },
    "papermill": {
     "duration": 0.074196,
     "end_time": "2022-07-14T05:00:19.244154",
     "exception": false,
     "start_time": "2022-07-14T05:00:19.169958",
     "status": "completed"
    },
    "tags": []
   },
   "outputs": [
    {
     "data": {
      "text/html": [
       "<div>\n",
       "<style scoped>\n",
       "    .dataframe tbody tr th:only-of-type {\n",
       "        vertical-align: middle;\n",
       "    }\n",
       "\n",
       "    .dataframe tbody tr th {\n",
       "        vertical-align: top;\n",
       "    }\n",
       "\n",
       "    .dataframe thead th {\n",
       "        text-align: right;\n",
       "    }\n",
       "</style>\n",
       "<table border=\"1\" class=\"dataframe\">\n",
       "  <thead>\n",
       "    <tr style=\"text-align: right;\">\n",
       "      <th></th>\n",
       "      <th>Gender</th>\n",
       "      <th>Smoking</th>\n",
       "    </tr>\n",
       "  </thead>\n",
       "  <tbody>\n",
       "    <tr>\n",
       "      <th>0</th>\n",
       "      <td>Male</td>\n",
       "      <td>Yes</td>\n",
       "    </tr>\n",
       "    <tr>\n",
       "      <th>1</th>\n",
       "      <td>Male</td>\n",
       "      <td>Yes</td>\n",
       "    </tr>\n",
       "    <tr>\n",
       "      <th>2</th>\n",
       "      <td>Male</td>\n",
       "      <td>Yes</td>\n",
       "    </tr>\n",
       "    <tr>\n",
       "      <th>3</th>\n",
       "      <td>Female</td>\n",
       "      <td>No</td>\n",
       "    </tr>\n",
       "    <tr>\n",
       "      <th>4</th>\n",
       "      <td>Female</td>\n",
       "      <td>No</td>\n",
       "    </tr>\n",
       "  </tbody>\n",
       "</table>\n",
       "</div>"
      ],
      "text/plain": [
       "   Gender Smoking\n",
       "0    Male     Yes\n",
       "1    Male     Yes\n",
       "2    Male     Yes\n",
       "3  Female      No\n",
       "4  Female      No"
      ]
     },
     "execution_count": 25,
     "metadata": {},
     "output_type": "execute_result"
    }
   ],
   "source": [
    "ds.Smoking.unique()\n",
    "ds['Smoking'] = ds.Smoking.replace({1 : 'Yes', 2 : 'No', 7 : np.nan, 9 : np.nan})\n",
    "ds.head()"
   ]
  },
  {
   "cell_type": "code",
   "execution_count": 26,
   "id": "8aae054f",
   "metadata": {
    "execution": {
     "iopub.execute_input": "2022-07-14T05:00:19.363609Z",
     "iopub.status.busy": "2022-07-14T05:00:19.362860Z",
     "iopub.status.idle": "2022-07-14T05:00:19.376502Z",
     "shell.execute_reply": "2022-07-14T05:00:19.375938Z",
     "shell.execute_reply.started": "2022-03-25T05:16:34.798105Z"
    },
    "papermill": {
     "duration": 0.074941,
     "end_time": "2022-07-14T05:00:19.376654",
     "exception": false,
     "start_time": "2022-07-14T05:00:19.301713",
     "status": "completed"
    },
    "tags": []
   },
   "outputs": [
    {
     "data": {
      "text/html": [
       "<div>\n",
       "<style scoped>\n",
       "    .dataframe tbody tr th:only-of-type {\n",
       "        vertical-align: middle;\n",
       "    }\n",
       "\n",
       "    .dataframe tbody tr th {\n",
       "        vertical-align: top;\n",
       "    }\n",
       "\n",
       "    .dataframe thead th {\n",
       "        text-align: right;\n",
       "    }\n",
       "</style>\n",
       "<table border=\"1\" class=\"dataframe\">\n",
       "  <thead>\n",
       "    <tr style=\"text-align: right;\">\n",
       "      <th></th>\n",
       "      <th>Gender</th>\n",
       "      <th>Smoking</th>\n",
       "    </tr>\n",
       "  </thead>\n",
       "  <tbody>\n",
       "    <tr>\n",
       "      <th>0</th>\n",
       "      <td>Male</td>\n",
       "      <td>Yes</td>\n",
       "    </tr>\n",
       "    <tr>\n",
       "      <th>1</th>\n",
       "      <td>Male</td>\n",
       "      <td>Yes</td>\n",
       "    </tr>\n",
       "    <tr>\n",
       "      <th>2</th>\n",
       "      <td>Male</td>\n",
       "      <td>Yes</td>\n",
       "    </tr>\n",
       "    <tr>\n",
       "      <th>3</th>\n",
       "      <td>Female</td>\n",
       "      <td>No</td>\n",
       "    </tr>\n",
       "    <tr>\n",
       "      <th>4</th>\n",
       "      <td>Female</td>\n",
       "      <td>No</td>\n",
       "    </tr>\n",
       "  </tbody>\n",
       "</table>\n",
       "</div>"
      ],
      "text/plain": [
       "   Gender Smoking\n",
       "0    Male     Yes\n",
       "1    Male     Yes\n",
       "2    Male     Yes\n",
       "3  Female      No\n",
       "4  Female      No"
      ]
     },
     "execution_count": 26,
     "metadata": {},
     "output_type": "execute_result"
    }
   ],
   "source": [
    "ds.dropna(inplace = True)\n",
    "ds.head()"
   ]
  },
  {
   "cell_type": "code",
   "execution_count": 27,
   "id": "1dd5539d",
   "metadata": {
    "execution": {
     "iopub.execute_input": "2022-07-14T05:00:19.503526Z",
     "iopub.status.busy": "2022-07-14T05:00:19.502749Z",
     "iopub.status.idle": "2022-07-14T05:00:19.519117Z",
     "shell.execute_reply": "2022-07-14T05:00:19.518608Z",
     "shell.execute_reply.started": "2022-03-25T05:16:34.817081Z"
    },
    "papermill": {
     "duration": 0.083707,
     "end_time": "2022-07-14T05:00:19.519261",
     "exception": false,
     "start_time": "2022-07-14T05:00:19.435554",
     "status": "completed"
    },
    "tags": []
   },
   "outputs": [
    {
     "data": {
      "text/html": [
       "<div>\n",
       "<style scoped>\n",
       "    .dataframe tbody tr th:only-of-type {\n",
       "        vertical-align: middle;\n",
       "    }\n",
       "\n",
       "    .dataframe tbody tr th {\n",
       "        vertical-align: top;\n",
       "    }\n",
       "\n",
       "    .dataframe thead th {\n",
       "        text-align: right;\n",
       "    }\n",
       "</style>\n",
       "<table border=\"1\" class=\"dataframe\">\n",
       "  <thead>\n",
       "    <tr style=\"text-align: right;\">\n",
       "      <th>Gender</th>\n",
       "      <th>Female</th>\n",
       "      <th>Male</th>\n",
       "    </tr>\n",
       "    <tr>\n",
       "      <th>Smoking</th>\n",
       "      <th></th>\n",
       "      <th></th>\n",
       "    </tr>\n",
       "  </thead>\n",
       "  <tbody>\n",
       "    <tr>\n",
       "      <th>No</th>\n",
       "      <td>2066</td>\n",
       "      <td>1340</td>\n",
       "    </tr>\n",
       "    <tr>\n",
       "      <th>Yes</th>\n",
       "      <td>906</td>\n",
       "      <td>1413</td>\n",
       "    </tr>\n",
       "  </tbody>\n",
       "</table>\n",
       "</div>"
      ],
      "text/plain": [
       "Gender   Female  Male\n",
       "Smoking              \n",
       "No         2066  1340\n",
       "Yes         906  1413"
      ]
     },
     "execution_count": 27,
     "metadata": {},
     "output_type": "execute_result"
    }
   ],
   "source": [
    "pd.crosstab(ds.Smoking, ds.Gender)"
   ]
  },
  {
   "cell_type": "code",
   "execution_count": 28,
   "id": "f6f2fe13",
   "metadata": {
    "execution": {
     "iopub.execute_input": "2022-07-14T05:00:19.643663Z",
     "iopub.status.busy": "2022-07-14T05:00:19.642985Z",
     "iopub.status.idle": "2022-07-14T05:00:19.656820Z",
     "shell.execute_reply": "2022-07-14T05:00:19.656249Z",
     "shell.execute_reply.started": "2022-03-25T05:16:34.843062Z"
    },
    "papermill": {
     "duration": 0.077364,
     "end_time": "2022-07-14T05:00:19.656973",
     "exception": false,
     "start_time": "2022-07-14T05:00:19.579609",
     "status": "completed"
    },
    "tags": []
   },
   "outputs": [
    {
     "data": {
      "text/html": [
       "<div>\n",
       "<style scoped>\n",
       "    .dataframe tbody tr th:only-of-type {\n",
       "        vertical-align: middle;\n",
       "    }\n",
       "\n",
       "    .dataframe tbody tr th {\n",
       "        vertical-align: top;\n",
       "    }\n",
       "\n",
       "    .dataframe thead th {\n",
       "        text-align: right;\n",
       "    }\n",
       "</style>\n",
       "<table border=\"1\" class=\"dataframe\">\n",
       "  <thead>\n",
       "    <tr style=\"text-align: right;\">\n",
       "      <th></th>\n",
       "      <th>proportion</th>\n",
       "      <th>size</th>\n",
       "    </tr>\n",
       "    <tr>\n",
       "      <th>Gender</th>\n",
       "      <th></th>\n",
       "      <th></th>\n",
       "    </tr>\n",
       "  </thead>\n",
       "  <tbody>\n",
       "    <tr>\n",
       "      <th>Female</th>\n",
       "      <td>0.304845</td>\n",
       "      <td>2972</td>\n",
       "    </tr>\n",
       "    <tr>\n",
       "      <th>Male</th>\n",
       "      <td>0.513258</td>\n",
       "      <td>2753</td>\n",
       "    </tr>\n",
       "  </tbody>\n",
       "</table>\n",
       "</div>"
      ],
      "text/plain": [
       "        proportion  size\n",
       "Gender                  \n",
       "Female    0.304845  2972\n",
       "Male      0.513258  2753"
      ]
     },
     "execution_count": 28,
     "metadata": {},
     "output_type": "execute_result"
    }
   ],
   "source": [
    "z = ds.groupby(ds.Gender).agg({'Smoking' : [lambda x: np.mean(x == 'Yes'), np.size]})\n",
    "z.columns = ['proportion', 'size']\n",
    "z"
   ]
  },
  {
   "cell_type": "code",
   "execution_count": 29,
   "id": "d207f94d",
   "metadata": {
    "execution": {
     "iopub.execute_input": "2022-07-14T05:00:19.781511Z",
     "iopub.status.busy": "2022-07-14T05:00:19.780743Z",
     "iopub.status.idle": "2022-07-14T05:00:19.784175Z",
     "shell.execute_reply": "2022-07-14T05:00:19.783658Z",
     "shell.execute_reply.started": "2022-03-25T05:16:34.864125Z"
    },
    "papermill": {
     "duration": 0.06728,
     "end_time": "2022-07-14T05:00:19.784316",
     "exception": false,
     "start_time": "2022-07-14T05:00:19.717036",
     "status": "completed"
    },
    "tags": []
   },
   "outputs": [],
   "source": [
    "#Female summary\n",
    "nf = z.iloc[0,1]\n",
    "pf = z.iloc[0,0] "
   ]
  },
  {
   "cell_type": "code",
   "execution_count": 30,
   "id": "d5dea08d",
   "metadata": {
    "execution": {
     "iopub.execute_input": "2022-07-14T05:00:19.908351Z",
     "iopub.status.busy": "2022-07-14T05:00:19.907590Z",
     "iopub.status.idle": "2022-07-14T05:00:19.911730Z",
     "shell.execute_reply": "2022-07-14T05:00:19.912244Z",
     "shell.execute_reply.started": "2022-03-25T05:16:34.875202Z"
    },
    "papermill": {
     "duration": 0.069473,
     "end_time": "2022-07-14T05:00:19.912448",
     "exception": false,
     "start_time": "2022-07-14T05:00:19.842975",
     "status": "completed"
    },
    "tags": []
   },
   "outputs": [
    {
     "name": "stdout",
     "output_type": "stream",
     "text": [
      "proportion of female smoker: 0.30484522207267833\n",
      "lbc_f: 0.2882949879861214\n",
      "ubc_f: 0.32139545615923526\n"
     ]
    }
   ],
   "source": [
    "# The proportion and lower bound confidence and upper bound confidence for female smoker\n",
    "import statsmodels.api as sm\n",
    "bound_f = sm.stats.proportion_confint(nf *pf, nf)\n",
    "print('proportion of female smoker:', pf)\n",
    "print('lbc_f:', bound_f[0])\n",
    "print('ubc_f:', bound_f[1])"
   ]
  },
  {
   "cell_type": "code",
   "execution_count": 31,
   "id": "43447287",
   "metadata": {
    "execution": {
     "iopub.execute_input": "2022-07-14T05:00:20.037383Z",
     "iopub.status.busy": "2022-07-14T05:00:20.036726Z",
     "iopub.status.idle": "2022-07-14T05:00:20.040517Z",
     "shell.execute_reply": "2022-07-14T05:00:20.041017Z",
     "shell.execute_reply.started": "2022-03-25T05:16:34.894322Z"
    },
    "papermill": {
     "duration": 0.069018,
     "end_time": "2022-07-14T05:00:20.041191",
     "exception": false,
     "start_time": "2022-07-14T05:00:19.972173",
     "status": "completed"
    },
    "tags": []
   },
   "outputs": [],
   "source": [
    "# Male summary\n",
    "nm = z.iloc[1,1]\n",
    "pm = z.iloc[1,0]"
   ]
  },
  {
   "cell_type": "code",
   "execution_count": 32,
   "id": "e4e31cfe",
   "metadata": {
    "execution": {
     "iopub.execute_input": "2022-07-14T05:00:20.164242Z",
     "iopub.status.busy": "2022-07-14T05:00:20.163614Z",
     "iopub.status.idle": "2022-07-14T05:00:20.169828Z",
     "shell.execute_reply": "2022-07-14T05:00:20.170464Z",
     "shell.execute_reply.started": "2022-03-25T05:16:34.901268Z"
    },
    "papermill": {
     "duration": 0.068542,
     "end_time": "2022-07-14T05:00:20.170635",
     "exception": false,
     "start_time": "2022-07-14T05:00:20.102093",
     "status": "completed"
    },
    "tags": []
   },
   "outputs": [
    {
     "name": "stdout",
     "output_type": "stream",
     "text": [
      "proportion of male smoker: 0.5132582637123139\n",
      "lbc_f: 0.49458749263718593\n",
      "ubc_f: 0.5319290347874418\n"
     ]
    }
   ],
   "source": [
    "# The proportion and lower bound confidence and upper bound confidence for male smoker\n",
    "bound_m = sm.stats.proportion_confint(nm *pm, nm)\n",
    "print('proportion of male smoker:', pm)\n",
    "print('lbc_f:', bound_m[0])\n",
    "print('ubc_f:', bound_m[1])"
   ]
  },
  {
   "cell_type": "code",
   "execution_count": 33,
   "id": "682f840b",
   "metadata": {
    "execution": {
     "iopub.execute_input": "2022-07-14T05:00:20.295199Z",
     "iopub.status.busy": "2022-07-14T05:00:20.294533Z",
     "iopub.status.idle": "2022-07-14T05:00:20.299609Z",
     "shell.execute_reply": "2022-07-14T05:00:20.300115Z",
     "shell.execute_reply.started": "2022-03-25T05:16:34.916007Z"
    },
    "papermill": {
     "duration": 0.069888,
     "end_time": "2022-07-14T05:00:20.300285",
     "exception": false,
     "start_time": "2022-07-14T05:00:20.230397",
     "status": "completed"
    },
    "tags": []
   },
   "outputs": [],
   "source": [
    "# The difference with interval\n",
    "difference = pm - pf\n",
    "\n",
    "# se_diff\n",
    "se_male = np.sqrt((pm*(1-pm)/nm))\n",
    "se_female = np.sqrt((pf*(1-pf)/nf))\n",
    "se_diff = np.sqrt(se_male**2+se_female**2)\n",
    "\n",
    "#lcb and ucb diff, with 95% CI the z value is 1.96\n",
    "lcb_diff = difference - (1.96*se_diff)\n",
    "ucb_diff = difference + (1.96*se_diff)"
   ]
  },
  {
   "cell_type": "code",
   "execution_count": 34,
   "id": "f41b59a8",
   "metadata": {
    "execution": {
     "iopub.execute_input": "2022-07-14T05:00:20.422444Z",
     "iopub.status.busy": "2022-07-14T05:00:20.421784Z",
     "iopub.status.idle": "2022-07-14T05:00:20.427400Z",
     "shell.execute_reply": "2022-07-14T05:00:20.428012Z",
     "shell.execute_reply.started": "2022-03-25T05:16:34.924868Z"
    },
    "papermill": {
     "duration": 0.068456,
     "end_time": "2022-07-14T05:00:20.428180",
     "exception": false,
     "start_time": "2022-07-14T05:00:20.359724",
     "status": "completed"
    },
    "tags": []
   },
   "outputs": [
    {
     "name": "stdout",
     "output_type": "stream",
     "text": [
      "Difference of smoker proportion between male and female: 0.20841304163963553 ± 0.012729881381407434\n",
      "lower bound: 0.18346247413207697\n",
      "upper bound: 0.2333636091471941\n"
     ]
    }
   ],
   "source": [
    "print('Difference of smoker proportion between male and female:', difference, \"±\", se_diff)\n",
    "print('lower bound:', lcb_diff)\n",
    "print('upper bound:', ucb_diff)"
   ]
  },
  {
   "cell_type": "code",
   "execution_count": 35,
   "id": "2c3391b9",
   "metadata": {
    "execution": {
     "iopub.execute_input": "2022-07-14T05:00:20.554628Z",
     "iopub.status.busy": "2022-07-14T05:00:20.553970Z",
     "iopub.status.idle": "2022-07-14T05:00:20.566669Z",
     "shell.execute_reply": "2022-07-14T05:00:20.567229Z",
     "shell.execute_reply.started": "2022-03-25T05:24:41.794322Z"
    },
    "papermill": {
     "duration": 0.078333,
     "end_time": "2022-07-14T05:00:20.567430",
     "exception": false,
     "start_time": "2022-07-14T05:00:20.489097",
     "status": "completed"
    },
    "tags": []
   },
   "outputs": [],
   "source": [
    "# Statistical test to determine the difference of two proportion \n",
    "ds_females = ds.loc[ds.Gender == 'Female', 'Smoking'].replace({\"Yes\": 1, \"No\": 0})\n",
    "ds_male = ds.loc[ds.Gender == 'Male', 'Smoking'].replace({\"Yes\": 1, \"No\": 0})"
   ]
  },
  {
   "cell_type": "code",
   "execution_count": 36,
   "id": "958a4598",
   "metadata": {
    "execution": {
     "iopub.execute_input": "2022-07-14T05:00:20.691914Z",
     "iopub.status.busy": "2022-07-14T05:00:20.691116Z",
     "iopub.status.idle": "2022-07-14T05:00:20.698174Z",
     "shell.execute_reply": "2022-07-14T05:00:20.698821Z",
     "shell.execute_reply.started": "2022-03-25T05:45:12.040807Z"
    },
    "papermill": {
     "duration": 0.071053,
     "end_time": "2022-07-14T05:00:20.699006",
     "exception": false,
     "start_time": "2022-07-14T05:00:20.627953",
     "status": "completed"
    },
    "tags": []
   },
   "outputs": [
    {
     "data": {
      "text/plain": [
       "(-16.42058555898443, 3.032088786691117e-59, 5723.0)"
      ]
     },
     "execution_count": 36,
     "metadata": {},
     "output_type": "execute_result"
    }
   ],
   "source": [
    "sm.stats.ttest_ind(ds_females, ds_male)"
   ]
  },
  {
   "cell_type": "markdown",
   "id": "97e02869",
   "metadata": {
    "papermill": {
     "duration": 0.059517,
     "end_time": "2022-07-14T05:00:20.818455",
     "exception": false,
     "start_time": "2022-07-14T05:00:20.758938",
     "status": "completed"
    },
    "tags": []
   },
   "source": [
    "**Q2a** Why might it be relevant to report the separate gender proportions **and** the difference between the gender proportions?\n",
    "\n",
    "**Q2b.** How does the width of the confidence interval for the difference between the gender proportions compare to the widths of the confidence intervals for the separate gender proportions?"
   ]
  },
  {
   "cell_type": "markdown",
   "id": "33a7cf18",
   "metadata": {
    "papermill": {
     "duration": 0.060084,
     "end_time": "2022-07-14T05:00:20.939278",
     "exception": false,
     "start_time": "2022-07-14T05:00:20.879194",
     "status": "completed"
    },
    "tags": []
   },
   "source": [
    "## Problem 3\n",
    "\n",
    "Construct a 95% interval for height ([BMXHT](https://wwwn.cdc.gov/Nchs/Nhanes/2015-2016/BMX_I.htm#BMXHT)) in centimeters.  Then convert height from centimeters to inches by dividing by 2.54, and \n",
    "\n",
    "construct a 95% confidence interval for height in inches.  Finally, convert the endpoints (the lower and upper confidence limits) of the confidence interval from inches to back to centimeters   "
   ]
  },
  {
   "cell_type": "code",
   "execution_count": 37,
   "id": "1d5f5497",
   "metadata": {
    "execution": {
     "iopub.execute_input": "2022-07-14T05:00:21.069857Z",
     "iopub.status.busy": "2022-07-14T05:00:21.068869Z",
     "iopub.status.idle": "2022-07-14T05:00:21.077509Z",
     "shell.execute_reply": "2022-07-14T05:00:21.078052Z",
     "shell.execute_reply.started": "2022-03-25T05:16:34.937623Z"
    },
    "papermill": {
     "duration": 0.075154,
     "end_time": "2022-07-14T05:00:21.078220",
     "exception": false,
     "start_time": "2022-07-14T05:00:21.003066",
     "status": "completed"
    },
    "tags": []
   },
   "outputs": [
    {
     "data": {
      "text/plain": [
       "0    72.637795\n",
       "1    67.480315\n",
       "2    66.968504\n",
       "3    63.346457\n",
       "4    64.921260\n",
       "Name: BMXHT, dtype: float64"
      ]
     },
     "execution_count": 37,
     "metadata": {},
     "output_type": "execute_result"
    }
   ],
   "source": [
    "dh = da['BMXHT'].dropna() #remove the null\n",
    "dh_inch = dh/2.54 #convert to inch\n",
    "dh_inch.head()"
   ]
  },
  {
   "cell_type": "code",
   "execution_count": 38,
   "id": "8083d106",
   "metadata": {
    "execution": {
     "iopub.execute_input": "2022-07-14T05:00:21.204573Z",
     "iopub.status.busy": "2022-07-14T05:00:21.203407Z",
     "iopub.status.idle": "2022-07-14T05:00:21.208292Z",
     "shell.execute_reply": "2022-07-14T05:00:21.208852Z",
     "shell.execute_reply.started": "2022-03-25T05:16:34.948879Z"
    },
    "papermill": {
     "duration": 0.070078,
     "end_time": "2022-07-14T05:00:21.209061",
     "exception": false,
     "start_time": "2022-07-14T05:00:21.138983",
     "status": "completed"
    },
    "tags": []
   },
   "outputs": [],
   "source": [
    "dh_inch_std = dh_inch.std()\n",
    "dh_cm_std = dh.std()\n",
    "n = len(dh)"
   ]
  },
  {
   "cell_type": "code",
   "execution_count": 39,
   "id": "1be40e63",
   "metadata": {
    "execution": {
     "iopub.execute_input": "2022-07-14T05:00:21.349440Z",
     "iopub.status.busy": "2022-07-14T05:00:21.348729Z",
     "iopub.status.idle": "2022-07-14T05:00:21.354036Z",
     "shell.execute_reply": "2022-07-14T05:00:21.354631Z",
     "shell.execute_reply.started": "2022-03-25T05:16:34.956147Z"
    },
    "papermill": {
     "duration": 0.077803,
     "end_time": "2022-07-14T05:00:21.354824",
     "exception": false,
     "start_time": "2022-07-14T05:00:21.277021",
     "status": "completed"
    },
    "tags": []
   },
   "outputs": [
    {
     "data": {
      "text/plain": [
       "65.41056475555557"
      ]
     },
     "execution_count": 39,
     "metadata": {},
     "output_type": "execute_result"
    }
   ],
   "source": [
    "# Mean in inch\n",
    "height_inch = dh_inch.mean()\n",
    "height_inch"
   ]
  },
  {
   "cell_type": "code",
   "execution_count": 40,
   "id": "624ffbbd",
   "metadata": {
    "execution": {
     "iopub.execute_input": "2022-07-14T05:00:21.483894Z",
     "iopub.status.busy": "2022-07-14T05:00:21.483160Z",
     "iopub.status.idle": "2022-07-14T05:00:21.488614Z",
     "shell.execute_reply": "2022-07-14T05:00:21.489142Z",
     "shell.execute_reply.started": "2022-03-25T05:16:34.967905Z"
    },
    "papermill": {
     "duration": 0.071439,
     "end_time": "2022-07-14T05:00:21.489328",
     "exception": false,
     "start_time": "2022-07-14T05:00:21.417889",
     "status": "completed"
    },
    "tags": []
   },
   "outputs": [
    {
     "data": {
      "text/plain": [
       "0.052685208096373254"
      ]
     },
     "execution_count": 40,
     "metadata": {},
     "output_type": "execute_result"
    }
   ],
   "source": [
    "# SEM height in inch\n",
    "sem_inch = dh_inch_std/np.sqrt(n)\n",
    "sem_inch"
   ]
  },
  {
   "cell_type": "code",
   "execution_count": 41,
   "id": "0d9a206f",
   "metadata": {
    "execution": {
     "iopub.execute_input": "2022-07-14T05:00:21.616853Z",
     "iopub.status.busy": "2022-07-14T05:00:21.616151Z",
     "iopub.status.idle": "2022-07-14T05:00:21.621632Z",
     "shell.execute_reply": "2022-07-14T05:00:21.622118Z",
     "shell.execute_reply.started": "2022-03-25T05:16:34.977682Z"
    },
    "papermill": {
     "duration": 0.070478,
     "end_time": "2022-07-14T05:00:21.622302",
     "exception": false,
     "start_time": "2022-07-14T05:00:21.551824",
     "status": "completed"
    },
    "tags": []
   },
   "outputs": [
    {
     "name": "stdout",
     "output_type": "stream",
     "text": [
      "65.30730174768668 65.51382776342446\n"
     ]
    }
   ],
   "source": [
    "# CI 95%, z value 1.96\n",
    "lcb_inch = height_inch - 1.96*sem_inch\n",
    "ucb_inch = height_inch + 1.96*sem_inch\n",
    "print(lcb_inch, ucb_inch)"
   ]
  },
  {
   "cell_type": "code",
   "execution_count": 42,
   "id": "94bbb67e",
   "metadata": {
    "execution": {
     "iopub.execute_input": "2022-07-14T05:00:21.750024Z",
     "iopub.status.busy": "2022-07-14T05:00:21.748995Z",
     "iopub.status.idle": "2022-07-14T05:00:21.755852Z",
     "shell.execute_reply": "2022-07-14T05:00:21.756332Z",
     "shell.execute_reply.started": "2022-03-25T05:16:34.989134Z"
    },
    "papermill": {
     "duration": 0.07262,
     "end_time": "2022-07-14T05:00:21.756529",
     "exception": false,
     "start_time": "2022-07-14T05:00:21.683909",
     "status": "completed"
    },
    "tags": []
   },
   "outputs": [
    {
     "data": {
      "text/plain": [
       "(65.30730364516884, 65.51382586594264)"
      ]
     },
     "execution_count": 42,
     "metadata": {},
     "output_type": "execute_result"
    }
   ],
   "source": [
    "# 95% confidence for height in inches \n",
    "import statsmodels.api as sm\n",
    "x = sm.stats.DescrStatsW(dh_inch).zconfint_mean()\n",
    "x"
   ]
  },
  {
   "cell_type": "code",
   "execution_count": 43,
   "id": "9b5d9e2d",
   "metadata": {
    "execution": {
     "iopub.execute_input": "2022-07-14T05:00:21.889834Z",
     "iopub.status.busy": "2022-07-14T05:00:21.888678Z",
     "iopub.status.idle": "2022-07-14T05:00:21.896960Z",
     "shell.execute_reply": "2022-07-14T05:00:21.897883Z",
     "shell.execute_reply.started": "2022-03-25T05:16:35.000321Z"
    },
    "papermill": {
     "duration": 0.078966,
     "end_time": "2022-07-14T05:00:21.898139",
     "exception": false,
     "start_time": "2022-07-14T05:00:21.819173",
     "status": "completed"
    },
    "tags": []
   },
   "outputs": [
    {
     "data": {
      "text/plain": [
       "166.14283447911131"
      ]
     },
     "execution_count": 43,
     "metadata": {},
     "output_type": "execute_result"
    }
   ],
   "source": [
    "# Mean in centimeter\n",
    "height_cm = dh.mean()\n",
    "height_cm"
   ]
  },
  {
   "cell_type": "code",
   "execution_count": 44,
   "id": "d250445b",
   "metadata": {
    "execution": {
     "iopub.execute_input": "2022-07-14T05:00:22.048811Z",
     "iopub.status.busy": "2022-07-14T05:00:22.048128Z",
     "iopub.status.idle": "2022-07-14T05:00:22.053087Z",
     "shell.execute_reply": "2022-07-14T05:00:22.053614Z",
     "shell.execute_reply.started": "2022-03-25T05:16:35.015059Z"
    },
    "papermill": {
     "duration": 0.073055,
     "end_time": "2022-07-14T05:00:22.053788",
     "exception": false,
     "start_time": "2022-07-14T05:00:21.980733",
     "status": "completed"
    },
    "tags": []
   },
   "outputs": [
    {
     "data": {
      "text/plain": [
       "0.13382042856478796"
      ]
     },
     "execution_count": 44,
     "metadata": {},
     "output_type": "execute_result"
    }
   ],
   "source": [
    "# SEM height in cm\n",
    "sem_cm = dh_cm_std/np.sqrt(n)\n",
    "sem_cm"
   ]
  },
  {
   "cell_type": "code",
   "execution_count": 45,
   "id": "fe3d9c6a",
   "metadata": {
    "execution": {
     "iopub.execute_input": "2022-07-14T05:00:22.184805Z",
     "iopub.status.busy": "2022-07-14T05:00:22.184102Z",
     "iopub.status.idle": "2022-07-14T05:00:22.190043Z",
     "shell.execute_reply": "2022-07-14T05:00:22.190610Z",
     "shell.execute_reply.started": "2022-03-25T05:16:35.027445Z"
    },
    "papermill": {
     "duration": 0.07312,
     "end_time": "2022-07-14T05:00:22.190833",
     "exception": false,
     "start_time": "2022-07-14T05:00:22.117713",
     "status": "completed"
    },
    "tags": []
   },
   "outputs": [
    {
     "name": "stdout",
     "output_type": "stream",
     "text": [
      "165.88054643912432 166.4051225190983\n"
     ]
    }
   ],
   "source": [
    "# CI 95%, z value 1.96\n",
    "lcb_cm = height_cm - 1.96*sem_cm\n",
    "ucb_cm = height_cm + 1.96*sem_cm\n",
    "print(lcb_cm, ucb_cm)"
   ]
  },
  {
   "cell_type": "code",
   "execution_count": 46,
   "id": "67281e58",
   "metadata": {
    "execution": {
     "iopub.execute_input": "2022-07-14T05:00:22.325573Z",
     "iopub.status.busy": "2022-07-14T05:00:22.324861Z",
     "iopub.status.idle": "2022-07-14T05:00:22.329076Z",
     "shell.execute_reply": "2022-07-14T05:00:22.329617Z",
     "shell.execute_reply.started": "2022-03-25T05:16:35.040363Z"
    },
    "papermill": {
     "duration": 0.073376,
     "end_time": "2022-07-14T05:00:22.329784",
     "exception": false,
     "start_time": "2022-07-14T05:00:22.256408",
     "status": "completed"
    },
    "tags": []
   },
   "outputs": [
    {
     "data": {
      "text/plain": [
       "(165.88055125872887, 166.40511769949427)"
      ]
     },
     "execution_count": 46,
     "metadata": {},
     "output_type": "execute_result"
    }
   ],
   "source": [
    "# 95% confidence for height in centimeters\n",
    "y = sm.stats.DescrStatsW(dh).zconfint_mean()\n",
    "y"
   ]
  },
  {
   "cell_type": "code",
   "execution_count": 47,
   "id": "8c106bee",
   "metadata": {
    "execution": {
     "iopub.execute_input": "2022-07-14T05:00:22.460924Z",
     "iopub.status.busy": "2022-07-14T05:00:22.460225Z",
     "iopub.status.idle": "2022-07-14T05:00:22.466343Z",
     "shell.execute_reply": "2022-07-14T05:00:22.466896Z",
     "shell.execute_reply.started": "2022-03-25T05:16:35.053384Z"
    },
    "papermill": {
     "duration": 0.072693,
     "end_time": "2022-07-14T05:00:22.467108",
     "exception": false,
     "start_time": "2022-07-14T05:00:22.394415",
     "status": "completed"
    },
    "tags": []
   },
   "outputs": [
    {
     "name": "stdout",
     "output_type": "stream",
     "text": [
      "Mean of height in inch: 65.41056475555557 ± 0.052685208096373254\n",
      "lower bound: 65.30730174768668 upper bound: 65.51382776342446\n"
     ]
    }
   ],
   "source": [
    "print('Mean of height in inch:',height_inch, \"±\", sem_inch)\n",
    "print('lower bound:',lcb_inch,'upper bound:', ucb_inch)"
   ]
  },
  {
   "cell_type": "code",
   "execution_count": 48,
   "id": "0e90541b",
   "metadata": {
    "execution": {
     "iopub.execute_input": "2022-07-14T05:00:22.600262Z",
     "iopub.status.busy": "2022-07-14T05:00:22.599609Z",
     "iopub.status.idle": "2022-07-14T05:00:22.606153Z",
     "shell.execute_reply": "2022-07-14T05:00:22.606739Z",
     "shell.execute_reply.started": "2022-03-25T05:16:35.063502Z"
    },
    "papermill": {
     "duration": 0.074792,
     "end_time": "2022-07-14T05:00:22.606921",
     "exception": false,
     "start_time": "2022-07-14T05:00:22.532129",
     "status": "completed"
    },
    "tags": []
   },
   "outputs": [
    {
     "name": "stdout",
     "output_type": "stream",
     "text": [
      "Mean of height in inch: 166.14283447911131 ± 0.13382042856478796\n",
      "lower bound: 165.88054643912432 upper bound: 166.4051225190983\n"
     ]
    }
   ],
   "source": [
    "print('Mean of height in inch:',height_cm, \"±\", sem_cm)\n",
    "print('lower bound:',lcb_cm,'upper bound:', ucb_cm)"
   ]
  },
  {
   "cell_type": "markdown",
   "id": "e133ec14",
   "metadata": {
    "papermill": {
     "duration": 0.06586,
     "end_time": "2022-07-14T05:00:22.738651",
     "exception": false,
     "start_time": "2022-07-14T05:00:22.672791",
     "status": "completed"
    },
    "tags": []
   },
   "source": [
    "__Q3a.__ Describe how the confidence interval constructed in centimeters relates to the confidence interval constructed in inches."
   ]
  },
  {
   "cell_type": "markdown",
   "id": "9f70c3fe",
   "metadata": {
    "papermill": {
     "duration": 0.065684,
     "end_time": "2022-07-14T05:00:22.868841",
     "exception": false,
     "start_time": "2022-07-14T05:00:22.803157",
     "status": "completed"
    },
    "tags": []
   },
   "source": [
    "### Problem 4\n",
    "Partition the sample based on 10-year age bands, i.e. the resulting groups will consist of people with ages from 18-28, 29-38, etc. \n",
    "Construct 95% confidence intervals for the difference between the mean BMI for females and for males within each age band."
   ]
  },
  {
   "cell_type": "code",
   "execution_count": 49,
   "id": "89d2c11f",
   "metadata": {
    "execution": {
     "iopub.execute_input": "2022-07-14T05:00:23.001858Z",
     "iopub.status.busy": "2022-07-14T05:00:23.001174Z",
     "iopub.status.idle": "2022-07-14T05:00:23.046288Z",
     "shell.execute_reply": "2022-07-14T05:00:23.046808Z",
     "shell.execute_reply.started": "2022-03-25T05:16:35.079043Z"
    },
    "papermill": {
     "duration": 0.113746,
     "end_time": "2022-07-14T05:00:23.046975",
     "exception": false,
     "start_time": "2022-07-14T05:00:22.933229",
     "status": "completed"
    },
    "tags": []
   },
   "outputs": [
    {
     "data": {
      "text/html": [
       "<div>\n",
       "<style scoped>\n",
       "    .dataframe tbody tr th:only-of-type {\n",
       "        vertical-align: middle;\n",
       "    }\n",
       "\n",
       "    .dataframe tbody tr th {\n",
       "        vertical-align: top;\n",
       "    }\n",
       "\n",
       "    .dataframe thead tr th {\n",
       "        text-align: left;\n",
       "    }\n",
       "\n",
       "    .dataframe thead tr:last-of-type th {\n",
       "        text-align: right;\n",
       "    }\n",
       "</style>\n",
       "<table border=\"1\" class=\"dataframe\">\n",
       "  <thead>\n",
       "    <tr>\n",
       "      <th></th>\n",
       "      <th colspan=\"4\" halign=\"left\">BMI</th>\n",
       "    </tr>\n",
       "    <tr>\n",
       "      <th></th>\n",
       "      <th colspan=\"2\" halign=\"left\">std</th>\n",
       "      <th colspan=\"2\" halign=\"left\">size</th>\n",
       "    </tr>\n",
       "    <tr>\n",
       "      <th>Gender</th>\n",
       "      <th>Female</th>\n",
       "      <th>Male</th>\n",
       "      <th>Female</th>\n",
       "      <th>Male</th>\n",
       "    </tr>\n",
       "    <tr>\n",
       "      <th>Age</th>\n",
       "      <th></th>\n",
       "      <th></th>\n",
       "      <th></th>\n",
       "      <th></th>\n",
       "    </tr>\n",
       "  </thead>\n",
       "  <tbody>\n",
       "    <tr>\n",
       "      <th>(18, 30]</th>\n",
       "      <td>7.745893</td>\n",
       "      <td>6.649440</td>\n",
       "      <td>603</td>\n",
       "      <td>538</td>\n",
       "    </tr>\n",
       "    <tr>\n",
       "      <th>(30, 40]</th>\n",
       "      <td>8.315608</td>\n",
       "      <td>6.622412</td>\n",
       "      <td>469</td>\n",
       "      <td>452</td>\n",
       "    </tr>\n",
       "    <tr>\n",
       "      <th>(40, 50]</th>\n",
       "      <td>8.076195</td>\n",
       "      <td>6.407076</td>\n",
       "      <td>498</td>\n",
       "      <td>398</td>\n",
       "    </tr>\n",
       "    <tr>\n",
       "      <th>(50, 60]</th>\n",
       "      <td>7.575848</td>\n",
       "      <td>5.914373</td>\n",
       "      <td>466</td>\n",
       "      <td>451</td>\n",
       "    </tr>\n",
       "    <tr>\n",
       "      <th>(60, 70]</th>\n",
       "      <td>7.604514</td>\n",
       "      <td>5.933307</td>\n",
       "      <td>437</td>\n",
       "      <td>426</td>\n",
       "    </tr>\n",
       "    <tr>\n",
       "      <th>(70, 80]</th>\n",
       "      <td>6.284968</td>\n",
       "      <td>4.974855</td>\n",
       "      <td>403</td>\n",
       "      <td>390</td>\n",
       "    </tr>\n",
       "  </tbody>\n",
       "</table>\n",
       "</div>"
      ],
      "text/plain": [
       "               BMI                      \n",
       "               std             size     \n",
       "Gender      Female      Male Female Male\n",
       "Age                                     \n",
       "(18, 30]  7.745893  6.649440    603  538\n",
       "(30, 40]  8.315608  6.622412    469  452\n",
       "(40, 50]  8.076195  6.407076    498  398\n",
       "(50, 60]  7.575848  5.914373    466  451\n",
       "(60, 70]  7.604514  5.933307    437  426\n",
       "(70, 80]  6.284968  4.974855    403  390"
      ]
     },
     "execution_count": 49,
     "metadata": {},
     "output_type": "execute_result"
    }
   ],
   "source": [
    "# Checking the variance between groups\n",
    "dbmi = da[['RIAGENDR','RIDAGEYR','BMXBMI']].dropna()\n",
    "dbmi.columns = ['Gender','Age','BMI']\n",
    "dbmi['Gender'] = dbmi.Gender.replace({1:'Male',2:'Female'})\n",
    "dbmi['Age'] = pd.cut(dbmi.Age, [18,30,40,50,60,70,80])\n",
    "dbmi.groupby(['Age','Gender']).agg({'BMI':[np.std, np.size]}).unstack()"
   ]
  },
  {
   "cell_type": "code",
   "execution_count": 50,
   "id": "3bce0230",
   "metadata": {
    "execution": {
     "iopub.execute_input": "2022-07-14T05:00:23.179701Z",
     "iopub.status.busy": "2022-07-14T05:00:23.178960Z",
     "iopub.status.idle": "2022-07-14T05:00:23.209937Z",
     "shell.execute_reply": "2022-07-14T05:00:23.210456Z",
     "shell.execute_reply.started": "2022-03-25T05:16:35.129260Z"
    },
    "papermill": {
     "duration": 0.098437,
     "end_time": "2022-07-14T05:00:23.210659",
     "exception": false,
     "start_time": "2022-07-14T05:00:23.112222",
     "status": "completed"
    },
    "tags": []
   },
   "outputs": [
    {
     "name": "stdout",
     "output_type": "stream",
     "text": [
      "(18, 30]\n",
      "pooled: (-0.11061142651112632, 1.5747294978644097)\n",
      "range: 1.6853409243755362\n",
      "(18, 30]\n",
      "pooled: (-0.10336562645567127, 1.5674836978089546)\n",
      "range: 1.6708493242646258\n",
      "(30, 40]\n",
      "pooled: (-0.2592328949244713, 1.6869542753799731)\n",
      "range: 1.9461871703044444\n",
      "(30, 40]\n",
      "pooled: (-0.25521665952637695, 1.6829380399818787)\n",
      "range: 1.9381546995082557\n",
      "(40, 50]\n",
      "pooled: (0.4632643410694307, 2.4087745683370323)\n",
      "range: 1.9455102272676017\n",
      "(40, 50]\n",
      "pooled: (0.4876803418389215, 2.384358567567541)\n",
      "range: 1.8966782257286197\n",
      "(50, 60]\n",
      "pooled: (0.6306908625345806, 2.393891610367786)\n",
      "range: 1.7632007478332055\n",
      "(50, 60]\n",
      "pooled: (0.634186871588902, 2.3903956013134646)\n",
      "range: 1.7562087297245625\n",
      "(60, 70]\n",
      "pooled: (0.770781604088166, 2.5938986206623347)\n",
      "range: 1.8231170165741686\n",
      "(60, 70]\n",
      "pooled: (0.77360609210102, 2.5910741326494806)\n",
      "range: 1.8174680405484605\n",
      "(70, 80]\n",
      "pooled: (0.3899529786338254, 1.97108920498901)\n",
      "range: 1.5811362263551847\n",
      "(70, 80]\n",
      "pooled: (0.3929267477420184, 1.968115435880817)\n",
      "range: 1.5751886881387986\n"
     ]
    }
   ],
   "source": [
    "for j, v in dbmi.groupby('Age'):\n",
    "    bmi_female = v.loc[v.Gender == 'Female','BMI'].dropna()\n",
    "    bmi_female = sm.stats.DescrStatsW(bmi_female)\n",
    "    bmi_male = v.loc[v.Gender == 'Male','BMI'].dropna()\n",
    "    bmi_male = sm.stats.DescrStatsW(bmi_male)\n",
    "    x = sm.stats.CompareMeans(bmi_female, bmi_male).zconfint_diff(usevar='pooled')\n",
    "    y = sm.stats.CompareMeans(bmi_female, bmi_male).zconfint_diff(usevar='unequal')\n",
    "    print(j)\n",
    "    print('pooled:',x)\n",
    "    print('range:', x[1]-x[0])\n",
    "    print(j)\n",
    "    print('pooled:',y)\n",
    "    print('range:', y[1]-y[0])\n"
   ]
  },
  {
   "cell_type": "code",
   "execution_count": 51,
   "id": "a8b6b0b7",
   "metadata": {
    "execution": {
     "iopub.execute_input": "2022-07-14T05:00:23.352919Z",
     "iopub.status.busy": "2022-07-14T05:00:23.346519Z",
     "iopub.status.idle": "2022-07-14T05:00:23.376406Z",
     "shell.execute_reply": "2022-07-14T05:00:23.376895Z",
     "shell.execute_reply.started": "2022-03-25T05:16:35.167560Z"
    },
    "papermill": {
     "duration": 0.099095,
     "end_time": "2022-07-14T05:00:23.377078",
     "exception": false,
     "start_time": "2022-07-14T05:00:23.277983",
     "status": "completed"
    },
    "tags": []
   },
   "outputs": [
    {
     "name": "stdout",
     "output_type": "stream",
     "text": [
      "(18, 30]\n",
      "pooled: (-0.11061142651112632, 1.5747294978644097)\n",
      "unequal: (-0.10336562645567127, 1.5674836978089546)\n",
      "\n",
      "(30, 40]\n",
      "pooled: (-0.2592328949244713, 1.6869542753799731)\n",
      "unequal: (-0.25521665952637695, 1.6829380399818787)\n",
      "\n",
      "(40, 50]\n",
      "pooled: (0.4632643410694307, 2.4087745683370323)\n",
      "unequal: (0.4876803418389215, 2.384358567567541)\n",
      "\n",
      "(50, 60]\n",
      "pooled: (0.6306908625345806, 2.393891610367786)\n",
      "unequal: (0.634186871588902, 2.3903956013134646)\n",
      "\n",
      "(60, 70]\n",
      "pooled: (0.770781604088166, 2.5938986206623347)\n",
      "unequal: (0.77360609210102, 2.5910741326494806)\n",
      "\n",
      "(70, 80]\n",
      "pooled: (0.3899529786338254, 1.97108920498901)\n",
      "unequal: (0.3929267477420184, 1.968115435880817)\n",
      "\n"
     ]
    }
   ],
   "source": [
    "for j, v in dbmi.groupby('Age'):\n",
    "    bmi_female = v.loc[v.Gender == 'Female','BMI'].dropna()\n",
    "    bmi_female = sm.stats.DescrStatsW(bmi_female)\n",
    "    bmi_male = v.loc[v.Gender == 'Male','BMI'].dropna()\n",
    "    bmi_male = sm.stats.DescrStatsW(bmi_male)\n",
    "    print(j)\n",
    "    print('pooled:', sm.stats.CompareMeans(bmi_female, bmi_male).zconfint_diff(usevar='pooled'))\n",
    "    print(\"unequal:\", sm.stats.CompareMeans(bmi_female, bmi_male).zconfint_diff(usevar='unequal'))\n",
    "    print()      \n"
   ]
  },
  {
   "cell_type": "markdown",
   "id": "7c47d53a",
   "metadata": {
    "papermill": {
     "duration": 0.068102,
     "end_time": "2022-07-14T05:00:23.510723",
     "exception": false,
     "start_time": "2022-07-14T05:00:23.442621",
     "status": "completed"
    },
    "tags": []
   },
   "source": [
    "__Q4a.__ How do the widths of these confidence intervals differ?  Provide an explanation for any substantial diferences in the confidence interval widths that you see. How do the widths of these confidence intervals differ?  Provide an explanation for any substantial diferences in the confidence interval widths that you see.\n",
    "\n",
    "In pooled or non-pooled method there are difference in confidence interval. The age range with biggest range intervals is age 30-40 "
   ]
  },
  {
   "cell_type": "markdown",
   "id": "7016f1d6",
   "metadata": {
    "papermill": {
     "duration": 0.064308,
     "end_time": "2022-07-14T05:00:23.640747",
     "exception": false,
     "start_time": "2022-07-14T05:00:23.576439",
     "status": "completed"
    },
    "tags": []
   },
   "source": [
    "### Problem 5\n",
    "Construct a 95% confidence interval for the first and second systolic blood pressure measures, and for the difference between the first and second systolic blood pressure measurements within a subject."
   ]
  },
  {
   "cell_type": "code",
   "execution_count": null,
   "id": "6a8d90b7",
   "metadata": {
    "papermill": {
     "duration": 0.064266,
     "end_time": "2022-07-14T05:00:23.769475",
     "exception": false,
     "start_time": "2022-07-14T05:00:23.705209",
     "status": "completed"
    },
    "tags": []
   },
   "outputs": [],
   "source": []
  },
  {
   "cell_type": "markdown",
   "id": "a5aa1d6c",
   "metadata": {
    "papermill": {
     "duration": 0.064659,
     "end_time": "2022-07-14T05:00:23.898700",
     "exception": false,
     "start_time": "2022-07-14T05:00:23.834041",
     "status": "completed"
    },
    "tags": []
   },
   "source": [
    "**Q5a**. Based on these confidence intervals, would you say that a difference of zero between the population mean values of the first and second systolic blood pressure measures is consistent with the data?"
   ]
  },
  {
   "cell_type": "markdown",
   "id": "470f663d",
   "metadata": {
    "papermill": {
     "duration": 0.064264,
     "end_time": "2022-07-14T05:00:24.028718",
     "exception": false,
     "start_time": "2022-07-14T05:00:23.964454",
     "status": "completed"
    },
    "tags": []
   },
   "source": [
    "**Q5b**. Discuss how the width of the confidence interval for the within-subject difference compares to the widths of the confidence intervals for the first and second measures."
   ]
  },
  {
   "cell_type": "markdown",
   "id": "425ee787",
   "metadata": {
    "papermill": {
     "duration": 0.065495,
     "end_time": "2022-07-14T05:00:24.159858",
     "exception": false,
     "start_time": "2022-07-14T05:00:24.094363",
     "status": "completed"
    },
    "tags": []
   },
   "source": [
    "### Problem 6\n",
    "Construct a 95% confidence interval for the mean difference between the average age of a smoker, and the average age of a non-smoker."
   ]
  },
  {
   "cell_type": "markdown",
   "id": "efd398d9",
   "metadata": {
    "papermill": {
     "duration": 0.066309,
     "end_time": "2022-07-14T05:00:24.291633",
     "exception": false,
     "start_time": "2022-07-14T05:00:24.225324",
     "status": "completed"
    },
    "tags": []
   },
   "source": [
    "**Q6a** Use graphical and numerical techniques to compare the variation in the ages of smokers to the variation in the ages of non-smokers."
   ]
  },
  {
   "cell_type": "markdown",
   "id": "6dc6310d",
   "metadata": {
    "papermill": {
     "duration": 0.064651,
     "end_time": "2022-07-14T05:00:24.421235",
     "exception": false,
     "start_time": "2022-07-14T05:00:24.356584",
     "status": "completed"
    },
    "tags": []
   },
   "source": [
    "**Q6b** Does it appear that uncertainty about the mean age of smokers, or uncertainty about the mean age of non-smokers contributed more to the uncertainty for the mean difference that we are focusing on here?"
   ]
  },
  {
   "cell_type": "code",
   "execution_count": null,
   "id": "21a3e5a6",
   "metadata": {
    "papermill": {
     "duration": 0.064328,
     "end_time": "2022-07-14T05:00:24.550251",
     "exception": false,
     "start_time": "2022-07-14T05:00:24.485923",
     "status": "completed"
    },
    "tags": []
   },
   "outputs": [],
   "source": []
  }
 ],
 "metadata": {
  "kernelspec": {
   "display_name": "Python 3",
   "language": "python",
   "name": "python3"
  },
  "language_info": {
   "codemirror_mode": {
    "name": "ipython",
    "version": 3
   },
   "file_extension": ".py",
   "mimetype": "text/x-python",
   "name": "python",
   "nbconvert_exporter": "python",
   "pygments_lexer": "ipython3",
   "version": "3.7.12"
  },
  "papermill": {
   "default_parameters": {},
   "duration": 22.995713,
   "end_time": "2022-07-14T05:00:25.327004",
   "environment_variables": {},
   "exception": null,
   "input_path": "__notebook__.ipynb",
   "output_path": "__notebook__.ipynb",
   "parameters": {},
   "start_time": "2022-07-14T05:00:02.331291",
   "version": "2.3.3"
  }
 },
 "nbformat": 4,
 "nbformat_minor": 5
}
